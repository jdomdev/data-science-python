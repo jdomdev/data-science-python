{
 "cells": [
  {
   "cell_type": "markdown",
   "metadata": {},
   "source": [
    "### ¿Cómo manejar JSON en Python?\n",
    "\n",
    "En este artículo, aprenderemos y comprenderemos cómo analizar, leer y escribir\n",
    "JSON en Python. Veremos diferentes conversiones de JSON en diferentes objetos\n",
    "Python junto con un bonus."
   ]
  },
  {
   "cell_type": "markdown",
   "metadata": {},
   "source": [
    "Estructura\n",
    "\n",
    "El JSON se construye sobre dos estructuras:\n",
    "\n",
    "1. Colección de pares nombre/valor. En muchos lenguajes de programación,\n",
    "solemos referirnos a ella como objeto, registro, estructura, diccionario,\n",
    "tabla hash, etc.\n",
    "\n",
    "2. Una lista ordenada de valores. En muchos lenguajes de programación, nos\n",
    "referimos a esto como un\n",
    "matriz, vector, lista o secuencia."
   ]
  },
  {
   "cell_type": "markdown",
   "metadata": {},
   "source": [
    "Sintaxis\n",
    "\n",
    "Un objeto es un conjunto desordenado de pares nombre/valor. Cada vez que un objeto\n",
    "seguido de : dos puntos y los pares nombre/valor van separados por una , coma.\n",
    "\n",
    "Por ejemplo:"
   ]
  },
  {
   "cell_type": "code",
   "execution_count": 6,
   "metadata": {},
   "outputs": [],
   "source": [
    "ejemplo = {\"nombre\": \"Jake\", \"lenguajes de programación\": [\"Python\", \"Kotlin\"]}"
   ]
  },
  {
   "cell_type": "markdown",
   "metadata": {},
   "source": [
    "### Conjunto de datos\n",
    "\n",
    "Vamos a ceñirnos a un único conjunto de datos a lo largo de este artículo por coherencia. Recomiendo marcar, bifurcar o iniciar este repositorio porque tiene uno de los mejores conjuntos de datos en formato JSON.\n",
    "\n",
    "https://github.com/jdorfman/awesome-json-datasets?tab=readme-ov-file#bitcoin\n"
   ]
  },
  {
   "cell_type": "markdown",
   "metadata": {},
   "source": [
    "### Detalles del conjunto de datos\n",
    "\n",
    "A continuación se ofrece información detallada sobre el conjunto de datos:\n",
    "Pss: Cómo he conseguido esto, por favor refiérase al ejemplo de bonificación a continuación:\n",
    "\n",
    "Nombre: Barrios en Reino Unido (Leicestershire)\n",
    "Enlace: https://data.police.uk/api/leicestershire/neighbourhoods\n",
    "RangeIndex: 6 entradas, 0 a 5\n",
    "Columnas de datos (total 2 columnas):\n",
    "\n",
    "\n",
    "| #  | Column  | Non-Null Count | Dtype  |\n",
    "|----|---------|----------------|--------|\n",
    "|  0 |    id   |   6 non-null   | object |\n",
    "|  1 |    name |   6 non-null   | object |\n",
    "dtypes: object(2)\n",
    "memory usage: 224.0+ KB\n"
   ]
  },
  {
   "cell_type": "markdown",
   "metadata": {},
   "source": [
    "### Visualización del conjunto de datos\n",
    "\n",
    "Así es como se ven los datos en formato JSON. Bueno, sé que se ve horrible, pero no todo el tiempo los conjuntos de datos se supone que debe tener un aspecto limpio; es su trabajo para que se vean bien.\n",
    "\n",
    "Sólo he tomado unas pocas instancias del conjunto de datos, debido a su tamaño."
   ]
  },
  {
   "cell_type": "markdown",
   "metadata": {},
   "source": [
    "[{\"id\":\"NC04\",\"name\":\"City Centre\"},{\"id\":\"NC66\",\"name\":\"Cultural Quarter\"},{\"id\":\"NC67\" ,\"name\":\"Riverside\"},\n",
    "{\"id\":\"NC68\",\"name\":\"Clarendon Park\"},{\"id\":\"NE06\",\"name\":\"Belgrave South\"},{\"id\":\"NE10\",\"name\":\"Belgrave North\"}]"
   ]
  },
  {
   "cell_type": "code",
   "execution_count": 7,
   "metadata": {},
   "outputs": [],
   "source": [
    "json_data = '[{\"id\":\"NC04\",\"name\":\"Centro ciudad\"}, {\"id\":\"NC66\",\"name\":\"Cultural Quarter\"}, {\"id\":\"NC67\",\"name\":\"Riverside\"}, {\"id\":\"NC68\",\"name\":\"Clarendon Park\"},{\"id\":\"NE06\",\"name\":\"Belgrave South\"},{\"id\":\"NE10\",\"name\":\"Belgrave North\"}]'"
   ]
  },
  {
   "cell_type": "markdown",
   "metadata": {},
   "source": [
    "### Importar el módulo\n",
    "\n",
    "En realidad no necesitamos instalar ningún módulo externo. Es una de esas\n",
    "bibliotecas integradas en las que no es necesario escribir nada.\n",
    "\n",
    "__pip install json__"
   ]
  },
  {
   "cell_type": "markdown",
   "metadata": {},
   "source": [
    "Así que todo lo que tienes que hacer es decir:\n",
    "\n",
    "__import json__\n",
    "\n",
    "\n",
    "Nota: Recuerda que import json es un módulo de Python, así que para usarlo necesitas importarlo primero."
   ]
  },
  {
   "cell_type": "code",
   "execution_count": 8,
   "metadata": {},
   "outputs": [],
   "source": [
    "import json as js"
   ]
  },
  {
   "cell_type": "markdown",
   "metadata": {},
   "source": [
    "### Análisis de una cadena JSON (lectura y escritura)\n",
    "\n",
    "__Conversión de una cadena JSON a Python__\n",
    "\n",
    "Análisis de una cadena JSON mediante loads() . La función loads() toma una\n",
    "cadena JSON como entrada y devuelve un diccionario o una lista.\n",
    "\n",
    "Recuerde, si hay una sola entrada en el conjunto de datos entonces el \n",
    "loads() devolverá un diccionario de lo contrario para múltiples entradas como el conjunto de datos anterior el loads() devolverá una lista.\n",
    "\n",
    "__Entrada única frente a entradas múltiples__\n",
    "\n",
    "En concreto, un conjunto de datos que sólo tiene una fila se denomina entrada única, mientras que un conjunto de datos con más de dos filas se denomina entradas múltiples. El ejemplo siguiente lo aclara mejor."
   ]
  },
  {
   "cell_type": "markdown",
   "metadata": {},
   "source": [
    "### Tabla 1\n",
    "\n",
    "| Registro | Nombre | Edad | Ciudad    |\n",
    "|----------|--------|------|-----------|\n",
    "| 0        | John   | 30   | New York  |\n",
    "\n",
    "Entrada única - Una Fila\n",
    "\n",
    "\n",
    "### Tabla 2\n",
    "\n",
    "| Registro | Nombre | Edad | Ciudad        |\n",
    "|----------|--------|------|---------------|\n",
    "| 0        | John   | 30   | New York      |\n",
    "| 1        | Depp   | 35   | New Brunswick |\n",
    "\n",
    "Múltiples entradas - Dos Filas\n",
    "\n"
   ]
  },
  {
   "cell_type": "markdown",
   "metadata": {},
   "source": [
    "### Sintaxis\n",
    "\n",
    "La sintaxis de loads() es bastante trivial. Pasamos un único parámetro la mayoría de\n",
    "las veces, que son los propios datos json."
   ]
  },
  {
   "cell_type": "code",
   "execution_count": 9,
   "metadata": {},
   "outputs": [],
   "source": [
    "import json\n",
    "variable = json.loads(json_data)"
   ]
  },
  {
   "cell_type": "markdown",
   "metadata": {},
   "source": [
    "### Ejemplo\n",
    "\n",
    "Utilicemos los datos_json almacenados anteriormente como nuestro conjunto de\n",
    "datos base y pasémoslos a loads() ."
   ]
  },
  {
   "cell_type": "markdown",
   "metadata": {},
   "source": [
    "\\# Importar módulo json"
   ]
  },
  {
   "cell_type": "code",
   "execution_count": 10,
   "metadata": {},
   "outputs": [],
   "source": [
    "import json"
   ]
  },
  {
   "cell_type": "markdown",
   "metadata": {},
   "source": [
    "\\# Pasar los datos json al método loads"
   ]
  },
  {
   "cell_type": "code",
   "execution_count": 11,
   "metadata": {},
   "outputs": [],
   "source": [
    "barrio = json.loads(json_data)"
   ]
  },
  {
   "cell_type": "markdown",
   "metadata": {},
   "source": [
    "\\# Impresión del resultado - lista"
   ]
  },
  {
   "cell_type": "code",
   "execution_count": 12,
   "metadata": {},
   "outputs": [
    {
     "name": "stdout",
     "output_type": "stream",
     "text": [
      "[{'id': 'NC04', 'name': 'Centro ciudad'}, {'id': 'NC66', 'name': 'Cultural Quarter'}, {'id': 'NC67', 'name': 'Riverside'}, {'id': 'NC68', 'name': 'Clarendon Park'}, {'id': 'NE06', 'name': 'Belgrave South'}, {'id': 'NE10', 'name': 'Belgrave North'}]\n",
      "\n"
     ]
    }
   ],
   "source": [
    "print(barrio)\n",
    "print(\"\")"
   ]
  },
  {
   "cell_type": "markdown",
   "metadata": {},
   "source": [
    "\n",
    "\\# Comprobación del tipo de la variable"
   ]
  },
  {
   "cell_type": "code",
   "execution_count": 13,
   "metadata": {},
   "outputs": [
    {
     "name": "stdout",
     "output_type": "stream",
     "text": [
      "<class 'list'>\n",
      "\n"
     ]
    }
   ],
   "source": [
    "print(type(barrio))\n",
    "print(\"\")"
   ]
  },
  {
   "cell_type": "markdown",
   "metadata": {},
   "source": [
    "\\# Acceso al primer elemento de la lista - Utilización del índice"
   ]
  },
  {
   "cell_type": "code",
   "execution_count": 14,
   "metadata": {},
   "outputs": [
    {
     "name": "stdout",
     "output_type": "stream",
     "text": [
      "{'id': 'NC04', 'name': 'Centro ciudad'}\n"
     ]
    }
   ],
   "source": [
    "print(barrio[0])"
   ]
  },
  {
   "cell_type": "markdown",
   "metadata": {},
   "source": [
    "Como he mencionado antes, la función loads() puede devolver una lista o un\n",
    "diccionario dependiendo de los datos en formato JSON. En este caso, se trata de\n",
    "una lista, por lo que la salida anterior sería:\n",
    "\n",
    "~~~\n",
    "{'id': 'NC04', 'name': 'City Centre'}, \n",
    "{'id': 'NC66', 'name': 'Cultural Quarter'}, \n",
    "{'id': 'NC67', 'name': 'Riverside'}, \n",
    "{'id':\"NC68\", \"name\": \"Clarendon Park\"}, \n",
    "{\"id\": \"NE06\", \"name\":\"Belgrave South'}, \n",
    "{'id': 'NE10', 'name': 'Belgrave North'}\n",
    "\n",
    "<class 'list'>\n",
    "\n",
    "{'id': 'NC04', 'name': 'Centro ciudad'}\n",
    "~~~"
   ]
  },
  {
   "cell_type": "markdown",
   "metadata": {},
   "source": [
    "### Conversión de datos Python a una cadena JSON\n",
    "\n",
    "Análisis de un objeto Python usando dumps() . La función dumps() toma un objeto Python como entrada y devuelve una cadena JSON."
   ]
  },
  {
   "cell_type": "markdown",
   "metadata": {},
   "source": [
    "### Sintaxis\n",
    "\n",
    "La sintaxis de dumps() es bastante trivial. Pasamos un único parámetro la mayoría de\n",
    "las veces, que es el propio objeto Python (lista)."
   ]
  },
  {
   "cell_type": "code",
   "execution_count": 15,
   "metadata": {},
   "outputs": [],
   "source": [
    "variable = json.dumps(barrio)"
   ]
  },
  {
   "cell_type": "markdown",
   "metadata": {},
   "source": [
    "### Ejemplo\n",
    "\n",
    "Utilicemos el vecindario almacenado arriba como nuestro conjunto de datos base, que\n",
    "es una lista de Python y luego pasarlo a dumps()."
   ]
  },
  {
   "cell_type": "markdown",
   "metadata": {},
   "source": [
    "\\# Importar módulo json"
   ]
  },
  {
   "cell_type": "code",
   "execution_count": 16,
   "metadata": {},
   "outputs": [],
   "source": [
    "import json"
   ]
  },
  {
   "cell_type": "markdown",
   "metadata": {},
   "source": [
    "\\# Pasar los datos python al método dumps\n"
   ]
  },
  {
   "cell_type": "code",
   "execution_count": 17,
   "metadata": {},
   "outputs": [],
   "source": [
    "lista_vecinos = json.dumps(barrio)"
   ]
  },
  {
   "cell_type": "markdown",
   "metadata": {},
   "source": [
    "\\# Comprobación del tipo de la variable"
   ]
  },
  {
   "cell_type": "code",
   "execution_count": 18,
   "metadata": {},
   "outputs": [
    {
     "name": "stdout",
     "output_type": "stream",
     "text": [
      "<class 'str'>\n",
      "\n"
     ]
    }
   ],
   "source": [
    "print(type(lista_vecinos))\n",
    "print(\"\")"
   ]
  },
  {
   "cell_type": "markdown",
   "metadata": {},
   "source": [
    "\\# Imprimir el resultado - cadena"
   ]
  },
  {
   "cell_type": "code",
   "execution_count": 19,
   "metadata": {},
   "outputs": [
    {
     "name": "stdout",
     "output_type": "stream",
     "text": [
      "[{\"id\": \"NC04\", \"name\": \"Centro ciudad\"}, {\"id\": \"NC66\", \"name\": \"Cultural Quarter\"}, {\"id\": \"NC67\", \"name\": \"Riverside\"}, {\"id\": \"NC68\", \"name\": \"Clarendon Park\"}, {\"id\": \"NE06\", \"name\": \"Belgrave South\"}, {\"id\": \"NE10\", \"name\": \"Belgrave North\"}]\n"
     ]
    }
   ],
   "source": [
    "print(lista_vecinos)"
   ]
  },
  {
   "cell_type": "markdown",
   "metadata": {},
   "source": [
    "Ahora el dumps() toma el objeto python como entrada y luego devuelve una cadena\n",
    "JSON como como se muestra a continuación:"
   ]
  },
  {
   "cell_type": "markdown",
   "metadata": {},
   "source": [
    "<clase 'str'>\n",
    "##### -----------------------------------------------------------------"
   ]
  },
  {
   "cell_type": "code",
   "execution_count": 20,
   "metadata": {},
   "outputs": [
    {
     "data": {
      "text/plain": [
       "[{'id': 'NC04', 'name': 'Centro de la ciudad'},\n",
       " {'id': 'NC66', 'name': 'Barrio Cultural'},\n",
       " {'id': 'NC67', 'name': 'Riverside'},\n",
       " {'id': 'NC68', 'name': 'Clarendon Park'},\n",
       " {'id': 'NE06', 'name': 'Belgrave Sur'},\n",
       " {'id': 'NE10', 'name': 'Belgrave North'}]"
      ]
     },
     "execution_count": 20,
     "metadata": {},
     "output_type": "execute_result"
    }
   ],
   "source": [
    "[{\"id\": \"NC04\", \"name\": \"Centro de la ciudad\"}, \n",
    " {\"id\": \"NC66\", \"name\": \"Barrio Cultural\"}, \n",
    " {\"id\": \"NC67\", \"name\": \"Riverside\"}, \n",
    " {\"id\":\"NC68\", \"name\": \"Clarendon Park\"}, \n",
    " {\"id\": \"NE06\", \"name\": \"Belgrave Sur\"}, \n",
    " {\"id\": \"NE10\", \"name\": \"Belgrave North\"}]"
   ]
  },
  {
   "cell_type": "markdown",
   "metadata": {},
   "source": [
    "### Conversión de diferentes objetos Python en cadenas JSON\n",
    "\n",
    "Ahora, para esta conversión, vamos a utilizar los objetos Python más utilizados en\n",
    "el día a día como son:"
   ]
  },
  {
   "cell_type": "markdown",
   "metadata": {},
   "source": [
    "- Diccionario\n",
    "- Lista \n",
    "- Cadena\n",
    "- Entero"
   ]
  },
  {
   "cell_type": "markdown",
   "metadata": {},
   "source": [
    "Nota: Recuerda que para la conversión de los objetos Python en una cadena JSON\n",
    "necesitas utilizar dumps()."
   ]
  },
  {
   "cell_type": "markdown",
   "metadata": {},
   "source": [
    "En primer lugar, vamos a crear cuatro tipos diferentes de variables que pueden\n",
    "contener los datos anteriores python"
   ]
  },
  {
   "cell_type": "code",
   "execution_count": 21,
   "metadata": {},
   "outputs": [],
   "source": [
    "dictt = {\"nombre\": \"John Depp\", \"edad\": 48}\n",
    "listt = [\"John\", \"Depp\", 48]\n",
    "strr = \"John Depp\"\n",
    "intt = 48"
   ]
  },
  {
   "cell_type": "markdown",
   "metadata": {},
   "source": [
    "Ahora alimentemos estos valores a dumps() y veamos la conversión a una cadena\n",
    "JSON."
   ]
  },
  {
   "cell_type": "markdown",
   "metadata": {},
   "source": [
    "\\# Objeto Python 1 - Diccionario"
   ]
  },
  {
   "cell_type": "code",
   "execution_count": 22,
   "metadata": {},
   "outputs": [
    {
     "name": "stdout",
     "output_type": "stream",
     "text": [
      "{\"nombre\": \"John Depp\", \"edad\": 48}\n"
     ]
    }
   ],
   "source": [
    "import json\n",
    "print(json.dumps(dictt))"
   ]
  },
  {
   "cell_type": "markdown",
   "metadata": {},
   "source": [
    "\\# Comprobación del tipo"
   ]
  },
  {
   "cell_type": "code",
   "execution_count": 23,
   "metadata": {},
   "outputs": [
    {
     "name": "stdout",
     "output_type": "stream",
     "text": [
      "<class 'str'>\n",
      "-----------------------------------------------------------\n"
     ]
    }
   ],
   "source": [
    "print(type(json.dumps(dictt)))\n",
    "print(\"-----------------------------------------------------------\")"
   ]
  },
  {
   "cell_type": "markdown",
   "metadata": {},
   "source": [
    "\\# Objeto Python 2 - Lista"
   ]
  },
  {
   "cell_type": "code",
   "execution_count": 24,
   "metadata": {},
   "outputs": [
    {
     "name": "stdout",
     "output_type": "stream",
     "text": [
      "[\"John\", \"Depp\", 48]\n"
     ]
    }
   ],
   "source": [
    "print(json.dumps(listt))"
   ]
  },
  {
   "cell_type": "markdown",
   "metadata": {},
   "source": [
    "\\# Comprobación del tipo"
   ]
  },
  {
   "cell_type": "code",
   "execution_count": 25,
   "metadata": {},
   "outputs": [
    {
     "name": "stdout",
     "output_type": "stream",
     "text": [
      "<class 'str'>\n",
      "-----------------------------------------------------------\n"
     ]
    }
   ],
   "source": [
    "print(type(json.dumps(listt)))\n",
    "print(\"-----------------------------------------------------------\")"
   ]
  },
  {
   "cell_type": "markdown",
   "metadata": {},
   "source": [
    "\\# Objeto Python 3 - Cadena"
   ]
  },
  {
   "cell_type": "code",
   "execution_count": 26,
   "metadata": {},
   "outputs": [
    {
     "name": "stdout",
     "output_type": "stream",
     "text": [
      "\"John Depp\"\n"
     ]
    }
   ],
   "source": [
    "print(json.dumps(strr))"
   ]
  },
  {
   "cell_type": "markdown",
   "metadata": {},
   "source": [
    "\\# Comprobación del tipo"
   ]
  },
  {
   "cell_type": "code",
   "execution_count": 27,
   "metadata": {},
   "outputs": [
    {
     "name": "stdout",
     "output_type": "stream",
     "text": [
      "<class 'str'>\n",
      "-----------------------------------------------------------\n"
     ]
    }
   ],
   "source": [
    "print(type(json.dumps(strr)))\n",
    "print(\"-----------------------------------------------------------\")"
   ]
  },
  {
   "cell_type": "markdown",
   "metadata": {},
   "source": [
    "\\#Objeto Python 4 - Entero"
   ]
  },
  {
   "cell_type": "code",
   "execution_count": 28,
   "metadata": {},
   "outputs": [
    {
     "name": "stdout",
     "output_type": "stream",
     "text": [
      "48\n"
     ]
    }
   ],
   "source": [
    "print(json.dumps(intt))"
   ]
  },
  {
   "cell_type": "markdown",
   "metadata": {},
   "source": [
    "\\# Comprobación del tipo"
   ]
  },
  {
   "cell_type": "code",
   "execution_count": 29,
   "metadata": {},
   "outputs": [
    {
     "name": "stdout",
     "output_type": "stream",
     "text": [
      "<class 'str'>\n",
      "-----------------------------------------------------------\n"
     ]
    }
   ],
   "source": [
    "print(type(json.dumps(intt)))\n",
    "print(\"-----------------------------------------------------------\")"
   ]
  },
  {
   "cell_type": "markdown",
   "metadata": {},
   "source": [
    "Ahora no importa qué, el __type__ siempre va a ser un __str__."
   ]
  },
  {
   "cell_type": "code",
   "execution_count": 30,
   "metadata": {},
   "outputs": [
    {
     "data": {
      "text/plain": [
       "48"
      ]
     },
     "execution_count": 30,
     "metadata": {},
     "output_type": "execute_result"
    }
   ],
   "source": [
    "{\"nombre\": \"John Depp\", \"edad\": 48}\n",
    "#<clase 'str'>\n",
    "#----------------------------------------------------------------------------------\n",
    "[\"John\", \"Depp\", 48]\n",
    "#<clase 'str'>\n",
    "#----------------------------------------------------------------------------------\n",
    "\"John Depp\"\n",
    "#<clase 'str'>\n",
    "#----------------------------------------------------------------------------------\n",
    "48\n",
    "#<clase 'str'>\n",
    "#----------------------------------------------------------------------------------"
   ]
  },
  {
   "cell_type": "markdown",
   "metadata": {},
   "source": [
    "Del mismo modo, intenta hacer lo mismo con objetos __float__ , __tuple__ , y __true__ , o <strong>false</strong> y hazme saber los resultados en la sección de comentarios más abajo."
   ]
  },
  {
   "cell_type": "code",
   "execution_count": 31,
   "metadata": {},
   "outputs": [],
   "source": [
    "dictt = {\"x\": 37.5, \"y\": 52.9}\n",
    "listt = [\"x\", 37.5, \"y\", 52.9]\n",
    "tuplet = (\"x\", 37.5, \"y\", 52.9)"
   ]
  },
  {
   "cell_type": "code",
   "execution_count": 32,
   "metadata": {},
   "outputs": [
    {
     "name": "stdout",
     "output_type": "stream",
     "text": [
      "{\"x\": 37.5, \"y\": 52.9}\n"
     ]
    }
   ],
   "source": [
    "import json\n",
    "print(json.dumps(dictt))"
   ]
  },
  {
   "cell_type": "code",
   "execution_count": 33,
   "metadata": {},
   "outputs": [
    {
     "name": "stdout",
     "output_type": "stream",
     "text": [
      "<class 'str'>\n",
      "-----------------------------------------------------------\n"
     ]
    }
   ],
   "source": [
    "print(type(json.dumps(dictt)))\n",
    "print(\"-----------------------------------------------------------\")"
   ]
  },
  {
   "cell_type": "code",
   "execution_count": 34,
   "metadata": {},
   "outputs": [
    {
     "name": "stdout",
     "output_type": "stream",
     "text": [
      "[\"x\", 37.5, \"y\", 52.9]\n"
     ]
    }
   ],
   "source": [
    "print(json.dumps(listt))"
   ]
  },
  {
   "cell_type": "code",
   "execution_count": 35,
   "metadata": {},
   "outputs": [
    {
     "name": "stdout",
     "output_type": "stream",
     "text": [
      "<class 'str'>\n",
      "-----------------------------------------------------------\n"
     ]
    }
   ],
   "source": [
    "print(type(json.dumps(listt)))\n",
    "print(\"-----------------------------------------------------------\")"
   ]
  },
  {
   "cell_type": "code",
   "execution_count": 36,
   "metadata": {},
   "outputs": [
    {
     "name": "stdout",
     "output_type": "stream",
     "text": [
      "[\"x\", 37.5, \"y\", 52.9]\n"
     ]
    }
   ],
   "source": [
    "print(json.dumps(tuplet))"
   ]
  },
  {
   "cell_type": "code",
   "execution_count": 37,
   "metadata": {},
   "outputs": [
    {
     "name": "stdout",
     "output_type": "stream",
     "text": [
      "<class 'str'>\n",
      "-----------------------------------------------------------\n"
     ]
    }
   ],
   "source": [
    "print(type(json.dumps(listt)))\n",
    "print(\"-----------------------------------------------------------\")"
   ]
  },
  {
   "cell_type": "code",
   "execution_count": 38,
   "metadata": {},
   "outputs": [],
   "source": [
    "dictt2 = {\"esta_casado\": False, \"tiene_hijos\": True}\n",
    "listt2 = [\"esta_casado\", False, \"tiene_hijos\", True]\n",
    "tuplet2 = (\"esta_casado\", False, \"tiene_hijos\", True)"
   ]
  },
  {
   "cell_type": "code",
   "execution_count": 39,
   "metadata": {},
   "outputs": [
    {
     "name": "stdout",
     "output_type": "stream",
     "text": [
      "{\"esta_casado\": false, \"tiene_hijos\": true}\n"
     ]
    }
   ],
   "source": [
    "print(json.dumps(dictt2))"
   ]
  },
  {
   "cell_type": "code",
   "execution_count": 40,
   "metadata": {},
   "outputs": [
    {
     "name": "stdout",
     "output_type": "stream",
     "text": [
      "<class 'str'>\n",
      "-----------------------------------------------------------\n"
     ]
    }
   ],
   "source": [
    "print(type(json.dumps(dictt2)))\n",
    "print(\"-----------------------------------------------------------\")"
   ]
  },
  {
   "cell_type": "code",
   "execution_count": 41,
   "metadata": {},
   "outputs": [
    {
     "name": "stdout",
     "output_type": "stream",
     "text": [
      "[\"esta_casado\", false, \"tiene_hijos\", true]\n"
     ]
    }
   ],
   "source": [
    "print(json.dumps(listt2))"
   ]
  },
  {
   "cell_type": "code",
   "execution_count": 42,
   "metadata": {},
   "outputs": [
    {
     "name": "stdout",
     "output_type": "stream",
     "text": [
      "<class 'str'>\n",
      "-----------------------------------------------------------\n"
     ]
    }
   ],
   "source": [
    "print(type(json.dumps(listt2)))\n",
    "print(\"-----------------------------------------------------------\")"
   ]
  },
  {
   "cell_type": "code",
   "execution_count": 43,
   "metadata": {},
   "outputs": [
    {
     "name": "stdout",
     "output_type": "stream",
     "text": [
      "[\"esta_casado\", false, \"tiene_hijos\", true]\n"
     ]
    }
   ],
   "source": [
    "print(json.dumps(tuplet2))"
   ]
  },
  {
   "cell_type": "code",
   "execution_count": 44,
   "metadata": {},
   "outputs": [
    {
     "name": "stdout",
     "output_type": "stream",
     "text": [
      "<class 'str'>\n",
      "-----------------------------------------------------------\n"
     ]
    }
   ],
   "source": [
    "print(type(json.dumps(listt2)))\n",
    "print(\"-----------------------------------------------------------\")"
   ]
  },
  {
   "cell_type": "markdown",
   "metadata": {},
   "source": [
    "#### Ejemplo de bonificación"
   ]
  },
  {
   "cell_type": "markdown",
   "metadata": {},
   "source": [
    "En este ejemplo extra, conocerás la conversión de datos JSON en un marco de\n",
    "datos. Para ello entender el escenario de abajo:\n",
    "\n",
    "__Escenario__"
   ]
  },
  {
   "cell_type": "markdown",
   "metadata": {},
   "source": [
    "Ahora piensa que estás realizando un proyecto de ciencia de datos para quien sea.\n",
    "Los detalles del proyecto no son tan importantes en este caso. Así que el primer\n",
    "paso es recopilar los datos, ahora la mayoría de las veces en Kaggle, data.gov o\n",
    "etc, los datos ya en un formato CSV, pero en este caso, su jefe o profesor le da los\n",
    "datos que se encuentra en un formato JSON (me pasó a mí). Ahora, ¿cómo hacer\n",
    "frente a esta situación?"
   ]
  },
  {
   "cell_type": "markdown",
   "metadata": {},
   "source": [
    "__Solución__"
   ]
  },
  {
   "cell_type": "markdown",
   "metadata": {},
   "source": [
    "La solución es bastante sencilla, no es ciencia de cohetes, más bien hay que utilizar\n",
    "__loads()__ y los métodos __pandas.DataFrame()__. Para este ejemplo, utilizaré el conjunto de datos Neighbourhoods in UK (Leicestershire)."
   ]
  },
  {
   "cell_type": "markdown",
   "metadata": {},
   "source": [
    "\\# Importar tanto JSON como la biblioteca Pandas"
   ]
  },
  {
   "cell_type": "code",
   "execution_count": null,
   "metadata": {},
   "outputs": [],
   "source": [
    "import json\n",
    "import pandas as pd"
   ]
  },
  {
   "cell_type": "markdown",
   "metadata": {},
   "source": [
    "\\# Utiliza el método `loads()` para cargar los datos JSON"
   ]
  },
  {
   "cell_type": "code",
   "execution_count": 46,
   "metadata": {},
   "outputs": [],
   "source": [
    "df = json.loads(json_data)"
   ]
  },
  {
   "cell_type": "markdown",
   "metadata": {},
   "source": [
    "\\# Pasar los datos JSON generados a un dataframe pandas"
   ]
  },
  {
   "cell_type": "code",
   "execution_count": 47,
   "metadata": {},
   "outputs": [
    {
     "name": "stdout",
     "output_type": "stream",
     "text": [
      "     id              name\n",
      "0  NC04     Centro ciudad\n",
      "1  NC66  Cultural Quarter\n",
      "2  NC67         Riverside\n",
      "3  NC68    Clarendon Park\n",
      "4  NE06    Belgrave South\n",
      "5  NE10    Belgrave North\n",
      "-----------------------------------------------------------\n"
     ]
    }
   ],
   "source": [
    "df = pd.DataFrame(df)\n",
    "print(df)\n",
    "print(\"-----------------------------------------------------------\")"
   ]
  },
  {
   "cell_type": "markdown",
   "metadata": {},
   "source": [
    "\\# Comprobación del tipo de datos"
   ]
  },
  {
   "cell_type": "code",
   "execution_count": 48,
   "metadata": {},
   "outputs": [
    {
     "name": "stdout",
     "output_type": "stream",
     "text": [
      "<class 'pandas.core.frame.DataFrame'>\n"
     ]
    }
   ],
   "source": [
    "print(type(df))"
   ]
  },
  {
   "cell_type": "markdown",
   "metadata": {},
   "source": [
    "Después de ejecutar el código anterior, el resultado será un marco de datos de\n",
    "aspecto ordenado"
   ]
  },
  {
   "cell_type": "markdown",
   "metadata": {},
   "source": [
    "\n",
    "|# |  id    |     name          |\n",
    "|--|--------|-------------------|\n",
    "|0 | NC04   | Centro ciudad     |\n",
    "|1 | NC66   | Cultural Quarter  |\n",
    "|2 | NC67   | Riverside         |\n",
    "|3 | NC68   | Clarendon Park    |\n",
    "|4 | NE06   | Belgrave South    |\n",
    "|5 | NE10   | Belgrave North    |\n",
    "\n",
    "Datos JSON en pandas dataframe"
   ]
  },
  {
   "cell_type": "markdown",
   "metadata": {},
   "source": [
    "El tipo de datos ahora será como se muestra a continuación:"
   ]
  },
  {
   "cell_type": "markdown",
   "metadata": {},
   "source": [
    "<clase '__pandas__.core.frame.DataFrame'>"
   ]
  },
  {
   "cell_type": "markdown",
   "metadata": {},
   "source": [
    "Así es como puedes convertir unos datos JSON de aspecto poco atractivo en un\n",
    "DataFrame de aspecto atractivo. Para obtener más información sobre el\n",
    "conjunto de datos utilice __df.info()__ , así es como obtuve \"Detalles del conjunto de\n",
    "datos\"."
   ]
  },
  {
   "cell_type": "markdown",
   "metadata": {},
   "source": [
    "#### Conclusión\n",
    "\n",
    "Enhorabuena chicos habéis completado con éxito la lectura/implementación de\n",
    "este bonito artículo \"¿Cómo manejar JSON en Python?\". Este tutorial cubre todos los\n",
    "conceptos junto con ejemplos específicos para entender el manejo de datos JSON\n",
    "en Python. Si tienen algún comentario o sugerencia, por favor usen la sección de\n",
    "comentarios sabiamente. Espero que hayan aprendido algo nuevo hoy. Estén\n",
    "atentos a más actualizaciones. Hasta entonces, hasta la próxima. ¡Que tengan un\n",
    "buen día y cuídense!"
   ]
  }
 ],
 "metadata": {
  "kernelspec": {
   "display_name": "Python 3",
   "language": "python",
   "name": "python3"
  },
  "language_info": {
   "codemirror_mode": {
    "name": "ipython",
    "version": 3
   },
   "file_extension": ".py",
   "mimetype": "text/x-python",
   "name": "python",
   "nbconvert_exporter": "python",
   "pygments_lexer": "ipython3",
   "version": "3.11.9"
  }
 },
 "nbformat": 4,
 "nbformat_minor": 2
}
