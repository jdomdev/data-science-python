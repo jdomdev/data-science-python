{
 "cells": [
  {
   "cell_type": "code",
   "execution_count": 12,
   "metadata": {},
   "outputs": [
    {
     "name": "stdout",
     "output_type": "stream",
     "text": [
      "ERROR: La entrada u NO es número REAL.\n",
      "ERROR: La entrada g NO es número REAL.\n",
      "La entrada 2.6 ES un número REAL.\n",
      "La entrada 3.7 ES un número REAL.\n",
      "La SUMA: 2.6 + 3.7 = 6.300000000000001\n",
      "La RESTA: 2.6 - 3.7 = -1.1\n",
      "La MULTIPLICACIÓN entre FLOATS: 2.6 * 3.7 = 9.620000000000001\n",
      "La MULTIPLICACIÓN entre ENTEROS: 2 * 3 = 6\n",
      "La DIVISIÓN: 2.6 / 3.7 = 0.7027027027027027\n",
      "El MÓDULO: 2.6 % 3.7 = 2.6\n",
      "El MÓDULO: 2.6 ** 3.7 = 34.308472886662344\n"
     ]
    }
   ],
   "source": [
    "\n",
    "\n",
    "def comprueba_entrada(prompt):\n",
    "    while True:\n",
    "        num = input(prompt)\n",
    "        try:\n",
    "            num = float(num)\n",
    "            print(f\"La entrada {num} ES un número REAL.\")\n",
    "            return num\n",
    "        except ValueError:\n",
    "            print(f\"ERROR: La entrada {num} NO es número REAL.\")\n",
    "\n",
    "def calculos(num1, num2):\n",
    "    print(f\"La SUMA: {num1} + {num2} = {num1 + num2}\")\n",
    "    print(f\"La RESTA: {num1} - {num2} = {num1 - num2}\")\n",
    "    print(f\"La MULTIPLICACIÓN entre FLOATS: {num1} * {num2} = {num1 * num2}\")\n",
    "    num1_int = float_a_int(num1)\n",
    "    num2_int = float_a_int(num2)\n",
    "    print(f\"La MULTIPLICACIÓN entre ENTEROS: {num1_int} * {num2_int} = {num1_int * num2_int}\")\n",
    "    print(f\"La DIVISIÓN: {num1} / {num2} = {num1 / num2}\")\n",
    "    print(f\"El MÓDULO: {num1} % {num2} = {num1 % num2}\")\n",
    "    print(f\"El MÓDULO: {num1} ** {num2} = {num1 ** num2}\")\n",
    "\n",
    "def float_a_int(numero):\n",
    "    return int(numero)    \n",
    "\n",
    "num1 = comprueba_entrada(\"Introduzca el PRIMER número REAL: \")\n",
    "num2 = comprueba_entrada(\"Introduzca el SEGUNDO número REAL: \")\n",
    "calculos(num1,num2)"
   ]
  }
 ],
 "metadata": {
  "kernelspec": {
   "display_name": "Curso_Python",
   "language": "python",
   "name": "python3"
  },
  "language_info": {
   "codemirror_mode": {
    "name": "ipython",
    "version": 3
   },
   "file_extension": ".py",
   "mimetype": "text/x-python",
   "name": "python",
   "nbconvert_exporter": "python",
   "pygments_lexer": "ipython3",
   "version": "3.11.9"
  }
 },
 "nbformat": 4,
 "nbformat_minor": 2
}
