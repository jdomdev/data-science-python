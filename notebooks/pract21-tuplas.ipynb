{
 "cells": [
  {
   "cell_type": "markdown",
   "metadata": {},
   "source": [
    "### Practica # 21 – Tuplas. \n",
    "#### (Resolver 10 de 15)"
   ]
  },
  {
   "cell_type": "markdown",
   "metadata": {},
   "source": [
    "#### 1. Crea una tupla con números enteros con algunos de ellos repetidos, pide un número por teclado e indica cuantas veces se repite si estuviese en la tupla."
   ]
  },
  {
   "cell_type": "code",
   "execution_count": 8,
   "metadata": {},
   "outputs": [
    {
     "name": "stdout",
     "output_type": "stream",
     "text": [
      "El número introducido '5' se repite '2' veces en la Tupla\n"
     ]
    }
   ],
   "source": [
    "numeros = (2,3,5,6,4,3,2,1,2,3,4,5)\n",
    "contador = 0\n",
    "numero = int(input(\"Introdzca el número a buscar...\"))\n",
    "for i in numeros:\n",
    "    if i == numero:\n",
    "        contador += 1\n",
    "print(f\"El número introducido '{numero}' se repite '{contador}' veces en la Tupla\")"
   ]
  },
  {
   "cell_type": "markdown",
   "metadata": {},
   "source": [
    "#### 2. Crea una tupla con números e indica el número con mayor valor y el de menor valor. "
   ]
  },
  {
   "cell_type": "code",
   "execution_count": 18,
   "metadata": {},
   "outputs": [
    {
     "name": "stdout",
     "output_type": "stream",
     "text": [
      "El número MAYOR es '12' y el menor es '-3' en la Tupla\n"
     ]
    }
   ],
   "source": [
    "numeros = (2,3,5,6,4,-3,9,1,2,12,7,4,5)\n",
    "mayor = 0\n",
    "menor = 0\n",
    "for i in numeros:\n",
    "    if i > mayor:\n",
    "        mayor = i\n",
    "    elif i < menor:\n",
    "        menor = i\n",
    "print(f\"El número MAYOR es '{mayor}' y el menor es '{menor}' en la Tupla\")"
   ]
  },
  {
   "cell_type": "markdown",
   "metadata": {},
   "source": [
    "#### 3. Crea una tupla con valores ya predefinidos del 1 al 10, pide un índice por teclado y muestra los valores de la tupla."
   ]
  },
  {
   "cell_type": "code",
   "execution_count": 25,
   "metadata": {},
   "outputs": [
    {
     "name": "stdout",
     "output_type": "stream",
     "text": [
      "El índice '9' contiene el valor '10'\n"
     ]
    }
   ],
   "source": [
    "numeros = (1,2,3,4,5,6,7,8,9,10)\n",
    "indice = int(input(\"Introdzca un INDICE a buscar...\"))\n",
    "\n",
    "for i in range(0, numeros.__len__()):\n",
    "    if i == indice:\n",
    "        print(f\"El índice '{indice}' contiene el valor '{numeros[i]}'\")\n",
    "        break"
   ]
  },
  {
   "cell_type": "markdown",
   "metadata": {},
   "source": [
    "#### 4. Escribir un código donde se le pide al usuario almacenar en una tupla el día, mes y año (todos en formato entero) y luego que imprima dicha fecha en el formato: \"03/27/2023\"."
   ]
  },
  {
   "cell_type": "code",
   "execution_count": 30,
   "metadata": {},
   "outputs": [
    {
     "name": "stdout",
     "output_type": "stream",
     "text": [
      "27/3/1978"
     ]
    }
   ],
   "source": [
    "dia = int(input(\"Introduzca el DÍA del mes...\"))\n",
    "mes = int(input(\"Introduzca el MES en número...\"))\n",
    "anio = int(input(\"Introduzca el AÑO con 4 dígitos...\"))\n",
    "\n",
    "fecha = (dia, mes, anio)\n",
    "for i in fecha:\n",
    "    if i != anio:\n",
    "        print(i, end=\"/\")\n",
    "    else:\n",
    "        print(i, end=\"\")"
   ]
  },
  {
   "cell_type": "markdown",
   "metadata": {},
   "source": [
    "#### 5. Definir una tupla con tes valores enteros. Convertir el contenido de la tupla a tipo lista. Modificar la lista y luego convertir la lista en tupla."
   ]
  },
  {
   "cell_type": "code",
   "execution_count": 33,
   "metadata": {},
   "outputs": [
    {
     "name": "stdout",
     "output_type": "stream",
     "text": [
      "Impresión de la TUPLA: '(1, 2, 3)'\n",
      "Transformamos tupla a LISTA e imprimimos: '[1, 2, 3]'\n",
      "Transformamos lista a TUPLA e imprimimos: '(1, 2, 3)'\n"
     ]
    }
   ],
   "source": [
    "tupla = (1, 2, 3)\n",
    "print(f\"Impresión de la TUPLA: '{tupla}'\")\n",
    "lista = list(tupla)\n",
    "print(f\"Transformamos tupla a LISTA e imprimimos: '{lista}'\")\n",
    "print(f\"Transformamos lista a TUPLA e imprimimos: '{tuple(lista)}'\")\n"
   ]
  },
  {
   "cell_type": "markdown",
   "metadata": {},
   "source": [
    "#### 6. Crear una tupla y luego imprimirla en orden inverso en otra variable(otra tupla)."
   ]
  },
  {
   "cell_type": "code",
   "execution_count": 38,
   "metadata": {},
   "outputs": [
    {
     "name": "stdout",
     "output_type": "stream",
     "text": [
      "10\n",
      "9\n",
      "8\n",
      "7\n",
      "6\n",
      "5\n",
      "4\n",
      "3\n",
      "2\n",
      "1\n"
     ]
    }
   ],
   "source": [
    "tupla = (1, 2, 3, 4, 5, 6, 7, 8, 9, 10)\n",
    "tupla_rev = reversed(tupla)\n",
    "for i in tupla_rev:\n",
    "    print(i)"
   ]
  },
  {
   "cell_type": "markdown",
   "metadata": {},
   "source": [
    "#### 7. Dada la tupla: \"tuple1 = (\"Orange\", [10, 20, 30], (5, 15, 25))\". Acceder al valor '20' e imprimir en una nueva variable."
   ]
  },
  {
   "cell_type": "code",
   "execution_count": 41,
   "metadata": {},
   "outputs": [
    {
     "name": "stdout",
     "output_type": "stream",
     "text": [
      "Imprimimos el número veinte de la lista: '20'\n",
      "Hemos encontrado el número veinte: '20'\n"
     ]
    }
   ],
   "source": [
    "tuple1 = (\"Orange\", [10, 20, 30], (5, 15, 25))\n",
    "cadena, lista, tupla2 = tuple1\n",
    "\n",
    "print(f\"Imprimimos el número veinte de la lista: '{lista[1]}'\")\n",
    "for i in lista:\n",
    "    if i == 20:\n",
    "        print(f\"Hemos encontrado el número veinte: '{i}'\")"
   ]
  },
  {
   "cell_type": "markdown",
   "metadata": {},
   "source": [
    "#### 8. Escriba un programa para descomprimir la siguiente tupla en cuatro variables e imprimir cada variable: \"tuple1 = (10, 20, 30, 40)\"\n",
    "\n",
    "#### Salida esperada\n",
    "#### tuple1 = (10, 20, 30, 40)\n",
    "#### Your code\n",
    "#### print(a) # should print 10\n",
    "#### print(b) # should print 20\n",
    "#### print(c) # should print 30\n",
    "#### print(d) # should print 40"
   ]
  },
  {
   "cell_type": "code",
   "execution_count": 42,
   "metadata": {},
   "outputs": [
    {
     "name": "stdout",
     "output_type": "stream",
     "text": [
      "10\n",
      "20\n",
      "30\n",
      "40\n"
     ]
    }
   ],
   "source": [
    "tuple1 = (10, 20, 30, 40)\n",
    "a,b,c,d = tuple1\n",
    "print(a)\n",
    "print(b)\n",
    "print(c)\n",
    "print(d)"
   ]
  },
  {
   "cell_type": "markdown",
   "metadata": {},
   "source": [
    "#### 9. Intercambiar dos tuplas dadas en Python:\n",
    "\n",
    "#### tuple1 = (11, 22)\n",
    "#### tuple2 = (99, 88)\n",
    "#### Salida esperada:\n",
    "#### tuple1 = (99, 88)\n",
    "#### tuple2 = (11, 22)"
   ]
  },
  {
   "cell_type": "code",
   "execution_count": 48,
   "metadata": {},
   "outputs": [
    {
     "name": "stdout",
     "output_type": "stream",
     "text": [
      "tuple1 = (99, 88)\n",
      "tuple2 = (11, 22)\n"
     ]
    }
   ],
   "source": [
    "tuple1 = (11, 22)\n",
    "tuple2 = (99, 88)\n",
    "tuple1, tuple2 = tuple2, tuple1\n",
    "print(f\"tuple1 = {tuple1}\")\n",
    "print(f\"tuple2 = {tuple2}\")\n",
    "\n",
    "# Funciona:\n",
    "#a, b = tuple1\n",
    "#c, d = tuple2\n",
    "#nueva_tupla1 = (c, d)\n",
    "#nueva_tupla2 = (a, b)\n",
    "#print(f\"tuple1 = {nueva_tupla1}\")\n",
    "#print(f\"tuple2 = {nueva_tupla2}\")\n"
   ]
  },
  {
   "cell_type": "markdown",
   "metadata": {},
   "source": [
    "#### 10. ¿Cuántas veces aparece 777 en la siguiente tupla? Escribir código\n",
    "#### tt =(55, 6, 777, 54, 6, 76, 7777, 1, 777, 2, 6)"
   ]
  },
  {
   "cell_type": "code",
   "execution_count": 57,
   "metadata": {},
   "outputs": [
    {
     "name": "stdout",
     "output_type": "stream",
     "text": [
      "'777' aparece '3' veces en la tupla '(55, 6, 777, 54, 6, 76, 7777, 1, 777, 2, 6)'\n"
     ]
    }
   ],
   "source": [
    "tt =(55, 6, 777, 54, 6, 76, 7777, 1, 777, 2, 6)\n",
    "contador = sum(str(numero).count('777') for numero in tt)\n",
    "print(f\"'777' aparece '{contador}' veces en la tupla '{tt}'\")      "
   ]
  }
 ],
 "metadata": {
  "kernelspec": {
   "display_name": "Curso_Python",
   "language": "python",
   "name": "python3"
  },
  "language_info": {
   "codemirror_mode": {
    "name": "ipython",
    "version": 3
   },
   "file_extension": ".py",
   "mimetype": "text/x-python",
   "name": "python",
   "nbconvert_exporter": "python",
   "pygments_lexer": "ipython3",
   "version": "3.11.9"
  }
 },
 "nbformat": 4,
 "nbformat_minor": 2
}
