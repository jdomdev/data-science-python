{
 "cells": [
  {
   "cell_type": "markdown",
   "metadata": {},
   "source": [
    "## PRÁCTICA 17\n",
    "### CONDICIONAL IF CON OPERADORES LÓGICOS"
   ]
  },
  {
   "cell_type": "markdown",
   "metadata": {},
   "source": [
    "#### 1. Escribe expresiones condicionales para:\n",
    "##### If a < 10 b = 20, else b = 30\n",
    "##### Print 'Morning' if time < 12, otherwise print 'Afternoon'\n",
    "##### if marks >= 70, set remarks to True, otherwise False"
   ]
  },
  {
   "cell_type": "code",
   "execution_count": null,
   "metadata": {},
   "outputs": [],
   "source": [
    "a = int(input(\"Introduzca un número...\"))\n",
    "if a < 10:\n",
    "    b = 20\n",
    "else:\n",
    "    b = 30"
   ]
  },
  {
   "cell_type": "code",
   "execution_count": null,
   "metadata": {},
   "outputs": [],
   "source": [
    "time = int(input(\"Introduzca la hora...\"))\n",
    "if time < 12:\n",
    "    print(\"Morning\")\n",
    "else:\n",
    "    print(\"Afternoon\")    "
   ]
  },
  {
   "cell_type": "code",
   "execution_count": null,
   "metadata": {},
   "outputs": [],
   "source": [
    "remarks = False\n",
    "marks = int(input(\"Introduzca la marca...\"))\n",
    "if marks >= 70:\n",
    "    remarks = True"
   ]
  },
  {
   "cell_type": "markdown",
   "metadata": {},
   "source": [
    "#### 2. Vuelva a escribir el siguiente fragmento de código en 2 líneas:\n",
    "x = 3\n",
    "y = 3.0\n",
    "if x == y:\n",
    "    print('x and y are equal')\n",
    "else:\n",
    "    print('x and y are not equal')"
   ]
  },
  {
   "cell_type": "code",
   "execution_count": 2,
   "metadata": {},
   "outputs": [
    {
     "name": "stdout",
     "output_type": "stream",
     "text": [
      "x and y are not equal\n"
     ]
    }
   ],
   "source": [
    "x, y = 0, 3.0\n",
    "print('x and y are equal' if x == y else 'x and y are not equal')\n"
   ]
  },
  {
   "cell_type": "markdown",
   "metadata": {},
   "source": [
    "#### 3. ¿Cuál será el resultado de los siguientes programas?. Explicar en una celda de texto o en comentario que hace cada código."
   ]
  },
  {
   "cell_type": "markdown",
   "metadata": {},
   "source": [
    "(a)"
   ]
  },
  {
   "cell_type": "code",
   "execution_count": 5,
   "metadata": {},
   "outputs": [
    {
     "name": "stdout",
     "output_type": "stream",
     "text": [
      "4 0 4 -1\n"
     ]
    }
   ],
   "source": [
    "i, j, k = 4, -1, 0\n",
    "w = i or j or k\n",
    "x = i and j and k\n",
    "y = i or j and k \n",
    "z = i and j or k\n",
    "print(w, x, y, z)"
   ]
  },
  {
   "cell_type": "markdown",
   "metadata": {},
   "source": [
    "(b)"
   ]
  },
  {
   "cell_type": "code",
   "execution_count": 7,
   "metadata": {},
   "outputs": [
    {
     "name": "stdout",
     "output_type": "stream",
     "text": [
      "False\n"
     ]
    }
   ],
   "source": [
    "a = 10\n",
    "a = not not a\n",
    "print(a)"
   ]
  },
  {
   "cell_type": "markdown",
   "metadata": {},
   "source": [
    "(c)"
   ]
  },
  {
   "cell_type": "code",
   "execution_count": 8,
   "metadata": {},
   "outputs": [
    {
     "name": "stdout",
     "output_type": "stream",
     "text": [
      "biggest = 45\n"
     ]
    }
   ],
   "source": [
    "x, y, z = 20, 40, 45\n",
    "if x > y and x > z:\n",
    "    print('biggest = ' + str(x))\n",
    "elif y > x and y > z:    \n",
    "    print('biggest = ' + str(y))\n",
    "elif z > x and z > y:    \n",
    "    print('biggest = ' + str(z))"
   ]
  },
  {
   "cell_type": "markdown",
   "metadata": {},
   "source": [
    "(d)"
   ]
  },
  {
   "cell_type": "code",
   "execution_count": 9,
   "metadata": {},
   "outputs": [
    {
     "name": "stdout",
     "output_type": "stream",
     "text": [
      "500\n"
     ]
    }
   ],
   "source": [
    "num = 30\n",
    "k = 100 if num <= 10 else 500\n",
    "print(k)"
   ]
  },
  {
   "cell_type": "markdown",
   "metadata": {},
   "source": [
    "(e)"
   ]
  },
  {
   "cell_type": "code",
   "execution_count": 10,
   "metadata": {},
   "outputs": [
    {
     "name": "stdout",
     "output_type": "stream",
     "text": [
      "Hello\n"
     ]
    }
   ],
   "source": [
    "a = 10\n",
    "b = 60\n",
    "if a and b > 20:\n",
    "    print('Hello')\n",
    "else:\n",
    "    print('Hi')"
   ]
  },
  {
   "cell_type": "markdown",
   "metadata": {},
   "source": [
    "(f)"
   ]
  },
  {
   "cell_type": "code",
   "execution_count": 11,
   "metadata": {},
   "outputs": [
    {
     "name": "stdout",
     "output_type": "stream",
     "text": [
      "Hello\n"
     ]
    }
   ],
   "source": [
    "a = 10\n",
    "b = 60\n",
    "if a < 20 and b > 20:\n",
    "    print('Hello')\n",
    "else:\n",
    "    print('Hi')    "
   ]
  },
  {
   "cell_type": "markdown",
   "metadata": {},
   "source": [
    "(g)"
   ]
  },
  {
   "cell_type": "code",
   "execution_count": 16,
   "metadata": {},
   "outputs": [
    {
     "name": "stdout",
     "output_type": "stream",
     "text": [
      "Hello\n"
     ]
    }
   ],
   "source": [
    "a = 10\n",
    "if a == 30 or 40 or 60:\n",
    "    print('Hello')\n",
    "else:\n",
    "    print('Hi')    "
   ]
  },
  {
   "cell_type": "markdown",
   "metadata": {},
   "source": [
    "(h)"
   ]
  },
  {
   "cell_type": "code",
   "execution_count": 17,
   "metadata": {},
   "outputs": [
    {
     "name": "stdout",
     "output_type": "stream",
     "text": [
      "Hi\n"
     ]
    }
   ],
   "source": [
    "a = 10\n",
    "if a == 30 or a == 40 or a == 60:\n",
    "    print('Hello')\n",
    "else:\n",
    "    print('Hi')    "
   ]
  },
  {
   "cell_type": "markdown",
   "metadata": {},
   "source": [
    "(i)"
   ]
  },
  {
   "cell_type": "code",
   "execution_count": 18,
   "metadata": {},
   "outputs": [
    {
     "name": "stdout",
     "output_type": "stream",
     "text": [
      "Hi\n"
     ]
    }
   ],
   "source": [
    "a = 10\n",
    "if a in (30, 40, 50):\n",
    "    print('Hello')\n",
    "else:\n",
    "    print('Hi')    "
   ]
  },
  {
   "cell_type": "markdown",
   "metadata": {},
   "source": [
    "##### 4. Señala los errores, si los hay, en los siguientes programas:"
   ]
  },
  {
   "cell_type": "markdown",
   "metadata": {},
   "source": [
    "(a) >> Error: el condicional IF hace comparaciones, no asignaciones"
   ]
  },
  {
   "cell_type": "code",
   "execution_count": 19,
   "metadata": {},
   "outputs": [
    {
     "ename": "SyntaxError",
     "evalue": "invalid syntax. Maybe you meant '==' or ':=' instead of '='? (1706943587.py, line 3)",
     "output_type": "error",
     "traceback": [
      "\u001b[1;36m  Cell \u001b[1;32mIn[19], line 3\u001b[1;36m\u001b[0m\n\u001b[1;33m    if a = b:\u001b[0m\n\u001b[1;37m       ^\u001b[0m\n\u001b[1;31mSyntaxError\u001b[0m\u001b[1;31m:\u001b[0m invalid syntax. Maybe you meant '==' or ':=' instead of '='?\n"
     ]
    }
   ],
   "source": [
    "a = 12.25\n",
    "b = 12.52\n",
    "if a = b:\n",
    "    print('a and b are equal')"
   ]
  },
  {
   "cell_type": "markdown",
   "metadata": {},
   "source": [
    "(b) >> Error: al final del condicional 'if' necesitamos dos puntos(':')"
   ]
  },
  {
   "cell_type": "code",
   "execution_count": 20,
   "metadata": {},
   "outputs": [
    {
     "ename": "SyntaxError",
     "evalue": "expected ':' (2756951658.py, line 1)",
     "output_type": "error",
     "traceback": [
      "\u001b[1;36m  Cell \u001b[1;32mIn[20], line 1\u001b[1;36m\u001b[0m\n\u001b[1;33m    if ord('X') < ord('x')\u001b[0m\n\u001b[1;37m                          ^\u001b[0m\n\u001b[1;31mSyntaxError\u001b[0m\u001b[1;31m:\u001b[0m expected ':'\n"
     ]
    }
   ],
   "source": [
    "if ord('X') < ord('x')\n",
    "print('Unicode value of X is smaller than that of x')"
   ]
  },
  {
   "cell_type": "markdown",
   "metadata": {},
   "source": [
    "(c) >> Error: al final del condicional 'if' necesitamos dos puntos(':'), el 'then' no se usa en Python."
   ]
  },
  {
   "cell_type": "code",
   "execution_count": 21,
   "metadata": {},
   "outputs": [
    {
     "ename": "SyntaxError",
     "evalue": "invalid syntax (1300854195.py, line 2)",
     "output_type": "error",
     "traceback": [
      "\u001b[1;36m  Cell \u001b[1;32mIn[21], line 2\u001b[1;36m\u001b[0m\n\u001b[1;33m    if x >= 2 then\u001b[0m\n\u001b[1;37m              ^\u001b[0m\n\u001b[1;31mSyntaxError\u001b[0m\u001b[1;31m:\u001b[0m invalid syntax\n"
     ]
    }
   ],
   "source": [
    "x = 10\n",
    "if x >= 2 then\n",
    "    print('x')"
   ]
  },
  {
   "cell_type": "markdown",
   "metadata": {},
   "source": [
    "(d) ERROR: no se pueden hacer asignaciones en el 'if', faltan los dos puntos al final de éste "
   ]
  },
  {
   "cell_type": "code",
   "execution_count": 22,
   "metadata": {},
   "outputs": [
    {
     "ename": "SyntaxError",
     "evalue": "cannot assign to expression here. Maybe you meant '==' instead of '='? (121186198.py, line 2)",
     "output_type": "error",
     "traceback": [
      "\u001b[1;36m  Cell \u001b[1;32mIn[22], line 2\u001b[1;36m\u001b[0m\n\u001b[1;33m    if x % 2 = y % 3\u001b[0m\n\u001b[1;37m       ^\u001b[0m\n\u001b[1;31mSyntaxError\u001b[0m\u001b[1;31m:\u001b[0m cannot assign to expression here. Maybe you meant '==' instead of '='?\n"
     ]
    }
   ],
   "source": [
    "x = 10; y = 15\n",
    "if x % 2 = y % 3\n",
    "    print('Carpathians\\n')"
   ]
  },
  {
   "cell_type": "markdown",
   "metadata": {},
   "source": [
    "(e) ERROR: la sintaxis correcta es 'elif', no 'elseif'"
   ]
  },
  {
   "cell_type": "code",
   "execution_count": 23,
   "metadata": {},
   "outputs": [
    {
     "ename": "SyntaxError",
     "evalue": "invalid syntax (680790154.py, line 4)",
     "output_type": "error",
     "traceback": [
      "\u001b[1;36m  Cell \u001b[1;32mIn[23], line 4\u001b[1;36m\u001b[0m\n\u001b[1;33m    elseif x > y:\u001b[0m\n\u001b[1;37m           ^\u001b[0m\n\u001b[1;31mSyntaxError\u001b[0m\u001b[1;31m:\u001b[0m invalid syntax\n"
     ]
    }
   ],
   "source": [
    "x, y = 30, 40\n",
    "if x == y:\n",
    "    print('x is equal to y')\n",
    "elseif x > y:\n",
    "    print('x is greater to y')\n",
    "elseif x < y:\n",
    "    print('x is less to y')"
   ]
  },
  {
   "cell_type": "markdown",
   "metadata": {},
   "source": [
    "#### 5. If a = 10, b = 12, c = 0, encuentra los valores de las siguientes expresiones :"
   ]
  },
  {
   "cell_type": "code",
   "execution_count": 25,
   "metadata": {},
   "outputs": [
    {
     "data": {
      "text/plain": [
       "False"
      ]
     },
     "execution_count": 25,
     "metadata": {},
     "output_type": "execute_result"
    }
   ],
   "source": [
    "a, b, c = 10, 12, 0\n",
    "\n",
    "a != 6 and b > 5"
   ]
  },
  {
   "cell_type": "code",
   "execution_count": 26,
   "metadata": {},
   "outputs": [
    {
     "data": {
      "text/plain": [
       "False"
      ]
     },
     "execution_count": 26,
     "metadata": {},
     "output_type": "execute_result"
    }
   ],
   "source": [
    "a == 9 or b < 3"
   ]
  },
  {
   "cell_type": "code",
   "execution_count": 29,
   "metadata": {},
   "outputs": [
    {
     "data": {
      "text/plain": [
       "True"
      ]
     },
     "execution_count": 29,
     "metadata": {},
     "output_type": "execute_result"
    }
   ],
   "source": [
    "not(a < 10)"
   ]
  },
  {
   "cell_type": "code",
   "execution_count": 30,
   "metadata": {},
   "outputs": [
    {
     "data": {
      "text/plain": [
       "True"
      ]
     },
     "execution_count": 30,
     "metadata": {},
     "output_type": "execute_result"
    }
   ],
   "source": [
    "not(a > 5 and c)"
   ]
  },
  {
   "cell_type": "code",
   "execution_count": 31,
   "metadata": {},
   "outputs": [
    {
     "data": {
      "text/plain": [
       "True"
      ]
     },
     "execution_count": 31,
     "metadata": {},
     "output_type": "execute_result"
    }
   ],
   "source": [
    "5 and c != 8 or c"
   ]
  },
  {
   "cell_type": "markdown",
   "metadata": {},
   "source": [
    "#### 6. Programe lo siguiente:"
   ]
  },
  {
   "cell_type": "markdown",
   "metadata": {},
   "source": [
    "##### a. Cualquier número entero se ingresa a través del teclado. Escribe un programa para averiguar si es un número par o impar.\n"
   ]
  },
  {
   "cell_type": "code",
   "execution_count": 33,
   "metadata": {},
   "outputs": [
    {
     "name": "stdout",
     "output_type": "stream",
     "text": [
      "El número 10 es PAR\n"
     ]
    }
   ],
   "source": [
    "numero = int(input(\"Introduzca el número a comprobar...\"))\n",
    "print(f'El número {numero} es PAR' if numero % 2 == 0 else f'El número {numero} es IMPAR')"
   ]
  },
  {
   "cell_type": "markdown",
   "metadata": {},
   "source": [
    "##### b. Si las edades de Sara, Sofía y Ana se ingresan a través del teclado, escriba un programa para determinar el más joven de las tres."
   ]
  },
  {
   "cell_type": "code",
   "execution_count": 34,
   "metadata": {},
   "outputs": [
    {
     "name": "stdout",
     "output_type": "stream",
     "text": [
      "ANA es la MÁS JOVEN de las tres: '26' años\n"
     ]
    }
   ],
   "source": [
    "edad_sara = int(input(\"Introduzca la edad de SARA...\"))\n",
    "edad_sofia = int(input(\"Introduzca la edad de SOFÍA...\"))\n",
    "edad_ana = int(input(\"Introduzca la edad de ANA...\")) \n",
    "\n",
    "if edad_sara < edad_sofia and edad_sara < edad_ana:\n",
    "    print(f\"SARA es la MÁS JOVEN de las tres: '{edad_sara}' años\")\n",
    "elif edad_sofia < edad_sara and edad_sofia < edad_ana:    \n",
    "    print(f\"SOFÍA es la MÁS JOVEN de las tres: '{edad_sofia}' años\")\n",
    "else:    \n",
    "    print(f\"ANA es la MÁS JOVEN de las tres: '{edad_ana}' años\")"
   ]
  },
  {
   "cell_type": "markdown",
   "metadata": {},
   "source": [
    "##### c. Dado un punto (x, y), escriba un programa para averiguar si se encuentra en el eje X, el eje Y o en el origen del plano cartesiano."
   ]
  },
  {
   "cell_type": "code",
   "execution_count": 35,
   "metadata": {},
   "outputs": [
    {
     "name": "stdout",
     "output_type": "stream",
     "text": [
      "El punto del plano cartesiano se encuentra en el eje de ABCISAS X\n"
     ]
    }
   ],
   "source": [
    "x = int(input(\"Introduzca la abcisa x...\"))\n",
    "y = int(input(\"Introduzca la ordenada y...\"))\n",
    "\n",
    "if x == 0 and y > 0:\n",
    "    print(f'El punto del plano cartesiano se encuentra en el eje de ORDENADAS Y')\n",
    "else:\n",
    "    print(f'El punto del plano cartesiano se encuentra en el eje de ABCISAS X')"
   ]
  },
  {
   "cell_type": "markdown",
   "metadata": {},
   "source": [
    "##### 7. Años de perro. Comúnmente se dice que un año humano equivale a 7 años caninos. Escriba un programa que implemente la conversión de años humanos a años caninos."
   ]
  },
  {
   "cell_type": "code",
   "execution_count": 36,
   "metadata": {},
   "outputs": [
    {
     "name": "stdout",
     "output_type": "stream",
     "text": [
      "Su edad PERRUNA es: '322' años\n"
     ]
    }
   ],
   "source": [
    "edad = int(input(\"Introduzca su EDAD...\"))\n",
    "print(f\"Su edad PERRUNA es: '{edad * 7}' años\")"
   ]
  },
  {
   "cell_type": "markdown",
   "metadata": {},
   "source": [
    "##### 8. Niveles de sonido. La siguiente tabla enumera el nivel de sonido en decibelios para varios ruidos comunes.\n",
    "\n",
    "NOISE --------------------------------------------- DECIVEL LEVEL <br>\n",
    "Jackhammer      ------------------------------------------- 130 dB <br>\n",
    "Gas Lawnmower   ------------------------------------------- 106 dB <br>\n",
    "Alarm Clock     ------------------------------------------- 70 dB <br>\n",
    "Quiet Room      ------------------------------------------- 40 dB <br>\n",
    "\n",
    "##### Escriba un programa que lea un nivel de sonido en decibelios del usuario. Si el usuario ingresa un nivel de decibelios que coincide con uno de los ruidos en la tabla, entonces su programa debería mostrar un mensaje que contenga solo ese ruido. Si el usuario ingresa una cantidad de decibelios entre los ruidos enumerados, su programa debería mostrar un mensaje que indique entre qué ruidos se encuentra el valor. Asegúrese de que su programa también genere una salida razonable para un valor menor que el ruido más bajo de la tabla y para un valor mayor que el ruido más alto de la tabla."
   ]
  },
  {
   "cell_type": "code",
   "execution_count": 2,
   "metadata": {},
   "outputs": [
    {
     "name": "stdout",
     "output_type": "stream",
     "text": [
      "Entre Alarm Clock y Quiet Room >> O ha viajado con el coche a 60Km, o ha estado en casa...\n"
     ]
    }
   ],
   "source": [
    "decibelios  = int(input(\"Introduzca el nivel de decibelios...\"))\n",
    "nivel = ''\n",
    "\n",
    "if decibelios > 130:\n",
    "    nivel = 'DOLOROSO >> Ha estado en una Discoteca de Hardcore'\n",
    "elif decibelios == 130:\n",
    "    nivel = \"Jackhammer >> Usted ha estado en un concierto de Rock\"\n",
    "elif decibelios < 130 and decibelios > 106:\n",
    "    nivel = \"Entre Jackhammer y Gas Lawnmower >> O a cogido la Motosierra o a estado en un concierto de Rock\"\n",
    "elif decibelios == 106:\n",
    "    nivel = \"Gas Lawnmower >> O ha estado soplando las hojas del jardín, o ha salido con la motonieve...\"\n",
    "elif decibelios < 106 and decibelios > 70:\n",
    "    nivel = \"Entre Gas Lawnmower y Alarm Clock >> O ha estado en la oficina, o ha pasado la aspiradora, o comió en un restaurante, o tomó el metro...\"\n",
    "elif decibelios == 70:\n",
    "    nivel = \"Alarm Clock >> Ha estado en un baile escolar\"\n",
    "elif decibelios < 70 and decibelios > 40:\n",
    "    nivel = \"Entre Alarm Clock y Quiet Room >> O ha viajado con el coche a 60Km, o ha estado en casa...\"\n",
    "elif decibelios == 40:\n",
    "    nivel = \"Quiet Room >> Usted viene de casa\"\n",
    "else:\n",
    "    nivel = \"Ha estado durmiendo la siesta\"\n",
    "\n",
    "print(nivel)"
   ]
  },
  {
   "cell_type": "markdown",
   "metadata": {},
   "source": [
    "#### 9. De la nota a la frecuencia\n",
    "##### La siguiente tabla enumera una octava de notas musicales, comenzando con C central, junto con sus frecuencias.\n",
    "##### Escriba un programa que lea el nombre de una nota del usuario y muestre la frecuencia de la nota. Su programa debe admitir todas las notas enumeradas anteriormente."
   ]
  },
  {
   "cell_type": "code",
   "execution_count": 3,
   "metadata": {},
   "outputs": [
    {
     "name": "stdout",
     "output_type": "stream",
     "text": [
      "Nota G4 >> Frecuencia 392.00Hz\n"
     ]
    }
   ],
   "source": [
    "nota  = str(input(\"Introduzca la octava de la nota: C4, D4, E4, F4, G4, A4 o B4...\"))\n",
    "frecuencia = ''\n",
    "\n",
    "if nota == 'C4':\n",
    "    frecuencia = 'Nota C4 >> Frecuencia 261.63Hz'\n",
    "elif nota == 'D4':\n",
    "    frecuencia = 'Nota D4 >> Frecuencia 293.66Hz'\n",
    "elif nota == 'E4':\n",
    "    frecuencia = 'Nota E4 >> Frecuencia 329.66Hz'\n",
    "elif nota == 'F4':\n",
    "    frecuencia = 'Nota F4 >> Frecuencia 349.23Hz'\n",
    "elif nota == 'G4':\n",
    "    frecuencia = 'Nota G4 >> Frecuencia 392.00Hz'\n",
    "elif nota == 'A4':\n",
    "    frecuencia = 'Nota A4 >> Frecuencia 440.00Hz'\n",
    "else:\n",
    "    frecuencia = 'Nota B4 >> Frecuencia 493.88Hz'\n",
    "\n",
    "print(frecuencia)"
   ]
  },
  {
   "cell_type": "markdown",
   "metadata": {},
   "source": [
    "#### 10. Caras en los billetes de $\n",
    "##### Es común que las imágenes de los líderes anteriores de un país u otras personas de importancia histórica aparezcan en las monedas o billetes. Las personas que aparecen en los billetes en los Estados Unidos se enumeran a continuación:\n",
    "\n",
    "##### Escriba un programa que comience leyendo la denominación de un billete del usuario. Luego, su programa debe mostrar el nombre de la persona que aparece en el billete del monto ingresado. Se debe mostrar un mensaje de error apropiado si no existe tal nota."
   ]
  },
  {
   "cell_type": "code",
   "execution_count": 5,
   "metadata": {},
   "outputs": [
    {
     "name": "stdout",
     "output_type": "stream",
     "text": [
      "El billete de introducido: '123$' NO existe\n"
     ]
    }
   ],
   "source": [
    "cantidad  = int(input(\"Introduzca el valor de su billete de dolar USA...\"))\n",
    "presidente = ''\n",
    "\n",
    "if cantidad == 1:\n",
    "    presidente = f\"El billete de '{cantidad}$' corresponde a George Washington\"\n",
    "elif cantidad == 2:\n",
    "    presidente = f\"El billete de '{cantidad}$' corresponde a Thomas Jefferson\"\n",
    "elif cantidad == 5:\n",
    "    presidente = f\"El billete de '{cantidad}$' corresponde a Abraham Lincoln\"\n",
    "elif cantidad == 10:\n",
    "    presidente = f\"El billete de '{cantidad}$' corresponde a Alexander Hamilton\"\n",
    "elif cantidad == 20:\n",
    "    presidente = f\"El billete de '{cantidad}$' corresponde a Andrew Jackson\"\n",
    "elif cantidad == 50:\n",
    "    presidente = f\"El billete de '{cantidad}$' corresponde a Ulysses Grant\"\n",
    "elif cantidad == 100:\n",
    "    presidente = f\"El billete de '{cantidad}$' corresponde a Benjamin Franklin\"\n",
    "else:\n",
    "    presidente = f\"El billete de introducido: '{cantidad}$' NO existe\"\n",
    "print(presidente)"
   ]
  },
  {
   "cell_type": "markdown",
   "metadata": {},
   "source": [
    "#### 11. Estaciones del año\n",
    "##### El año se divide en cuatro estaciones: primavera, verano, otoño e invierno. Si bien las fechas exactas en que cambian las estaciones varían un poco de un año a otro debido a la forma en que se construye el calendario, usaremos las siguientes fechas para este ejercicio:\n",
    "\n",
    "##### Cree un programa que lea un mes y un día del usuario. El usuario ingresará el nombre del mes como una cadena, seguido del día dentro del mes como un número entero. Luego, su programa debería mostrar la temporada asociada con la fecha que se ingresó."
   ]
  },
  {
   "cell_type": "code",
   "execution_count": 11,
   "metadata": {},
   "outputs": [
    {
     "name": "stdout",
     "output_type": "stream",
     "text": [
      "Se encuentra en INVIERNO\n"
     ]
    }
   ],
   "source": [
    "mes  = str(input(\"Introduzca el MES del año en el que se encuentra: Enero, Febrero, Marzo, Abril, Mayo...\"))\n",
    "dia  = int(input(\"Introduzca el DÍA del mes en el que se encuentra: 1,2,3,4,5,6,7,8,9,10...\"))\n",
    "estacion = ''\n",
    "if mes == 'Diciembre' and dia >= 21 or mes in ['Enero', 'Febrero'] or mes == 'Marzo' and dia < 21:\n",
    "    estacion =  \"Se encuentra en INVIERNO\"\n",
    "elif mes == 'Marzo' and dia > 20 or mes in ['Abril', 'Mayo'] or mes == 'Junio' and dia < 21:\n",
    "    estacion =  \"Se encuentra en PRIMAVERA\"\n",
    "elif mes == 'Junio' and dia >= 21 or mes in ['Julio', 'Agosto'] or mes == 'Septiembre' and dia < 21:\n",
    "    estacion =  \"Se encuentra en VERANO\"\n",
    "elif mes == 'Septiembre' and dia >= 23 or mes in ['Octubre', 'Noviembre'] or mes == 'Diciembre' and dia < 21:\n",
    "    estacion =  \"Se encuentra en OTOÑO\"\n",
    "else:\n",
    "    estacion =  \"Fecha NO válida\"\n",
    "print(estacion)"
   ]
  },
  {
   "cell_type": "markdown",
   "metadata": {},
   "source": [
    "#### 12. Tu Signo del zodiaco según fecha de nacimiento\n",
    "##### Los horóscopos comúnmente usan la posición del sol en el momento del nacimiento para tratar de predecir el futuro. Este sistema de astrología divide el año en doce signos del zodíaco, como se indica en la siguiente tabla:\n",
    "\n",
    "##### Escriba un programa que le pida al usuario que ingrese su mes y día de nacimiento. Luego, su programa debe informar el signo zodiacal del usuario como parte de un mensaje de salida apropiado."
   ]
  },
  {
   "cell_type": "code",
   "execution_count": 13,
   "metadata": {},
   "outputs": [
    {
     "name": "stdout",
     "output_type": "stream",
     "text": [
      "Tu signo zodiacal es: Libra\n"
     ]
    }
   ],
   "source": [
    "\n",
    "dia = int(input(\"Ingrese el día de su nacimiento (1-31): \"))\n",
    "mes = int(input(\"Ingrese el mes de su nacimiento (1-12): \"))\n",
    "zodiaco = ''\n",
    "\n",
    "if (mes == 12 and dia >= 22) or (mes == 1 and dia <= 19):\n",
    "    zodiaco = \"Capricornio\"\n",
    "elif (mes == 1 and dia >= 20) or (mes == 2 and dia <= 18):\n",
    "    zodiaco = \"Acuario\"\n",
    "elif (mes == 2 and dia >= 19) or (mes == 3 and dia <= 20):\n",
    "    zodiaco = \"Piscis\"\n",
    "elif (mes == 3 and dia >= 21) or (mes == 4 and dia <= 19):\n",
    "    zodiaco = \"Aries\"\n",
    "elif (mes == 4 and dia >= 20) or (mes == 5 and dia <= 20):\n",
    "    zodiaco = \"Tauro\"\n",
    "elif (mes == 5 and dia >= 21) or (mes == 6 and dia <= 20):\n",
    "    zodiaco = \"Géminis\"\n",
    "elif (mes == 6 and dia >= 21) or (mes == 7 and dia <= 22):\n",
    "    zodiaco = \"Cáncer\"\n",
    "elif (mes == 7 and dia >= 23) or (mes == 8 and dia <= 22):\n",
    "    zodiaco = \"Leo\"\n",
    "elif (mes == 8 and dia >= 23) or (mes == 9 and dia <= 22):\n",
    "    zodiaco = \"Virgo\"\n",
    "elif (mes == 9 and dia >= 23) or (mes == 10 and dia <= 22):\n",
    "    zodiaco = \"Libra\"\n",
    "elif (mes == 10 and dia >= 23) or (mes == 11 and dia <= 21):\n",
    "    zodiaco = \"Escorpio\"\n",
    "elif (mes == 11 and dia >= 22) or (mes == 12 and dia <= 21):\n",
    "    zodiaco = \"Sagitario\"\n",
    "else:\n",
    "    print(f\"Error: el día '{dia}' y mes '{mes}' introducidos no corresponden con una fecha válida\")\n",
    "\n",
    "\n",
    "print(f\"Tu signo zodiacal es: {zodiaco}\")\n"
   ]
  },
  {
   "cell_type": "markdown",
   "metadata": {},
   "source": [
    "#### 13. Escala de Ritcher\n",
    "##### La siguiente tabla contiene rangos de magnitud de terremotos en la escala de Richter y sus descriptores:\n",
    "\n",
    "##### Escriba un programa que lea una magnitud del usuario y muestre el descriptor apropiado como parte de un mensaje significativo. Por ejemplo, si el usuario ingresa 5.5, su programa debe indicar que un terremoto de magnitud 5.5 se considera un terremoto moderado."
   ]
  },
  {
   "cell_type": "code",
   "execution_count": 14,
   "metadata": {},
   "outputs": [
    {
     "name": "stdout",
     "output_type": "stream",
     "text": [
      "Un terremoto de magnitud 6.0 se considera un terremoto de tipo: fuerte.\n"
     ]
    }
   ],
   "source": [
    "magnitud = float(input(\"Ingrese la magnitud del terremoto: \"))\n",
    "descriptor = ''\n",
    "\n",
    "if magnitud < 2.0:\n",
    "    descriptor = \"micro\"\n",
    "elif 2.0 <= magnitud < 3.0:\n",
    "    descriptor = \"muy menor\"\n",
    "elif 3.0 <= magnitud < 4.0:\n",
    "    descriptor = \"menor\"\n",
    "elif 4.0 <= magnitud < 5.0:\n",
    "    descriptor = \"ligero\"\n",
    "elif 5.0 <= magnitud < 6.0:\n",
    "    descriptor = \"moderado\"\n",
    "elif 6.0 <= magnitud < 7.0:\n",
    "    descriptor = \"fuerte\"\n",
    "elif 7.0 <= magnitud < 8.0:\n",
    "    descriptor =  \"mayor\"\n",
    "elif 8.0 <= magnitud < 10.0:\n",
    "    descriptor = \"gran\"\n",
    "else:\n",
    "    descriptor = \"épico\"\n",
    "\n",
    "\n",
    "\n",
    "print(f\"Un terremoto de magnitud {magnitud} se considera un terremoto de tipo: {descriptor}.\")\n",
    "\n"
   ]
  },
  {
   "cell_type": "markdown",
   "metadata": {},
   "source": [
    "#### 14. Conversión de calificación en letras a número:\n",
    "##### En una universidad en particular, las calificaciones con letras se asignan a puntos de calificación de la siguiente manera:\n",
    "\n",
    "##### Escriba un programa que comience leyendo una letra de calificación del usuario. Luego, su programa debería calcular y mostrar el número equivalente de puntos de calificación. Asegúrese de que su programa genere un mensaje de error apropiado si el usuario ingresa una letra de calificación no válida."
   ]
  },
  {
   "cell_type": "code",
   "execution_count": 15,
   "metadata": {},
   "outputs": [
    {
     "name": "stdout",
     "output_type": "stream",
     "text": [
      "La calificación introdocida 'A-' se corresponde con los puntos: '3.7'.\n"
     ]
    }
   ],
   "source": [
    "letra = str(input(\"Ingrese la letra de la calificación: A+, A, A-, B+, B, B-, C+, C, C-, D+, D o F...\"))\n",
    "puntos = ''\n",
    "error = ''\n",
    "\n",
    "if letra == 'A+':\n",
    "    puntos = '4.0'\n",
    "elif letra == 'A':\n",
    "    puntos = '4.0'\n",
    "elif letra == 'A-':\n",
    "    puntos = '3.7'\n",
    "elif letra == 'B+':\n",
    "    puntos = '3.3'\n",
    "elif letra == 'B':\n",
    "    puntos = '3.0'\n",
    "elif letra == 'B-':\n",
    "    puntos = '2.7'\n",
    "elif letra == 'C+':\n",
    "    puntos =  '2.3'\n",
    "elif letra == 'C':\n",
    "    puntos = '2.0'\n",
    "elif letra == 'C-':\n",
    "    puntos = '1.7'\n",
    "elif letra == 'D+':\n",
    "    puntos = '1.3'\n",
    "elif letra == 'D':\n",
    "    puntos = '1.0'\n",
    "elif letra == 'F':\n",
    "    puntos = '0'                \n",
    "else:\n",
    "    error = f\"La calificación introducida '{letra}' no corresponde con ninguna nota\"\n",
    "\n",
    "\n",
    "if error == '':\n",
    "    print(f\"La calificación introdocida '{letra}' se corresponde con los puntos: '{puntos}'.\")\n",
    "else:\n",
    "    print(error)"
   ]
  },
  {
   "cell_type": "markdown",
   "metadata": {},
   "source": [
    "#### 15. Evaluación de Empleados\n",
    "##### En una empresa en particular, los empleados son calificados al final de cada año. La escala de calificación comienza en 0,0; los valores más altos indican un mejor desempeño y dan como resultado aumentos más grandes. El valor otorgado a un empleado es 0,0, 0,4 o 0,6 o más. Nunca se utilizan valores entre 0,0 y 0,4 y entre 0,4 y 0,6. El significado asociado con cada calificación se muestra en la siguiente tabla. El monto del aumento de sueldo de un empleado es $2,400.00 multiplicado por su calificación.\n",
    "\n",
    "##### Escriba un programa que lea una calificación del usuario e indique si el desempeño de esa calificación es inaceptable, aceptable o meritorio. También se debe informar el monto del aumento del empleado. Su programa debería mostrar un mensaje de error apropiado si se ingresa una calificación no válida."
   ]
  },
  {
   "cell_type": "code",
   "execution_count": 16,
   "metadata": {},
   "outputs": [
    {
     "name": "stdout",
     "output_type": "stream",
     "text": [
      "Desempeño: meritorio\n",
      "Aumento: $1440.00\n"
     ]
    }
   ],
   "source": [
    "INCREASE_AMOUNT = 2400.00\n",
    "rating = float(input(\"Ingrese la calificación del empleado: \"))\n",
    "desempenio = ''\n",
    "\n",
    "if rating == 0.0:\n",
    "    desempenio = \"inaceptable\"\n",
    "    increase = rating * INCREASE_AMOUNT\n",
    "elif rating == 0.4:\n",
    "    desempenio = \"aceptable\"\n",
    "    increase = rating * INCREASE_AMOUNT\n",
    "elif rating >= 0.6:\n",
    "    desempenio = \"meritorio\"\n",
    "    increase = rating * INCREASE_AMOUNT\n",
    "else:\n",
    "    desempenio = None\n",
    "\n",
    "if desempenio:\n",
    "    print(f\"Desempeño: {desempenio}\")\n",
    "    print(f\"Aumento: ${increase:.2f}\")\n",
    "else:\n",
    "    print(\"Calificación no válida.\")\n"
   ]
  },
  {
   "cell_type": "markdown",
   "metadata": {},
   "source": [
    "#### 16. Convertir moneda de una denominación a otra:\n",
    "\n",
    "##### Escriba un programa donde se le pida al usuario la cantidad de dinero en euros (€) y la denominación a la que desea cambiar. Para este caso utilice Dólar americano, Dólar australiano, Dólar canadiense, Libra esterlina, Yuan chino, Rublo y Franco suizo. El programa debe imprimir en pantalla la cantidad que recibirá en la denominación pedida"
   ]
  },
  {
   "cell_type": "code",
   "execution_count": 19,
   "metadata": {},
   "outputs": [
    {
     "name": "stdout",
     "output_type": "stream",
     "text": [
      "La cantidad introducida de Euros: '385.72€' son '37121.04' en 'rublo'\n"
     ]
    }
   ],
   "source": [
    "euros = float(input(\"Ingrese la cantidad a camabiar en Euros...\"))\n",
    "divisa = str(input(\"Ingrese la divisa de cambio: dolar americano, dolar australiano, dolar canadiense, libra esterlina, yuan chino, rublo o franco suizo...\"))\n",
    "cambio = 0.0000\n",
    "error = ''\n",
    "\n",
    "if divisa == 'dolar americano':\n",
    "    cambio = euros * 1.0882\n",
    "elif divisa == 'dolar australiano':\n",
    "    cambio = euros * 1.6314\n",
    "elif divisa == 'dolar canadiense':\n",
    "    cambio = euros *  1.4820\n",
    "elif divisa == 'libra esterlina':\n",
    "    cambio = euros *  0.8508\n",
    "elif divisa == 'yuan chino':\n",
    "    cambio = euros *  7.8842\n",
    "elif divisa == 'rublo':\n",
    "    cambio = euros *  96.2383\n",
    "elif divisa == 'franco suizo':\n",
    "    cambio = euros *  0.9908\n",
    "else:\n",
    "    error = f\"La divisa introducida '{divisa}' no corresponde con ninguna de las ofrecidas...\"                    \n",
    "    \n",
    "if error == '':\n",
    "    print(f\"La cantidad introducida de Euros: '{euros}€' son '{cambio:.2f}' en '{divisa}'\")\n",
    "else:\n",
    "    print(error)"
   ]
  },
  {
   "cell_type": "markdown",
   "metadata": {},
   "source": [
    "#### 17. Vocal o consonante:\n",
    "\n",
    "##### En este ejercicio, creará un programa que lea una letra del alfabeto del usuario. Si el usuario ingresa ‘a’, ‘e’, ‘i’, ‘o’ o ‘u’ entonces su programa debería mostrar un mensaje que indica que la letra ingresada es una vocal. De lo contrario, su programa debería mostrar un mensaje que indique que la letra es una consonante. Considerar solo minúsculas."
   ]
  },
  {
   "cell_type": "code",
   "execution_count": 26,
   "metadata": {},
   "outputs": [
    {
     "name": "stdout",
     "output_type": "stream",
     "text": [
      "La letra introducida 'ssssSS' no tiene correspondencia en el alfabeto latino...\n"
     ]
    }
   ],
   "source": [
    "letra = input(\"Ingrese una letra del abecedario en minúscula...\")\n",
    "es_vocal = False\n",
    "es_min = False\n",
    "error = ''\n",
    "\n",
    "if letra in('a','e','i','o','u') and letra == letra.lower():\n",
    "    es_vocal = True\n",
    "    es_min = True\n",
    "    mensaje = f\"La letra introducida '{letra}' es una vocal.\"\n",
    "elif letra not in('a','e','i','o','u') and letra == letra.lower():\n",
    "    es_vocal = False\n",
    "    es_min = True\n",
    "    mensaje = f\"La letra introducida '{letra}' es una consonante.\"\n",
    "elif letra == letra.upper():\n",
    "    mensaje = f\"Error: la letra introducida '{letra}' está en mayúsculas...\"    \n",
    "else:\n",
    "    error = f\"La letra introducida '{letra}' no tiene correspondencia en el alfabeto latino...\"\n",
    "    \n",
    "if error == '':\n",
    "    print(mensaje)\n",
    "else:\n",
    "    print(error)    \n"
   ]
  },
  {
   "cell_type": "markdown",
   "metadata": {},
   "source": [
    "#### 18. Clasificando Triángulos\n",
    "##### Un triángulo se puede clasificar según la longitud de sus lados como equilátero, isósceles o escaleno. Un triángulo es equilátero si todos sus lados son iguales (tienen los tres la misma longitud). Un triángulo es isósceles si tiene dos lados iguales y el otro diferente (dos lados tienen la misma longitud y el otro lado tiene longitud diferente). Un triángulo es escaleno si todos sus lados son diferentes.\n",
    "\n",
    "##### Escriba un programa que lea las longitudes de los tres lados de un triángulo dadas por el usuario. Luego muestra un mensaje que indica el tipo de triángulo."
   ]
  },
  {
   "cell_type": "code",
   "execution_count": 28,
   "metadata": {},
   "outputs": [
    {
     "name": "stdout",
     "output_type": "stream",
     "text": [
      "Es un triángulo ISÓSCELES: dos lados son iguales: '2' | '2' | '4'\n"
     ]
    }
   ],
   "source": [
    "lado1 = int(input(\"Ingrese la longitud del PRIMER lado del triángulo con un número entero...\"))\n",
    "lado2 = int(input(\"Ingrese la longitud del SEGUNDO lado del triángulo con un número entero...\"))\n",
    "lado3 = int(input(\"Ingrese la longitud del TERCER lado del triángulo con un número entero...\"))\n",
    "triangulo = ''\n",
    "error = ''\n",
    "\n",
    "if lado1 == lado2 == lado3:\n",
    "    triangulo = f\"Es un triángulo EQUILÁTERO: todos los lados son iguales: '{lado1}' = '{lado2}' = '{lado3}'\"\n",
    "elif (lado1 == lado2) and ((lado1 != lado3) or (lado2 != lado3)):\n",
    "    triangulo = f\"Es un triángulo ISÓSCELES: dos lados son iguales: '{lado1}' | '{lado2}' | '{lado3}'\"\n",
    "elif (lado1 != lado2) and ((lado1 != lado3) and (lado2 != lado3)):\n",
    "    triangulo = f\"Es un triángulo ESCALENO: todos los lados son diferentes: '{lado1}' != '{lado2}' != '{lado3}'\"\n",
    "else:\n",
    "    error =  f\"Error: alguna de las entradas no corresponden con números enteros: '{lado1}' | '{lado2}' | '{lado3}'\"\n",
    "if error == '':\n",
    "    print(triangulo)\n",
    "else:\n",
    "    print(error)    "
   ]
  }
 ],
 "metadata": {
  "kernelspec": {
   "display_name": "Curso_Python",
   "language": "python",
   "name": "python3"
  },
  "language_info": {
   "codemirror_mode": {
    "name": "ipython",
    "version": 3
   },
   "file_extension": ".py",
   "mimetype": "text/x-python",
   "name": "python",
   "nbconvert_exporter": "python",
   "pygments_lexer": "ipython3",
   "version": "3.11.9"
  }
 },
 "nbformat": 4,
 "nbformat_minor": 2
}
