{
 "cells": [
  {
   "cell_type": "markdown",
   "metadata": {},
   "source": [
    "### Práctica 20 . \n",
    "### Introducción a Listas"
   ]
  },
  {
   "cell_type": "markdown",
   "metadata": {},
   "source": [
    "#### 1 - Escribir un programa que almacene las asignaturas de un curso (por ejemplo, Matemáticas, Física, Química, Historia y Lengua) en una lista y la muestre por pantalla."
   ]
  },
  {
   "cell_type": "code",
   "execution_count": 3,
   "metadata": {},
   "outputs": [
    {
     "name": "stdout",
     "output_type": "stream",
     "text": [
      "ASIGNATURAS DEL CURSO:\n",
      "Matematicas\n",
      "Fisica\n",
      "Quimica\n",
      "Historia\n",
      "Lengua\n"
     ]
    }
   ],
   "source": [
    "asignaturas = ['Matematicas', 'Fisica', 'Quimica', 'Historia', 'Lengua']\n",
    "print(\"ASIGNATURAS DEL CURSO:\")\n",
    "for i in asignaturas:    \n",
    "    print(i)"
   ]
  },
  {
   "cell_type": "markdown",
   "metadata": {},
   "source": [
    "#### 2 - Escribir un programa que almacene las asignaturas de un curso (por ejemplo, Matemáticas, Física, Química, Historia y Lengua) en una lista y muestre por pantalla el mensaje \"Yo estudio <asignatura>\", donde <asignatura> es cada una de las asignaturas de la lista."
   ]
  },
  {
   "cell_type": "code",
   "execution_count": 5,
   "metadata": {},
   "outputs": [
    {
     "name": "stdout",
     "output_type": "stream",
     "text": [
      "ASIGNATURAS DEL CURSO:\n",
      "Yo estudio Matematicas\n",
      "Yo estudio Fisica\n",
      "Yo estudio Quimica\n",
      "Yo estudio Historia\n",
      "Yo estudio Lengua\n"
     ]
    }
   ],
   "source": [
    "asignaturas = ['Matematicas', 'Fisica', 'Quimica', 'Historia', 'Lengua']\n",
    "print(\"ASIGNATURAS DEL CURSO:\")\n",
    "for i in asignaturas:    \n",
    "    print(f\"Yo estudio {i}\")"
   ]
  },
  {
   "cell_type": "markdown",
   "metadata": {},
   "source": [
    "#### 3 - Escribir un programa que almacene las asignaturas de un curso (por ejemplo, Matemáticas, Física, Química, Historia y Lengua) en una lista, pregunte al usuario la nota que ha sacado en cada asignatura, y después las muestre por pantalla con el mensaje En <asignatura> has sacado <nota> donde <asignatura> es cada una de las asignaturas de la lista y <nota> cada una de las correspondientes notas introducidas por el usuario."
   ]
  },
  {
   "cell_type": "code",
   "execution_count": 12,
   "metadata": {},
   "outputs": [
    {
     "name": "stdout",
     "output_type": "stream",
     "text": [
      "En 'Matematicas' has sacado '8'\n",
      "En 'Fisica' has sacado '7'\n",
      "En 'Quimica' has sacado '6'\n",
      "En 'Historia' has sacado '9'\n",
      "En 'Lengua' has sacado '10'\n"
     ]
    }
   ],
   "source": [
    "asignaturas = ['Matematicas', 'Fisica', 'Quimica', 'Historia', 'Lengua']\n",
    "notas = []\n",
    "for i, asignatura in enumerate(asignaturas):    \n",
    "    notas.append(int(input(f\"¿Cuál es la nota para {asignatura}\")))\n",
    "for i, asignatura in enumerate(asignaturas):\n",
    "    print(f\"En '{asignatura}' has sacado '{notas[i]}'\")    "
   ]
  },
  {
   "cell_type": "markdown",
   "metadata": {},
   "source": [
    "#### 4 - Escribir un programa que almacene en una lista los números del 1 al 10 y los muestre por pantalla en orden inverso separados por comas."
   ]
  },
  {
   "cell_type": "code",
   "execution_count": 16,
   "metadata": {},
   "outputs": [
    {
     "name": "stdout",
     "output_type": "stream",
     "text": [
      "Lista de números orden ASCENDENTE = [1, 2, 3, 4, 5, 6, 7, 8, 9, 10]\n",
      "Lista de números orden DESCENDENTE = [10, 9, 8, 7, 6, 5, 4, 3, 2, 1]\n"
     ]
    }
   ],
   "source": [
    "numeros = []\n",
    "numeros_rev = []\n",
    "for i in range(1, 11):\n",
    "    numeros.append(i)\n",
    "numeros_rev = sorted(numeros, reverse=True)    \n",
    "print(f\"Lista de números orden ASCENDENTE = {numeros}\")\n",
    "print(f\"Lista de números orden DESCENDENTE = {numeros_rev}\")"
   ]
  },
  {
   "cell_type": "markdown",
   "metadata": {},
   "source": [
    "#### 5 - Escribir un programa que almacene las asignaturas de un curso (por ejemplo, Matemáticas, Física, Química, Historia y Lengua) en una lista, pregunte al usuario la nota que ha sacado en cada asignatura y elimine de la lista las asignaturas aprobadas. Al final el programa debe mostrar por pantalla las asignaturas que el usuario tiene que repetir."
   ]
  },
  {
   "cell_type": "code",
   "execution_count": 18,
   "metadata": {},
   "outputs": [
    {
     "name": "stdout",
     "output_type": "stream",
     "text": [
      "Tienes que repetir 'Historia' por tener un '3'\n",
      "Tienes que repetir 'Lengua' por tener un '4'\n"
     ]
    }
   ],
   "source": [
    "asignaturas = ['Matematicas', 'Fisica', 'Quimica', 'Historia', 'Lengua']\n",
    "notas = []\n",
    "for i, asignatura in enumerate(asignaturas):    \n",
    "    notas.append(int(input(f\"¿Cuál es la nota para {asignatura}\")))\n",
    "\n",
    "for i, asignatura in enumerate(asignaturas):\n",
    "    if notas[i] < 5:\n",
    "        print(f\"Tienes que repetir '{asignaturas[i]}' por tener un '{notas[i]}'\")  "
   ]
  }
 ],
 "metadata": {
  "kernelspec": {
   "display_name": "Curso_Python",
   "language": "python",
   "name": "python3"
  },
  "language_info": {
   "codemirror_mode": {
    "name": "ipython",
    "version": 3
   },
   "file_extension": ".py",
   "mimetype": "text/x-python",
   "name": "python",
   "nbconvert_exporter": "python",
   "pygments_lexer": "ipython3",
   "version": "3.11.9"
  }
 },
 "nbformat": 4,
 "nbformat_minor": 2
}
