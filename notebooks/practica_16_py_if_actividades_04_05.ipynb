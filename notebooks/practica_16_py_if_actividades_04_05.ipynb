{
 "cells": [
  {
   "cell_type": "markdown",
   "metadata": {},
   "source": [
    "# PRÁCTICA 16\n",
    "# CONDICIONAL IF"
   ]
  },
  {
   "cell_type": "markdown",
   "metadata": {},
   "source": [
    "### 1. Desarrolle un programa que le pregunte al usuario por la edad y que luego imprima en pantalla si dicho usuario es menor o mayor de edad."
   ]
  },
  {
   "cell_type": "code",
   "execution_count": 4,
   "metadata": {},
   "outputs": [
    {
     "name": "stdout",
     "output_type": "stream",
     "text": [
      "La entrada 18 ES un número ENTERO.\n",
      "Enhorabuena!! Usted tiene la mayoría de edad\n"
     ]
    }
   ],
   "source": [
    "def comprueba_entero(prompt):\n",
    "    while True:\n",
    "        entrada = input(prompt)\n",
    "        try:\n",
    "            entrada = int(entrada)\n",
    "            print(f\"La entrada {entrada} ES un número ENTERO.\")\n",
    "            return entrada\n",
    "        except ValueError:\n",
    "            print(f\"ERROR: La entrada {entrada} NO es número ENTERO.\")\n",
    "def es_mayor_edad(edad):\n",
    "    es_mayor = False\n",
    "    if edad >= 18:\n",
    "        es_mayor = True        \n",
    "    return es_mayor\n",
    "def imprime_edad(es_mayor):\n",
    "    if es_mayor:\n",
    "        print(\"Enhorabuena!! Usted tiene la mayoría de edad\")\n",
    "    else:\n",
    "        print(\"Enhorabuena!! Usted es muy joven, no ha cumplido la mayoría de edad\")\n",
    "\n",
    "edad = comprueba_entero(\"Introduzca su EDAD...\")\n",
    "es_mayor = es_mayor_edad(edad)\n",
    "imprime_edad(es_mayor)"
   ]
  },
  {
   "cell_type": "markdown",
   "metadata": {},
   "source": [
    "### 2. Escribir un programa que pida al usuario un número entero y que luego imprima en pantalla si dicho número es o no divisible entre 2."
   ]
  },
  {
   "cell_type": "code",
   "execution_count": 7,
   "metadata": {},
   "outputs": [
    {
     "name": "stdout",
     "output_type": "stream",
     "text": [
      "La entrada 8 ES un número ENTERO.\n",
      "El numero introducido '8' ES divisble por 2\n"
     ]
    }
   ],
   "source": [
    "def comprueba_entero(prompt):\n",
    "    while True:\n",
    "        entrada = input(prompt)\n",
    "        try:\n",
    "            entrada = int(entrada)\n",
    "            print(f\"La entrada {entrada} ES un número ENTERO.\")\n",
    "            return entrada\n",
    "        except ValueError:\n",
    "            print(f\"ERROR: La entrada {entrada} NO es número ENTERO.\")\n",
    "def divisible_x_2(numero):\n",
    "    return numero % 2 == 0\n",
    "def imprime_divisibilidad(es_divisible, numero):\n",
    "    if es_divisible: print(f\"El numero introducido '{numero}' ES divisble por 2\")\n",
    "    else: print(f\"El numero introducido '{numero}' NO es divisble por 2\")\n",
    "    \n",
    "numero = comprueba_entero(\"Introduzca un número...\")\n",
    "es_divisible = divisible_x_2(numero) \n",
    "imprime_divisibilidad(es_divisible, numero)   "
   ]
  },
  {
   "cell_type": "markdown",
   "metadata": {},
   "source": [
    "### 3. Escriba un programa que pida al usuario dos números enteros y que calcule su división, indicando si la división es exacta o no."
   ]
  },
  {
   "cell_type": "code",
   "execution_count": 9,
   "metadata": {},
   "outputs": [
    {
     "name": "stdout",
     "output_type": "stream",
     "text": [
      "La entrada 10 ES un número ENTERO.\n",
      "La entrada 5 ES un número ENTERO.\n",
      "La división de '10' / '5' ES exacta\n"
     ]
    }
   ],
   "source": [
    "def comprueba_entero(prompt):\n",
    "    while True:\n",
    "        entrada = input(prompt)\n",
    "        try:\n",
    "            entrada = int(entrada)\n",
    "            print(f\"La entrada {entrada} ES un número ENTERO.\")\n",
    "            return entrada\n",
    "        except ValueError:\n",
    "            print(f\"ERROR: La entrada {entrada} NO es número ENTERO.\")\n",
    "def modulo_numeros(numero, numero2):\n",
    "    return numero % numero2 == 0\n",
    "def imprime_modulo(es_exacta, numero, numero2):\n",
    "    if es_exacta: print(f\"La división de '{numero}' / '{numero2}' ES exacta\")\n",
    "    else: print(f\"La división de '{numero}' / '{numero2}' NO es exacta\")\n",
    "    \n",
    "numero = comprueba_entero(\"Introduzca el PRIMER número...\")\n",
    "numero2 = comprueba_entero(\"Introduzca el SEGUNDO número...\")\n",
    "es_exacta = modulo_numeros(numero, numero2) \n",
    "imprime_modulo(es_exacta, numero, numero2)   "
   ]
  },
  {
   "cell_type": "markdown",
   "metadata": {},
   "source": [
    "###  Actividad 4 (añadir a la práctica 16)\n",
    "####  Dada una variable llamada “year “ con un valor entero, compruebe si dicho año es bisiesto o no lo es. Un año es bisiesto en el Calendario Gregorian, si es divisible entre 4 y no divisible entre 100, o bien si es divisible entre 00. \n",
    "Ejemplo:Entrada: 2008\n",
    "Salida: Es un año bisiesto\n",
    "Usar solo el condicional if (no usar funciones)"
   ]
  },
  {
   "cell_type": "code",
   "execution_count": 15,
   "metadata": {},
   "outputs": [
    {
     "name": "stdout",
     "output_type": "stream",
     "text": [
      "El año introducido '2018' NO es BISIESTO\n"
     ]
    }
   ],
   "source": [
    "es_bisiesto = False\n",
    "year = int(input(\"Introduzca un año...\"))\n",
    "if ((year % 4 == 0) and (year % 100 != 0) and (year % 400 != 0)) or ((year % 4 == 0) and (year % 100 == 0) and (year % 400 == 0)): \n",
    "    es_bisiesto = True\n",
    "\n",
    "if es_bisiesto: print(f\"El año introducido '{year}' ES BISIESTO\")\n",
    "else: print(f\"El año introducido '{year}' NO es BISIESTO\")"
   ]
  },
  {
   "cell_type": "markdown",
   "metadata": {},
   "source": [
    "### Actividad 5 (añadir a la práctica 16)\n",
    "#### Escriba un programa que pida al usuario su año de nacimiento, y que luego imprima en pantalla a que generación pertenece según la siguiente taxonomía:"
   ]
  },
  {
   "cell_type": "code",
   "execution_count": 17,
   "metadata": {},
   "outputs": [
    {
     "name": "stdout",
     "output_type": "stream",
     "text": [
      "Pertenece usted a la GENERACIÓN 'X'\n"
     ]
    }
   ],
   "source": [
    "anio = int(input(\"Introduzca su año de nacimiento...\"))\n",
    "if (anio >= 1930 and anio <= 1948):\n",
    "    print(f\"Pertenece usted a la GENERACIÓN 'SILENCIOSA'\")\n",
    "elif (anio >= 1949 and anio <= 1968):\n",
    "    print(f\"Pertenece usted a la GENERACIÓN de los 'BABY BOOMERS'\")\n",
    "elif (anio >= 1969 and anio <= 1980):\n",
    "    print(f\"Pertenece usted a la GENERACIÓN 'X'\")\n",
    "elif (anio >= 1981 and anio <= 1993):\n",
    "    print(f\"Pertenece usted a la GENERACIÓN 'Y' ('MILENIALS')\")\n",
    "elif (anio >= 1994 and anio <= 2010):\n",
    "    print(f\"Pertenece usted a la GENERACIÓN 'Z'\")\n",
    "elif (anio >= 2011 and anio <= 2025):\n",
    "    print(f\"Pertenece usted a la GENERACIÓN 'T' ('ALFA')\")\n",
    "else:       \n",
    "    print(f\"Enhorabuena por su LONGEVIDAD !!\")"
   ]
  }
 ],
 "metadata": {
  "kernelspec": {
   "display_name": "Curso_Python",
   "language": "python",
   "name": "python3"
  },
  "language_info": {
   "codemirror_mode": {
    "name": "ipython",
    "version": 3
   },
   "file_extension": ".py",
   "mimetype": "text/x-python",
   "name": "python",
   "nbconvert_exporter": "python",
   "pygments_lexer": "ipython3",
   "version": "3.11.9"
  }
 },
 "nbformat": 4,
 "nbformat_minor": 2
}
