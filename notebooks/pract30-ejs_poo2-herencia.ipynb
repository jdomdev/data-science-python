{
 "cells": [
  {
   "cell_type": "markdown",
   "id": "3a806326-dd4d-4471-9d3c-323c9d87db3a",
   "metadata": {},
   "source": [
    "# Practica 30: **Ejercicios resueltos usando herencias**  \n",
    "**Explicar usando comentarios lo que hacen los códigos resueltos a continuación. Una vez que ha explicado los ejercicios resueltos, proponga usted mismo otro ejemplo (solo uno) similiar a los ejercicios 3 o 4.**\n"
   ]
  },
  {
   "cell_type": "markdown",
   "id": "baf6b9bf-1576-4b51-b463-ee0dcf9b43a6",
   "metadata": {},
   "source": [
    "**1 -** Define una clase de nombre `Shape`. Esta hereda dos clases: `Círculo` y `Rectángulo.` Compruebe mediante programación la relación de herencia entre las clases. Cree objetos de las clases Shape y Circle. Informe de qué clases son las instancias de estos objetos."
   ]
  },
  {
   "cell_type": "code",
   "execution_count": 1,
   "id": "7da8e2b4-50a1-4915-992b-b5f969c71004",
   "metadata": {},
   "outputs": [
    {
     "name": "stdout",
     "output_type": "stream",
     "text": [
      "True\n",
      "False\n",
      "False\n",
      "True\n",
      "True\n"
     ]
    }
   ],
   "source": [
    "# Creamos clase 'Shape'\n",
    "class Shape:\n",
    "    pass\n",
    "# Creamos clase 'Rectangle' que hereda de 'Shape'\n",
    "class Rectangle(Shape):\n",
    "    pass\n",
    "# Creamos clase 'Circle' que hereda de 'Shape'\n",
    "class Circle(Shape):\n",
    "    pass\n",
    "# Generamos una instancia de las clases 'Shape' y 'Circle'\n",
    "s = Shape()\n",
    "c = Circle()\n",
    "# Imprimimos la respuesta boleana de si la var 's' es una instancia de la clase 'Shape' \n",
    "print(isinstance(s, Shape))\n",
    "# Imprimimos la respuesta boleana de si la var 's' es una instancia de la clase 'Rectangle'\n",
    "print(isinstance(s, Rectangle))\n",
    "# Imprimimos la respuesta boleana de si la var 's' es una instancia de la clase 'Circle'\n",
    "print(isinstance(s, Circle))\n",
    "# Imprimimos la respuesta boleana de si la clase 'Rectangle' hereda de la clase 'Shape'\n",
    "print(issubclass(Rectangle, Shape))\n",
    "# Imprimimos la respuesta boleana de si la clase 'Circle' hereda de la clase 'Shape'\n",
    "print(issubclass(Circle, Shape))\n"
   ]
  },
  {
   "cell_type": "markdown",
   "id": "8b4a0f3f-fb09-4c70-b285-efc87a41b485",
   "metadata": {},
   "source": [
    "**2 -** Escribe un programa que utilice herencia simple entre las clases `Base` y `Derived`. Si hay un método en la clase `Base`, ¿cómo evitar que sea sobrescrito en la clase `Derived`?"
   ]
  },
  {
   "cell_type": "code",
   "execution_count": 2,
   "id": "40dc8e03-3c19-46eb-9726-f09d64ea0fba",
   "metadata": {},
   "outputs": [
    {
     "name": "stdout",
     "output_type": "stream",
     "text": [
      "In Base.__method\n",
      "In Base.__method\n"
     ]
    }
   ],
   "source": [
    "# Creamos la clase 'Base'\n",
    "class Base:\n",
    "    # Creamos el método de instancia sin acceso público '__method()'\n",
    "    def __method(self):\n",
    "        # Imprimimos mensaje\n",
    "        print('In Base.__method')\n",
    "    # Creamos el método de instancia con acceso público 'func()'\n",
    "    def func(self):\n",
    "        self.__method()\n",
    "# Creamos la clase 'Derived' que hereda de clase 'Base'\n",
    "class Derived(Base):\n",
    "    # Creamos el metodo de instancia sin acceso público '__method()'\n",
    "    def __method(self):\n",
    "        # Imprimimos mensaje\n",
    "        print('In Derived.__method')\n",
    "# Creamos instancia de clase 'Base'\n",
    "b = Base()\n",
    "# Llamada al método 'func()' de instancia 'b'\n",
    "b.func()\n",
    "# Creamos instancia de clase 'Derived'\n",
    "d = Derived()\n",
    "# Llamada al método 'func()' de instancia 'd'\n",
    "d.func()"
   ]
  },
  {
   "cell_type": "markdown",
   "id": "6bfae9f7-6d70-4f1a-9b3c-8d7b9a56f47f",
   "metadata": {},
   "source": [
    "**Tips**  \n",
    "- Para evitar que se sobrescriba un método, añadir __.\n",
    "- Cuando `func()` es llamado usando `b`, `self` contiene la dirección del objeto de la clase Base. Cuando es llamado usando `d`, `self` contiene la dirección del objeto de la clase `Derived`.\n",
    "- En la clase Base `__method()` se convierte en `_Base__method()` y en la clase `Derived` se convierte en `_Derived__method()`.\n",
    "- Cuando `func()` llama a `__method( )` desde la clase Base, es el método `_Base()` el que es llamado. En efecto, `_method()` no puede ser sobreescrito. Esto es cierto, incluso cuando `self` contiene la dirección del objeto de la clase `Derived`."
   ]
  },
  {
   "cell_type": "markdown",
   "id": "50d1692f-c492-4663-9a89-944cfd975d04",
   "metadata": {},
   "source": [
    "**3-** En este ejercicio vas a trabajar el concepto de puntos, coordenadas y vectores sobre el plano cartesiano y cómo la programación Orientada a Objetos puede ser una excelente aliada para trabajar con ellos. No está pensado para que hagas ningún tipo de cálculo sino para que practiques la automatización de tareas."
   ]
  },
  {
   "cell_type": "markdown",
   "id": "dbc82c63-a025-48cf-be62-a7dd2c7bb861",
   "metadata": {},
   "source": [
    "**Contexto Teórico**  \n",
    "**El plano cartesiano.**  \n",
    "Representa un espacio bidimensional (en 2 dimensiones), formado por dos rectas perpendiculares, una horizontal y otra vertical que se cortan en un punto. La recta horizontal se denomina eje de las abscisas o `eje X`, mientras que la vertical recibe el nombre de eje de las ordenadas o simplemente `eje Y`. En cuanto al punto donde se cortan, se conoce como el `punto de origen O`."
   ]
  },
  {
   "cell_type": "markdown",
   "id": "fde9c54f-cfbf-4911-8ab9-3396b3be9e24",
   "metadata": {},
   "source": [
    "![3](3.jpg)"
   ]
  },
  {
   "cell_type": "markdown",
   "id": "4bea5024-8038-4f1d-8847-68c4611833aa",
   "metadata": {},
   "source": [
    "Es importante remarcar que el plano se divide en 4 cuadrantes:"
   ]
  },
  {
   "cell_type": "markdown",
   "id": "cd6445e6-a395-4d25-9bed-3da57c5fb256",
   "metadata": {},
   "source": [
    "![4](4.jpg)"
   ]
  },
  {
   "cell_type": "markdown",
   "id": "b8934136-a633-4daa-b016-75d376e38fbc",
   "metadata": {},
   "source": [
    "**Puntos y coordenadas.**  \n",
    "\n",
    "El objetivo de todo esto es describir la posición de puntos sobre el plano en forma de coordenadas, que se forman asociando el valor del eje de las X (horizontal) con el valor del eje Y (vertical).  \n",
    "\n",
    "La representación de un punto es sencilla: P(X,Y) dónde X y la Y son la distancia horizontal (izquierda o derecha) y vertical (arriba o abajo) respectivamente, utilizando como referencia el punto de origen (0,0), justo en el centro del plano."
   ]
  },
  {
   "cell_type": "markdown",
   "id": "c16181ea-2aed-4ee3-ada1-db92733bde9e",
   "metadata": {},
   "source": [
    "![5](5.png)"
   ]
  },
  {
   "cell_type": "markdown",
   "id": "9fa62b87-3c89-4015-b51b-5432c3a4b84d",
   "metadata": {},
   "source": [
    "**Vectores en el plano**  \n",
    "\n",
    "Finalmente, un vector en el plano hace referencia a un segmento orientado, generado a partir de dos puntos distintos.\n",
    "\n",
    "A efectos prácticos no deja de ser una línea formada desde un punto inicial en dirección a otro punto final, por lo que se entiende que un vector tiene longitud y dirección/sentido."
   ]
  },
  {
   "cell_type": "markdown",
   "id": "9f84c7a3-806d-41ad-a169-77cc18819a5d",
   "metadata": {},
   "source": [
    "![6](6.png)"
   ]
  },
  {
   "cell_type": "markdown",
   "id": "ffb488d0-2178-453b-a487-4417aee55cbb",
   "metadata": {},
   "source": [
    "En esta figura, podemos observar dos puntos A y B que podríamos definir de la siguiente forma:"
   ]
  },
  {
   "cell_type": "markdown",
   "id": "e44d1b81-9e27-4634-b7fb-3558458bb8f4",
   "metadata": {},
   "source": [
    "- **A(x1, y1) => A(2, 3)**\n",
    "  \n",
    "- **B(x2, y2) => B(5, 5)**"
   ]
  },
  {
   "cell_type": "markdown",
   "id": "664fd2e7-cfe3-4678-b8e0-b9489e857a9f",
   "metadata": {},
   "source": [
    "Y el vector se representaría como la diferencia entre las coordendas del segundo punto respecto al primero (el segundo menos el primero):"
   ]
  },
  {
   "cell_type": "markdown",
   "id": "c4aad7a0-e3ff-471b-8f3f-48fe9a2b7527",
   "metadata": {},
   "source": [
    "**AB = (x2-x1, y2-y1) => (5-2, 5-3) => (3,2)**"
   ]
  },
  {
   "cell_type": "markdown",
   "id": "c245abc0-8325-4c12-8674-19176a5840e9",
   "metadata": {},
   "source": [
    "Lo que en definitiva no deja de ser: 3 a la derecha y 2 arriba."
   ]
  },
  {
   "cell_type": "markdown",
   "id": "b33656c3-e33e-4585-adaa-3c3230c4308a",
   "metadata": {},
   "source": [
    "**Preguntas**"
   ]
  },
  {
   "cell_type": "markdown",
   "id": "bd88cf21-ff7f-47dc-a90d-8f79d45f35a6",
   "metadata": {},
   "source": [
    "- Crea una clase llamada Punto con sus dos coordenadas X e Y.\n",
    "  \n",
    "- Añade un método constructor para crear puntos fácilmente. Si no se reciben una coordenada, su valor será cero.\n",
    "  \n",
    "- Sobreescribe el método string, para que al imprimir por pantalla un punto aparezca en formato (X,Y).\n",
    "  \n",
    "- Añade un método llamado cuadrante que indique a qué cuadrante pertenece el punto, teniendo en cuenta que si X == 0 e Y != 0 se sitúa sobre el eje Y, si X != 0 e Y == 0 se sitúa sobre el eje X y si X == 0 e Y == 0 está sobre el origen.\n",
    "  \n",
    "- Añade un método llamado vector, que tome otro punto y calcule el vector resultante entre los dos puntos.\n",
    "  \n",
    "- (Optativo) Añade un método llamado distancia, que tome otro punto y calcule la distancia entre los dos puntos y la muestre por pantalla. La fórmula es la siguiente:"
   ]
  },
  {
   "cell_type": "markdown",
   "id": "4f1c5631-dc46-4cf2-95a8-f31503e809f5",
   "metadata": {},
   "source": [
    "$d = \\sqrt{(x_{2}-x_{1})^{2}+\\left ( y_{2}-y_{1} \\right )^{2}}$"
   ]
  },
  {
   "cell_type": "markdown",
   "id": "37d99029-f017-4abd-a9c5-e6898259e180",
   "metadata": {},
   "source": [
    "La función raíz cuadrada en Python `sqrt()` se debe importar del módulo `math` y utilizarla de la siguiente forma:"
   ]
  },
  {
   "cell_type": "markdown",
   "id": "68c6ea70-cf08-43c8-b6de-3cb04ff46478",
   "metadata": {},
   "source": [
    "```\n",
    "import math\n",
    "math.sqrt(9)\n",
    "```"
   ]
  },
  {
   "cell_type": "markdown",
   "id": "6872d7af-51b1-489f-9fdf-64f389caad3c",
   "metadata": {},
   "source": [
    "- Crea una clase llamada Rectangulo con dos puntos (inicial y final) que formarán la diagonal del rectángulo.\n",
    "  \n",
    "- Añade un método constructor para crear ambos puntos fácilmente, si no se envían se crearán dos puntos en el origen por defecto.\n",
    "  \n",
    "- Añade al rectángulo un método llamado base que muestre la base.\n",
    "  \n",
    "- Añade al rectángulo un método llamado altura que muestre la altura.\n",
    "  \n",
    "- Añade al rectángulo un método llamado area que muestre el area.\n",
    "  "
   ]
  },
  {
   "cell_type": "code",
   "execution_count": 3,
   "id": "f386bd8c-5844-43eb-9618-41fdf3041ac6",
   "metadata": {},
   "outputs": [
    {
     "name": "stdout",
     "output_type": "stream",
     "text": [
      "El punto (2, 3) pertenece al cuadrante I \n",
      "El punto (5, 5) pertenece al cuadrante I \n",
      "El punto (-3, -1) pertenece al cuadrante III \n",
      "####################################\n",
      "El vector formado por (-9, 6) y (5, 7) es: (14, 1)\n",
      "El vector formado por (5, 7) y (-9, 6) es: (-14, -1)\n",
      "####################################\n",
      "La distancia entre los puntos (9, -6) y (7, 8) es 14.142135623730951\n",
      "La distancia entre los puntos (7, 8) y (9, -6) es 14.142135623730951\n",
      "###################################\n",
      "La base del rectangulo es 3\n",
      "La altura del rectángulo es 2\n",
      "El área del rectángulo es 6\n"
     ]
    }
   ],
   "source": [
    "# Importamos la biblioteca 'math'\n",
    "import math\n",
    "# Creamos clase 'Punto'\n",
    "class Punto:\n",
    "    # Creamos constructor por defecto, de instancia con argumentos por defecto\n",
    "    def __init__(self, x = 0, y = 0):\n",
    "        self.x = x\n",
    "        self.y = y\n",
    "    # Creamos el método str de instancia\n",
    "    def __str__(self):\n",
    "        # Devolvemos cadena con el valor de los atributos de clase\n",
    "        return '({}, {})'.format(self.x, self.y)\n",
    "    # Creamos método público de instancia 'cuadrante'\n",
    "    def cuadrante(self):\n",
    "        # Comprobamos cuadrante del punto mediante bucle if-elif-else\n",
    "        # e imprimimos su posición\n",
    "        if self.x > 0 and self.y > 0:\n",
    "            print('El punto {} pertenece al cuadrante I '.format(self))\n",
    "        elif self.x < 0 and self.y > 0:\n",
    "            print('El punto {} pertenece al cuadrante II '.format(self))\n",
    "        elif self.x < 0 and self.y < 0:\n",
    "            print('El punto {} pertenece al cuadrante III '.format(self))\n",
    "        elif self.x > 0 and self.y < 0:\n",
    "            print('El punto {} pertenece al cuadrante IV '.format(self))\n",
    "        else:\n",
    "            print('{} se encuentra en el origen'.format(self))\n",
    "    # Creamos método público de instancia 'vector'\n",
    "    def vector(self, p):\n",
    "        # Imprimimos los valores del vector entre los dos puntos --> vector\n",
    "        print('El vector formado por {} y {} es: ({}, {})'.format(self, p, p.x-self.x, p.y-self.y))\n",
    "    # Creamos el método de instancia 'distancia'\n",
    "    def distancia(self, p):\n",
    "        # Calculamos la distancia entre puntos del vector\n",
    "        # Raiz cuadrada de la suma de los cuadrados de la resta entre las X's y las Y's\n",
    "        d = math.sqrt((p.x-self.x)**2 + (p.y-self.y)**2)\n",
    "        # Imprimimos los puntos y la distancia\n",
    "        print('La distancia entre los puntos {} y {} es {}'.format(self, p, d))\n",
    "        \n",
    "# Creamos la clase 'Rectangulo'     \n",
    "class Rectángulo:\n",
    "    # Creamos el método constructor por defecto con argumentos instancia como punto inicial y final\n",
    "    def __init__(self, pInicial = Punto(), pFinal = Punto()):\n",
    "        # Asignamos los argumentos a los atributos de instancia\n",
    "        self.pInicial = pInicial\n",
    "        self.pFinal = pFinal\n",
    "    # Creamos el método público de instancia 'base()'\n",
    "    def base(self):\n",
    "        # Creamos el atributo de instancia 'base' \n",
    "        # y le asignamos la diferencia absoluta entre el punto final y el inicial en eje x\n",
    "        self.base = abs(self.pFinal.x - self.pInicial.x)\n",
    "        # Imprimimos la base del rectángulo\n",
    "        print('La base del rectangulo es {}'.format(self.base))\n",
    "    # Creamos el método público de instancia 'altura()'\n",
    "    def altura(self):\n",
    "        # Creamos el atributo de instancia 'altura' \n",
    "        # y le asignamos la diferencia absoluta entre el punto final y el inicial en eje y\n",
    "        self.altura = abs(self.pFinal.y - self.pInicial.y)\n",
    "        # Imprimimos la altura del rectángulo\n",
    "        print('La altura del rectángulo es {}'.format(self.altura))\n",
    "    # Creamos el método público de instancia 'area()'    \n",
    "    def area(self):\n",
    "        # Creamos los atributos de instancia 'base' y 'altura' \n",
    "        # y les asignamos la diferencia absoluta entre el punto final y el inicial \n",
    "        # en X para la base y en Y para la altura \n",
    "        self.base = abs(self.pFinal.x - self.pInicial.x)\n",
    "        self.altura = abs(self.pFinal.y - self.pInicial.y)\n",
    "        # Calculamos el área\n",
    "        self.area = self.base * self.altura\n",
    "        # Imprimimos el área\n",
    "        print('El área del rectángulo es {}'.format(self.area))\n",
    "        \n",
    "        \n",
    "# A(2, 3) , B(5, 5), C(-3, -1) , D(0, 0), E(-9, 6), F(5, 7), G(9, -6) y H(7, 8)\n",
    "# Creamos 8 instancias de la clase 'Punto()'\n",
    "# A, B, C, D, E, F, G y H\n",
    "A = Punto(2,3)\n",
    "B = Punto(5,5)\n",
    "C = Punto(-3, -1)\n",
    "D = Punto(0,0)\n",
    "E = Punto(-9, 6)\n",
    "F = Punto(5, 7)\n",
    "G = Punto(9, -6)\n",
    "H = Punto(7, 8)\n",
    "####################################\n",
    "# Calculamos el cuadrante a las instancias de Punto() A, B y C\n",
    "A.cuadrante()\n",
    "B.cuadrante()\n",
    "C.cuadrante()\n",
    "print('####################################')\n",
    "# Calculamos los vectores entre los puntos E-F y F-E\n",
    "E.vector(F)\n",
    "F.vector(E)\n",
    "print('####################################')\n",
    "# Calculamos la distancia entre los puntos G-H y H-G\n",
    "G.distancia(H)\n",
    "H.distancia(G)\n",
    "##################################################\n",
    "print('###################################')\n",
    "# Creamos una instancia de 'Rectangulo()' con los puntos A y B\n",
    "R = Rectángulo(A, B)\n",
    "# Calculamos la base de la instancia 'R' de la clase 'Rectangulo()'\n",
    "R.base()\n",
    "# Calculamos la altura de la instancia 'R' de la clase 'Rectangulo()'\n",
    "R.altura()\n",
    "# Calculamos la área de la instancia 'R' de la clase 'Rectangulo()'\n",
    "R.area()"
   ]
  },
  {
   "cell_type": "markdown",
   "id": "817cf930",
   "metadata": {},
   "source": [
    "### 3-b\n",
    "__Ejercicio propio__\n",
    "\n",
    "Crea una clase `Circunferencia` que tenga una série de métodos para realizar cálculos sobre ella:\n",
    "\n",
    "- Crea un método que imprima la __longitud__ o __perímetro__ de la circunferencia, `C = 2 * π * r`, donde r es el radio de la circunferencia\n",
    "- Crea un método que imprima el __área__ de ésta, `A = π * r**2`\n",
    "- Crea un método que imprima el __diámetro__ del círculo, `d = 2 * r`\n",
    "- Crea un método que imprima el __radio__ del círculo, `r = d/2`\n",
    "- Crea un método que imprima la __longitud de un arco__, `L = r * θ`, donde θ es el ángulo contenido en radianes\n",
    "- Crea un método que imprima el __área de un sector circular__, `L = r**2 * θ`, donde θ es el ángulo contenido en radianes\n",
    "- Crea un método que imprima el __área de un segmento circular__ , `area_segmento = (θ/360) * (π * r**2) − (1/2) (r**2 * sin(θ))`"
   ]
  },
  {
   "cell_type": "code",
   "execution_count": 13,
   "id": "42868b69",
   "metadata": {},
   "outputs": [],
   "source": [
    "import math\n",
    "\n",
    "class Circunferencia():\n",
    "    \n",
    "    def __init__(self, h, k, r):\n",
    "        self.__h__ = h\n",
    "        self.__k__ = k\n",
    "        self.__r__ = r\n",
    "        \n",
    "    def diametro(self):\n",
    "        print('El diámetro de la circunferencia es {}'.format(2 * self.__r__))\n",
    "    \n",
    "    def area(self):\n",
    "        print('El área de la circunferencia es {}'.format(round(math.pi * math.pow(self.__r__, 2),2)))\n",
    "    \n",
    "    def perimetro(self):\n",
    "        print('El perímetro de la circunferencia es {}'.format(round(2 * math.pi * self.__r__), 2))\n",
    "    \n",
    "    def radio(self, d):\n",
    "        self.__d__ = d\n",
    "        print('El radio de la circunferencia es {}'.format(round(d / 2), 2))\n",
    "    \n",
    "    def longitud_arco(self, angulo_subtendido):\n",
    "        self.__angulo_subtendido__ = angulo_subtendido\n",
    "        print('La longitud de arco de la circunferencia es {}'.format(round(self.__r__ * self.__angulo_subtendido__, 2)))\n",
    "        \n",
    "    def area_sector_circular(self, angulo_subtendido):\n",
    "        self.__angulo_subtendido__ = angulo_subtendido        \n",
    "        print('El área del sector circular de la circunferencia es {}'.format(round(math.pow(self.__r__, 2) * self.__angulo_subtendido__, 2)))\n",
    "        \n",
    "    def area_segmento_circular(self, angulo_subtendido):\n",
    "        self.__angulo_subtendido__ = angulo_subtendido        \n",
    "        print('El área del segmento circular de la circunferencia es {}'.format(round((self.__angulo_subtendido__/math.radians(360)) * (math.pi * math.pow(self.__r__, 2))) - ((1/2) * (math.pow(self.__r__, 2) * math.sin(self.__angulo_subtendido__)))))\n",
    "        "
   ]
  },
  {
   "cell_type": "code",
   "execution_count": 14,
   "id": "ebc2aea4",
   "metadata": {},
   "outputs": [
    {
     "name": "stdout",
     "output_type": "stream",
     "text": [
      "El diámetro de la circunferencia es 10\n",
      "El área de la circunferencia es 78.54\n",
      "El perímetro de la circunferencia es 31\n",
      "El radio de la circunferencia es 5\n",
      "La longitud de arco de la circunferencia es 7.85\n",
      "El área del sector circular de la circunferencia es 39.27\n",
      "El área del segmento circular de la circunferencia es 7.5\n"
     ]
    }
   ],
   "source": [
    "# Crear una instancia de Circunferencia\n",
    "mi_circunferencia = Circunferencia(h=0, k=0, r=5)\n",
    "\n",
    "# Aplicar los métodos\n",
    "mi_circunferencia.diametro()  # El diámetro de la circunferencia es 10\n",
    "mi_circunferencia.area()      # El área de la circunferencia es 78.53981633974483\n",
    "mi_circunferencia.perimetro() # El perímetro de la circunferencia es 31.41592653589794\n",
    "mi_circunferencia.radio(10)   # El radio de la circunferencia es 5.0\n",
    "\n",
    "# Calcular longitud de arco para un ángulo de 90 grados (π/2 radianes)\n",
    "mi_circunferencia.longitud_arco(math.pi / 2)  # La longitud de arco de la circunferencia es 7.853981633974483\n",
    "\n",
    "# Calcular área del sector circular para un ángulo de 90 grados (π/2 radianes)\n",
    "mi_circunferencia.area_sector_circular(math.pi / 2)  # El área del sector circular es 39.269908169872416\n",
    "\n",
    "# Calcular área del segmento circular para un ángulo de 90 grados (π/2 radianes)\n",
    "mi_circunferencia.area_segmento_circular(math.pi / 2)  # El área del segmento circular es 19.634954084936208"
   ]
  },
  {
   "cell_type": "markdown",
   "id": "0f0038e6-e25d-47de-9616-dab0b31166b1",
   "metadata": {},
   "source": [
    "**4 -** En esta ejemplo vas a trabajar el concepto de herencia un poco más en profundidad, aprovechando para introducir un nuevo concepto muy importante que te facilitará la vida.  \n",
    "Hasta ahora sabemos que una clase heredada puede fácilmente extender algunas funcionalidades, simplemente añadiendo nuevos atributos y métodos, o sobreescribiendo los ya existentes. Como en el siguiente ejemplo:"
   ]
  },
  {
   "cell_type": "markdown",
   "id": "e3196e97-0e61-4d8e-8209-2e3b28fc4877",
   "metadata": {},
   "source": [
    "![1](1.png)"
   ]
  },
  {
   "cell_type": "code",
   "execution_count": 6,
   "id": "6d560bb7-1041-45b0-9c03-b5de014d8116",
   "metadata": {},
   "outputs": [
    {
     "name": "stdout",
     "output_type": "stream",
     "text": [
      "color azul, 4 km/h, 150 ruedas, 1200 cc\n"
     ]
    }
   ],
   "source": [
    "class Vehiculo():\n",
    "\n",
    "    def __init__(self, color, ruedas):\n",
    "        self.color = color\n",
    "        self.ruedas = ruedas\n",
    "\n",
    "    def __str__(self):\n",
    "        return \"Color {}, {} ruedas\".format( self.color, self.ruedas )\n",
    "\n",
    "class Coche(Vehiculo):\n",
    "\n",
    "    def __init__(self, color, ruedas, velocidad, cilindrada):\n",
    "        self.color = color\n",
    "        self.ruedas = ruedas\n",
    "        self.velocidad = velocidad\n",
    "        self.cilindrada = cilindrada\n",
    "\n",
    "    def __str__(self):\n",
    "        return \"color {}, {} km/h, {} ruedas, {} cc\".format( self.color, self.velocidad, self.ruedas, self.cilindrada )\n",
    "\n",
    "\n",
    "coche = Coche(\"azul\", 150, 4, 1200)\n",
    "print(coche)"
   ]
  },
  {
   "cell_type": "markdown",
   "id": "9ee34142-89b9-4521-8753-c16ecd934a26",
   "metadata": {},
   "source": [
    "El inconveniente más evidente de ir sobreescribiendo es que tenemos que volver a escribir el código de la superclase y luego el específico de la subclase. Para evitarnos escribir código innecesario, podemos utilizar un truco que consiste en llamar el método de la superclase y luego simplemente escribir el código de la clase:"
   ]
  },
  {
   "cell_type": "code",
   "execution_count": 7,
   "id": "56299e0c-4a3f-48cc-92fe-166086a401ab",
   "metadata": {},
   "outputs": [
    {
     "name": "stdout",
     "output_type": "stream",
     "text": [
      "Color azul, 4 ruedas, 150 km/h, 1200 cc\n"
     ]
    }
   ],
   "source": [
    "class Vehiculo():\n",
    "\n",
    "    def __init__(self, color, ruedas):\n",
    "        self.color = color\n",
    "        self.ruedas = ruedas\n",
    "\n",
    "    def __str__(self):\n",
    "        return \"Color {}, {} ruedas\".format( self.color, self.ruedas )\n",
    "\n",
    "\n",
    "class Coche(Vehiculo):\n",
    "\n",
    "    def __init__(self, color, ruedas, velocidad, cilindrada):\n",
    "        Vehiculo.__init__(self, color, ruedas)\n",
    "        self.velocidad = velocidad\n",
    "        self.cilindrada = cilindrada\n",
    "\n",
    "    def __str__(self):\n",
    "        return Vehiculo.__str__(self) + \", {} km/h, {} cc\".format(self.velocidad, self.cilindrada)\n",
    "\n",
    "\n",
    "c = Coche(\"azul\", 4, 150, 1200)\n",
    "print(c)"
   ]
  },
  {
   "cell_type": "markdown",
   "id": "a2cde0b6-8bc2-433e-b051-12760e5ba501",
   "metadata": {},
   "source": [
    "Determinar constantemente la superclase puede ser fastidioso, Python nos permite utilizar un acceso directo mucho más cómodo llamado super(). Hacerlo de esta forma nos permite llamar cómodamente los métodos o atributos de la superclase sin necesidad de especificar el self."
   ]
  },
  {
   "cell_type": "code",
   "execution_count": 8,
   "id": "b2351940-6243-4f1e-a9a9-988adcc0c51c",
   "metadata": {},
   "outputs": [
    {
     "name": "stdout",
     "output_type": "stream",
     "text": [
      "Color azul, 4 ruedas, 150 km/h, 1200 cc\n"
     ]
    }
   ],
   "source": [
    "class Vehiculo():\n",
    "\n",
    "    def __init__(self, color, ruedas):\n",
    "        self.color = color\n",
    "        self.ruedas = ruedas\n",
    "\n",
    "    def __str__(self):\n",
    "        return \"Color {}, {} ruedas\".format( self.color, self.ruedas )\n",
    "\n",
    "\n",
    "class Coche(Vehiculo):\n",
    "\n",
    "    def __init__(self, color, ruedas, velocidad, cilindrada):\n",
    "        super().__init__(color, ruedas) # Utilizanmos super() sin self en lugar de vehículo (nombre de la superclase)\n",
    "        self.velocidad = velocidad\n",
    "        self.cilindrada = cilindrada\n",
    "\n",
    "    def __str__(self):\n",
    "        return super().__str__() + \", {} km/h, {} cc\".format(self.velocidad, self.cilindrada)\n",
    "\n",
    "\n",
    "c = Coche(\"azul\", 4, 150, 1200)\n",
    "print(c)"
   ]
  },
  {
   "cell_type": "markdown",
   "id": "02149e59-acb3-4fc3-b532-50bb058ecb87",
   "metadata": {},
   "source": [
    "Utilizando esta nueva técnica extiende la clase Vehiculo y realiza la siguiente implementación:"
   ]
  },
  {
   "cell_type": "markdown",
   "id": "1045b5ee-5867-46cb-9335-c45841e6cb46",
   "metadata": {},
   "source": [
    "![2](2.png)"
   ]
  },
  {
   "cell_type": "markdown",
   "id": "879cce60-8af4-4951-9732-4ed2e1b9a876",
   "metadata": {},
   "source": [
    "- Crea al menos un objeto de cada subclase y añádelos a una lista llamada vehículos.\n",
    "- Realiza una función llamada **catalogar()** que reciba la lista de vehiculos y los recorra mostrando el nombre de su clase y sus atributos.\n",
    "- Modifica la función **catalogar()** para que reciba un argumento optativo ruedas, haciendo que muestre únicamente los que su número de ruedas concuerde con el valor del argumento. También debe mostrar un mensaje *\"Se han encontrado {} vehículos con {} ruedas:\"* únicamente si se envía el argumento ruedas. Ponla a prueba con 0, 2 y 4 ruedas como valor."
   ]
  },
  {
   "cell_type": "markdown",
   "id": "c2c11ee9-3f3c-462b-8b0e-9985181d3b1e",
   "metadata": {},
   "source": [
    "**Recordatorio:** *Puedes utilizar el atributo especial **name** de la siguiente forma para recuperar el nombre de la clase de un objeto:\n",
    "`type(objeto).__name__`"
   ]
  },
  {
   "cell_type": "code",
   "execution_count": 10,
   "id": "c0eb39ae-0be3-47cb-a429-1c7ab92df710",
   "metadata": {},
   "outputs": [
    {
     "name": "stdout",
     "output_type": "stream",
     "text": [
      "Coche Color Azul, 4 ruedas, 150 km/h, 1200 cc\n",
      "Camioneta Color Blanco, 4 ruedas, 100 km/h, 1300 cc, 1500 kg de carga\n",
      "Bicicleta Color Verde, 2 ruedas, Urbana\n",
      "Motocicleta Color Negro, 2 ruedas, Deportiva, 180 km/h , 900 cc\n",
      "··························\n",
      "Se han encontrado 2 vehiculos con 4 ruedas: \n",
      "===================================================================================\n",
      "Coche Color Azul, 4 ruedas, 150 km/h, 1200 cc\n",
      "Camioneta Color Blanco, 4 ruedas, 100 km/h, 1300 cc, 1500 kg de carga\n"
     ]
    }
   ],
   "source": [
    "# Clase 'Vehículo'\n",
    "class Vehiculo():\n",
    "    # Constructor por defecto de instancia con dos argumentos: 'color' y 'ruedas'\n",
    "    def __init__(self, color, ruedas):\n",
    "        self.color = color\n",
    "        self.ruedas = ruedas\n",
    "    # Sobreescritura método 'string'\n",
    "    def __str__(self):\n",
    "        return \"Color {}, {} ruedas\".format( self.color, self.ruedas )\n",
    "\n",
    "# Subclase 'Coche' de superclase 'Vehículo'\n",
    "class Coche(Vehiculo):\n",
    "    # Constructor por defecto de instancia con 4 argumentos:\n",
    "    # 'color', 'ruedas', 'velocidad', 'cilindrada'\n",
    "    def __init__(self, color, ruedas, velocidad, cilindrada):\n",
    "        # Llamada al constructor de la super clase 'Vehículo'\n",
    "        super().__init__(color, ruedas) # Utilizanmos super() sin self en lugar de vehículo (nombre de la superclase)\n",
    "        # Atributos de instancia 'velocidad' y 'cilindrada'\n",
    "        self.velocidad = velocidad\n",
    "        self.cilindrada = cilindrada\n",
    "    # Sobreescritura del método 'string'\n",
    "    def __str__(self):\n",
    "        return super().__str__() + \", {} km/h, {} cc\".format(self.velocidad, self.cilindrada)\n",
    "\n",
    "# Completa el ejercicio aquí\n",
    "\n",
    "# Subclase 'Camioneta' de Superclase 'Coche' \n",
    "class Camioneta(Coche):\n",
    "    # Constructor por defecto de instancia con 5 argumentos:\n",
    "    # 'color', 'ruedas', 'velocidad', 'cilindrada', 'carga'\n",
    "    def __init__(self, color, ruedas, velocidad, cilindrada, carga):\n",
    "        # Llamada al super-constructor de clase padre 'Coche'\n",
    "        super().__init__(color, ruedas, velocidad, cilindrada) \n",
    "        # Atributo de instancia 'carga'\n",
    "        self.carga = carga\n",
    "    # Sobreescritura método 'string'\n",
    "    def __str__(self):\n",
    "        return super().__str__() + \", {} kg de carga\".format(self.carga)\n",
    "    \n",
    "# Subclase 'Bicicleta' de Superclase 'Vehículo' \n",
    "class Bicicleta(Vehiculo):\n",
    "    # Constructor por defecto de instancia con 3 argumentos propios\n",
    "    def __init__(self, color, ruedas, tipo):\n",
    "        # Llamada al superconstructor clase padre 'Vehículo' con 2 argumentos\n",
    "        super().__init__(color, ruedas)\n",
    "        # Atributo de instancia 'tipo'\n",
    "        self.tipo = tipo\n",
    "    # Sobreescritura método 'string'\n",
    "    def __str__(self):\n",
    "        return super().__str__() + \", {}\".format(self.tipo)\n",
    "    \n",
    "# Subclase 'Motocicleta' de superclase 'Bicicleta'\n",
    "class Motocicleta(Bicicleta):\n",
    "    # Constructor por defecto de instancia con 5 argumentos propios\n",
    "    def __init__(self, color, ruedas, tipo, velocidad, cilindrada):\n",
    "        # Llamada al superconstructor clase padre 'Bicicleta' con 2 argumentos\n",
    "        super().__init__(color, ruedas, tipo)\n",
    "        # Atributos de instancia 'velocidad' y 'cilindrada'\n",
    "        self.velocidad = velocidad\n",
    "        self.cilindrada = cilindrada\n",
    "    # Sobreescritura médoto 'string'\n",
    "    def __str__(self):\n",
    "        return super().__str__() + \", {} km/h , {} cc\".format(self.velocidad, self.cilindrada)\n",
    "# Creación de una lista de instancias de superclase 'Vehículo'\n",
    "vehiculos = [Coche(\"Azul\",4, 150, 1200), \n",
    "            Camioneta(\"Blanco\", 4, 100, 1300, 1500),\n",
    "            Bicicleta(\"Verde\", 2, \"Urbana\"),\n",
    "            Motocicleta(\"Negro\",2, \"Deportiva\", 180, 900)]\n",
    "\n",
    "# Método 'catalogar' para imprimir la lista de instancias 'Vehículo'\n",
    "def catalogar(lista):  # Primera variante\n",
    "    # Bucle for\n",
    "    for vehiculo in lista:\n",
    "        # Aplicación de método 'type().__name__' a la instancia 'Vehiculo'\n",
    "        print(\"{} {}\".format(type(vehiculo).__name__, vehiculo))\n",
    "\n",
    "# Llamada al método 'catalogar(lista)\n",
    "catalogar(vehiculos)\n",
    "print(\"··························\")\n",
    "\n",
    "# Método 'catalogar_m' para imprimir la lista de instancias de 'Vehículo'\n",
    "def catalogar_m(lista, ruedas=None):  # Segunda variante\n",
    "    # Condicional 'if' para comprobar si argumento 'ruedas' es nulo\n",
    "    if ruedas != None:\n",
    "        # Variable acumulativa 'contador' puesta a cero\n",
    "        contador = 0\n",
    "        # Bucle for para recorrer lista de instancias 'Vehiculo'\n",
    "        for vehiculo in vehiculos:\n",
    "            # Si atributo 'ruedas' del vehículo es igual al argumento 'ruedas'\n",
    "            if vehiculo.ruedas == ruedas:\n",
    "                # Suma uno a variable acumulativa\n",
    "                contador += 1 \n",
    "        # Impresión mensaje con número de vehículos y número 'ruedas'\n",
    "        print(\"Se han encontrado {} vehiculos con {} ruedas: \".format(contador, ruedas))\n",
    "        print(\"===================================================================================\")\n",
    "    # Bucle for para recorrer lista de instancias 'Vehículo'\n",
    "    for vehiculo in lista:\n",
    "        # Si argumento 'ruedas' es nulo\n",
    "        if ruedas == None:\n",
    "            # Impresión mensaje que aplica método 'type().__name__' a objeto de lista\n",
    "            print(\"{} {}\".format(type(vehiculo).__name__, vehiculo))\n",
    "        # Si atributo de instancia de lista 'ruedas' es igual a argumento de método 'ruedas'\n",
    "        elif vehiculo.ruedas == ruedas:\n",
    "            # Impresión mensaje que aplica método 'type().__name__' a objeto de lista\n",
    "            print(\"{} {}\".format(type(vehiculo).__name__, vehiculo))\n",
    "# Llamada al método 'catalogar_m() con dos argumentos\n",
    "catalogar_m(vehiculos, 4)"
   ]
  },
  {
   "cell_type": "markdown",
   "id": "7464a2fc",
   "metadata": {},
   "source": [
    "### 4-b\n",
    "__Ejercicio propio__\n",
    "\n",
    "Crea una superclase 'Vertebrado' y 5 subclases: 'Mamifero', 'Reptil', 'Anfibio', 'Ave' y 'Pez', y 5 subclases de éstas a su vez:\n",
    "\n",
    "- Crear la superclase 'Vertabrado' con los atributos: 'extremidades', 'piel' y 'espina dorsal' \n",
    "    - Crear la subclase(Vertebrado) 'Mamifero' con atributo propio: 'medio'(acuático, terrestre o volador)\n",
    "        - Crea la subclase(Mamifero) 'SerHumano' con atributo propio: 'pelo' y 'altura'\n",
    "    - Crear la subclase(Vertebrado) 'Reptil' con atributo propio: 'peso'\n",
    "    - Crear la subclase(Vertebrado) 'Anfibio' con atributo propio: 'cola'\n",
    "    - Crear la subclase(Vertebrado) 'Pez' con atributo propio: 'esqueleto'(cartilaginoso u óseo)\n",
    "        - Crear la subclase(Pez) 'Tiburon' con atributo propio: 'zona'"
   ]
  },
  {
   "cell_type": "code",
   "execution_count": 7,
   "id": "438cd20a-e3e2-4748-9288-d0fa8a3bba1e",
   "metadata": {},
   "outputs": [
    {
     "name": "stdout",
     "output_type": "stream",
     "text": [
      "Mamifero Número extremidades 4, tipo piel gris y largo espina dorsal 4350, medio terrestre\n",
      "SerHumano Número extremidades 4, tipo piel blanca y largo espina dorsal 53, medio terrestre, pelo blanco y altura 180 cm\n",
      "Reptil Número extremidades 4, tipo piel verde y largo espina dorsal 20, peso 0.356 kg\n",
      "Anfibio Número extremidades 2, tipo piel azul y largo espina dorsal 5, cola True\n",
      "Pez Número extremidades 2, tipo piel negra y largo espina dorsal 16, esqueleto oseo\n",
      "Tiburon Número extremidades 8, tipo piel gris oscuro y largo espina dorsal 5400, esqueleto cartilaginoso, zona Indico\n",
      "··························\n",
      "Se han encontrado 2 vertebrados con 2 extremidades:\n",
      "===================================================================================\n",
      "Anfibio Número extremidades 2, tipo piel azul y largo espina dorsal 5, cola True\n",
      "Pez Número extremidades 2, tipo piel negra y largo espina dorsal 16, esqueleto oseo\n"
     ]
    }
   ],
   "source": [
    "# Superclase 'Vertebrado'\n",
    "class Vertebrado:\n",
    "    def __init__(self, extremidades, piel, espina_dorsal):\n",
    "        self.extremidades = extremidades\n",
    "        self.piel = piel\n",
    "        self.espina_dorsal = espina_dorsal\n",
    "        \n",
    "    def __str__(self):\n",
    "        return \"Número extremidades {}, tipo piel {} y largo espina dorsal {}\".format(self.extremidades, self.piel, self.espina_dorsal)\n",
    "\n",
    "# Subclase 'Mamifero' de superclase 'Vertebrado'\n",
    "class Mamifero(Vertebrado):\n",
    "    def __init__(self, extremidades, piel, espina_dorsal, medio):\n",
    "        super().__init__(extremidades, piel, espina_dorsal)\n",
    "        self.medio = medio\n",
    "        \n",
    "    def __str__(self):\n",
    "        return super().__str__() + \", medio {}\".format(self.medio)\n",
    "        \n",
    "# Subclase 'SerHumano' de subclase 'Mamifero'\n",
    "class SerHumano(Mamifero):\n",
    "    def __init__(self, extremidades, piel, espina_dorsal, medio, pelo, altura):\n",
    "        super().__init__(extremidades, piel, espina_dorsal, medio)\n",
    "        self.pelo = pelo\n",
    "        self.altura = altura\n",
    "        \n",
    "    def __str__(self):\n",
    "        return super().__str__() + \", pelo {} y altura {} cm\".format(self.pelo, self.altura)\n",
    "\n",
    "# Subclase 'Reptil' de superclase 'Vertebrado'\n",
    "class Reptil(Vertebrado):\n",
    "    def __init__(self, extremidades, piel, espina_dorsal, peso):\n",
    "        super().__init__(extremidades, piel, espina_dorsal)\n",
    "        self.peso = peso\n",
    "        \n",
    "    def __str__(self):\n",
    "        return super().__str__() + \", peso {} kg\".format(self.peso)\n",
    "\n",
    "# Subclase 'Anfibio' de superclase 'Vertebrado'\n",
    "class Anfibio(Vertebrado):\n",
    "    def __init__(self, extremidades, piel, espina_dorsal, cola):\n",
    "        super().__init__(extremidades, piel, espina_dorsal)\n",
    "        self.cola = cola\n",
    "        \n",
    "    def __str__(self):\n",
    "        return super().__str__() + \", cola {}\".format(self.cola)\n",
    "\n",
    "# Subclase 'Pez' de superclase 'Vertebrado'\n",
    "class Pez(Vertebrado):\n",
    "    def __init__(self, extremidades, piel, espina_dorsal, esqueleto):\n",
    "        super().__init__(extremidades, piel, espina_dorsal)\n",
    "        self.esqueleto = esqueleto\n",
    "        \n",
    "    def __str__(self):\n",
    "        return super().__str__() + \", esqueleto {}\".format(self.esqueleto)\n",
    "\n",
    "# Subclase 'Tiburon' de subclase 'Pez'\n",
    "class Tiburon(Pez):\n",
    "    def __init__(self, extremidades, piel, espina_dorsal, esqueleto, zona):\n",
    "        super().__init__(extremidades, piel, espina_dorsal, esqueleto)\n",
    "        self.zona = zona\n",
    "        \n",
    "    def __str__(self):\n",
    "        return super().__str__() + \", zona {}\".format(self.zona)\n",
    "\n",
    "# Creación de una lista de instancias de superclase 'Vertebrado'\n",
    "vertebrados = [\n",
    "    Mamifero(4, 'gris', 4350, 'terrestre'), \n",
    "    SerHumano(4, 'blanca', 53, 'terrestre', 'blanco', 180),\n",
    "    Reptil(4, 'verde', 20, 0.356),\n",
    "    Anfibio(2, 'azul', 5, True),\n",
    "    Pez(2, 'negra', 16, 'oseo'),\n",
    "    Tiburon(8, 'gris oscuro', 5400, 'cartilaginoso', 'Indico')\n",
    "]\n",
    "\n",
    "# Método 'mostrar' para imprimir la lista de instancias 'Vertebrado'\n",
    "def mostrar(lista):\n",
    "    for vertebrado in lista:\n",
    "        print(\"{} {}\".format(type(vertebrado).__name__, vertebrado))\n",
    "\n",
    "# Llamada al método 'mostrar'\n",
    "mostrar(vertebrados)\n",
    "print(\"··························\")\n",
    "\n",
    "# Método 'mostrar_2' para imprimir la lista de instancias de 'Vertebrado'\n",
    "def mostrar_2(lista, extremidades=None):\n",
    "    if extremidades is not None:\n",
    "        contador = sum(1 for vertebrado in lista if vertebrado.extremidades == extremidades)\n",
    "        print(\"Se han encontrado {} vertebrados con {} extremidades:\".format(contador, extremidades))\n",
    "        print(\"===================================================================================\")\n",
    "    for vertebrado in lista:\n",
    "        if extremidades is None or vertebrado.extremidades == extremidades:\n",
    "            print(\"{} {}\".format(type(vertebrado).__name__, vertebrado))\n",
    "\n",
    "# Llamada al método 'mostrar_2' con dos argumentos\n",
    "mostrar_2(vertebrados, 2)\n"
   ]
  }
 ],
 "metadata": {
  "kernelspec": {
   "display_name": "Python 3 (ipykernel)",
   "language": "python",
   "name": "python3"
  },
  "language_info": {
   "codemirror_mode": {
    "name": "ipython",
    "version": 3
   },
   "file_extension": ".py",
   "mimetype": "text/x-python",
   "name": "python",
   "nbconvert_exporter": "python",
   "pygments_lexer": "ipython3",
   "version": "3.11.9"
  }
 },
 "nbformat": 4,
 "nbformat_minor": 5
}
