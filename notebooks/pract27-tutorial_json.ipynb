{
 "cells": [
  {
   "cell_type": "markdown",
   "metadata": {},
   "source": [
    "### ¿Cómo manejar JSON en Python?\n",
    "\n",
    "En este artículo, aprenderemos y comprenderemos cómo analizar, leer y escribir\n",
    "JSON en Python. Veremos diferentes conversiones de JSON en diferentes objetos\n",
    "Python junto con un bonus."
   ]
  },
  {
   "cell_type": "markdown",
   "metadata": {},
   "source": [
    "Estructura\n",
    "\n",
    "El JSON se construye sobre dos estructuras:\n",
    "\n",
    "1. Colección de pares nombre/valor. En muchos lenguajes de programación,\n",
    "solemos referirnos a ella como objeto, registro, estructura, diccionario,\n",
    "tabla hash, etc.\n",
    "\n",
    "2. Una lista ordenada de valores. En muchos lenguajes de programación, nos\n",
    "referimos a esto como un\n",
    "matriz, vector, lista o secuencia."
   ]
  },
  {
   "cell_type": "markdown",
   "metadata": {},
   "source": [
    "Sintaxis\n",
    "\n",
    "Un objeto es un conjunto desordenado de pares nombre/valor. Cada vez que un objeto\n",
    "seguido de : dos puntos y los pares nombre/valor van separados por una , coma.\n",
    "\n",
    "Por ejemplo:"
   ]
  },
  {
   "cell_type": "code",
   "execution_count": 1,
   "metadata": {},
   "outputs": [],
   "source": [
    "ejemplo = {\"nombre\": \"Jake\", \"lenguajes de programación\": [\"Python\", \"Kotlin\"]}"
   ]
  },
  {
   "cell_type": "markdown",
   "metadata": {},
   "source": [
    "### Conjunto de datos\n",
    "\n",
    "Vamos a ceñirnos a un único conjunto de datos a lo largo de este artículo por coherencia. Recomiendo marcar, bifurcar o iniciar este repositorio porque tiene uno de los mejores conjuntos de datos en formato JSON.\n",
    "\n",
    "https://github.com/jdorfman/awesome-json-datasets?tab=readme-ov-file#bitcoin\n"
   ]
  },
  {
   "cell_type": "markdown",
   "metadata": {},
   "source": [
    "### Detalles del conjunto de datos\n",
    "\n",
    "A continuación se ofrece información detallada sobre el conjunto de datos:\n",
    "Pss: Cómo he conseguido esto, por favor refiérase al ejemplo de bonificación a continuación:\n",
    "\n",
    "Nombre: Barrios en Reino Unido (Leicestershire)\n",
    "Enlace: https://data.police.uk/api/leicestershire/neighbourhoods\n",
    "RangeIndex: 6 entradas, 0 a 5\n",
    "Columnas de datos (total 2 columnas):\n",
    "\n",
    "\n",
    "| #  | Column  | Non-Null Count | Dtype  |\n",
    "|----|---------|----------------|--------|\n",
    "|  0 |    id   |   6 non-null   | object |\n",
    "|  1 |    name |   6 non-null   | object |\n",
    "dtypes: object(2)\n",
    "memory usage: 224.0+ KB\n"
   ]
  },
  {
   "cell_type": "markdown",
   "metadata": {},
   "source": [
    "### Visualización del conjunto de datos\n",
    "\n",
    "Así es como se ven los datos en formato JSON. Bueno, sé que se ve horrible, pero no todo el tiempo los conjuntos de datos se supone que debe tener un aspecto limpio; es su trabajo para que se vean bien.\n",
    "\n",
    "Sólo he tomado unas pocas instancias del conjunto de datos, debido a su tamaño."
   ]
  },
  {
   "cell_type": "markdown",
   "metadata": {},
   "source": [
    "[{\"id\":\"NC04\",\"name\":\"City Centre\"},{\"id\":\"NC66\",\"name\":\"Cultural Quarter\"},{\"id\":\"NC67\" ,\"name\":\"Riverside\"},\n",
    "{\"id\":\"NC68\",\"name\":\"Clarendon Park\"},{\"id\":\"NE06\",\"name\":\"Belgrave South\"},{\"id\":\"NE10\",\"name\":\"Belgrave North\"}]"
   ]
  },
  {
   "cell_type": "code",
   "execution_count": 9,
   "metadata": {},
   "outputs": [],
   "source": [
    "json_data = '[{\"id\":\"NC04\",\"name\":\"Centro ciudad\"}, {\"id\":\"NC66\",\"name\":\"Cultural Quarter\"}, {\"id\":\"NC67\",\"name\":\"Riverside\"}, {\"id\":\"NC68\",\"name\":\"Clarendon Park\"},{\"id\":\"NE06\",\"name\":\"Belgrave South\"},{\"id\":\"NE10\",\"name\":\"Belgrave North\"}]'"
   ]
  },
  {
   "cell_type": "markdown",
   "metadata": {},
   "source": [
    "### Importar el módulo\n",
    "\n",
    "En realidad no necesitamos instalar ningún módulo externo. Es una de esas\n",
    "bibliotecas integradas en las que no es necesario escribir nada.\n",
    "\n",
    "__pip install json__"
   ]
  },
  {
   "cell_type": "markdown",
   "metadata": {},
   "source": [
    "Así que todo lo que tienes que hacer es decir:\n",
    "\n",
    "__import json__\n",
    "\n",
    "\n",
    "Nota: Recuerda que import json es un módulo de Python, así que para usarlo necesitas importarlo primero."
   ]
  },
  {
   "cell_type": "code",
   "execution_count": null,
   "metadata": {},
   "outputs": [],
   "source": [
    "import json as js"
   ]
  },
  {
   "cell_type": "markdown",
   "metadata": {},
   "source": [
    "### Análisis de una cadena JSON (lectura y escritura)\n",
    "\n",
    "__Conversión de una cadena JSON a Python__\n",
    "\n",
    "Análisis de una cadena JSON mediante loads() . La función loads() toma una\n",
    "cadena JSON como entrada y devuelve un diccionario o una lista.\n",
    "\n",
    "Recuerde, si hay una sola entrada en el conjunto de datos entonces el \n",
    "loads() devolverá un diccionario de lo contrario para múltiples entradas como el conjunto de datos anterior el loads() devolverá una lista.\n",
    "\n",
    "__Entrada única frente a entradas múltiples__\n",
    "\n",
    "En concreto, un conjunto de datos que sólo tiene una fila se denomina entrada única, mientras que un conjunto de datos con más de dos filas se denomina entradas múltiples. El ejemplo siguiente lo aclara mejor."
   ]
  },
  {
   "cell_type": "markdown",
   "metadata": {},
   "source": [
    "### Tabla 1\n",
    "\n",
    "| Registro | Nombre | Edad | Ciudad    |\n",
    "|----------|--------|------|-----------|\n",
    "| 0        | John   | 30   | New York  |\n",
    "\n",
    "Entrada única - Una Fila\n",
    "\n",
    "\n",
    "### Tabla 2\n",
    "\n",
    "| Registro | Nombre | Edad | Ciudad        |\n",
    "|----------|--------|------|---------------|\n",
    "| 0        | John   | 30   | New York      |\n",
    "| 1        | Depp   | 35   | New Brunswick |\n",
    "\n",
    "Múltiples entradas - Dos Filas\n",
    "\n"
   ]
  },
  {
   "cell_type": "markdown",
   "metadata": {},
   "source": [
    "### Sintaxis\n",
    "\n",
    "La sintaxis de loads() es bastante trivial. Pasamos un único parámetro la mayoría de\n",
    "las veces, que son los propios datos json."
   ]
  },
  {
   "cell_type": "code",
   "execution_count": 11,
   "metadata": {},
   "outputs": [],
   "source": [
    "import json\n",
    "variable = json.loads(json_data)"
   ]
  },
  {
   "cell_type": "markdown",
   "metadata": {},
   "source": [
    "### Ejemplo\n",
    "\n",
    "Utilicemos los datos_json almacenados anteriormente como nuestro conjunto de\n",
    "datos base y pasémoslos a loads() ."
   ]
  },
  {
   "cell_type": "markdown",
   "metadata": {},
   "source": [
    "\\# Importar módulo json"
   ]
  },
  {
   "cell_type": "code",
   "execution_count": 12,
   "metadata": {},
   "outputs": [],
   "source": [
    "import json"
   ]
  },
  {
   "cell_type": "markdown",
   "metadata": {},
   "source": [
    "\\# Pasar los datos json al método loads"
   ]
  },
  {
   "cell_type": "code",
   "execution_count": 13,
   "metadata": {},
   "outputs": [],
   "source": [
    "barrio = json.loads(json_data)"
   ]
  },
  {
   "cell_type": "markdown",
   "metadata": {},
   "source": [
    "\\# Impresión del resultado - lista"
   ]
  },
  {
   "cell_type": "code",
   "execution_count": 14,
   "metadata": {},
   "outputs": [
    {
     "name": "stdout",
     "output_type": "stream",
     "text": [
      "[{'id': 'NC04', 'name': 'Centro ciudad'}, {'id': 'NC66', 'name': 'Cultural Quarter'}, {'id': 'NC67', 'name': 'Riverside'}, {'id': 'NC68', 'name': 'Clarendon Park'}, {'id': 'NE06', 'name': 'Belgrave South'}, {'id': 'NE10', 'name': 'Belgrave North'}]\n",
      "\n"
     ]
    }
   ],
   "source": [
    "print(barrio)\n",
    "print(\"\")"
   ]
  },
  {
   "cell_type": "markdown",
   "metadata": {},
   "source": [
    "\n",
    "\\# Comprobación del tipo de la variable"
   ]
  },
  {
   "cell_type": "code",
   "execution_count": 15,
   "metadata": {},
   "outputs": [
    {
     "name": "stdout",
     "output_type": "stream",
     "text": [
      "<class 'list'>\n",
      "\n"
     ]
    }
   ],
   "source": [
    "print(type(barrio))\n",
    "print(\"\")"
   ]
  },
  {
   "cell_type": "markdown",
   "metadata": {},
   "source": [
    "\\# Acceso al primer elemento de la lista - Utilización del índice"
   ]
  },
  {
   "cell_type": "code",
   "execution_count": 16,
   "metadata": {},
   "outputs": [
    {
     "name": "stdout",
     "output_type": "stream",
     "text": [
      "{'id': 'NC04', 'name': 'Centro ciudad'}\n"
     ]
    }
   ],
   "source": [
    "print(barrio[0])"
   ]
  },
  {
   "cell_type": "markdown",
   "metadata": {},
   "source": [
    "Como he mencionado antes, la función loads() puede devolver una lista o un\n",
    "diccionario dependiendo de los datos en formato JSON. En este caso, se trata de\n",
    "una lista, por lo que la salida anterior sería:\n",
    "\n",
    "~~~\n",
    "{'id': 'NC04', 'name': 'City Centre'}, \n",
    "{'id': 'NC66', 'name': 'Cultural Quarter'}, \n",
    "{'id': 'NC67', 'name': 'Riverside'}, \n",
    "{'id':\"NC68\", \"name\": \"Clarendon Park\"}, \n",
    "{\"id\": \"NE06\", \"name\":\"Belgrave South'}, \n",
    "{'id': 'NE10', 'name': 'Belgrave North'}\n",
    "\n",
    "<class 'list'>\n",
    "\n",
    "{'id': 'NC04', 'name': 'Centro ciudad'}\n",
    "~~~"
   ]
  },
  {
   "cell_type": "markdown",
   "metadata": {},
   "source": [
    "### Conversión de datos Python a una cadena JSON\n",
    "\n",
    "Análisis de un objeto Python usando dumps() . La función dumps() toma un objeto Python como entrada y devuelve una cadena JSON."
   ]
  },
  {
   "cell_type": "markdown",
   "metadata": {},
   "source": [
    "### Sintaxis\n",
    "\n",
    "La sintaxis de dumps() es bastante trivial. Pasamos un único parámetro la mayoría de\n",
    "las veces, que es el propio objeto Python (lista)."
   ]
  },
  {
   "cell_type": "code",
   "execution_count": 17,
   "metadata": {},
   "outputs": [],
   "source": [
    "variable = json.dumps(barrio)"
   ]
  },
  {
   "cell_type": "markdown",
   "metadata": {},
   "source": [
    "### Ejemplo\n",
    "\n",
    "Utilicemos el vecindario almacenado arriba como nuestro conjunto de datos base, que\n",
    "es una lista de Python y luego pasarlo a dumps()."
   ]
  },
  {
   "cell_type": "markdown",
   "metadata": {},
   "source": [
    "\\# Importar módulo json"
   ]
  },
  {
   "cell_type": "code",
   "execution_count": 18,
   "metadata": {},
   "outputs": [],
   "source": [
    "import json"
   ]
  },
  {
   "cell_type": "markdown",
   "metadata": {},
   "source": [
    "\\# Pasar los datos python al método dumps\n"
   ]
  },
  {
   "cell_type": "code",
   "execution_count": 19,
   "metadata": {},
   "outputs": [],
   "source": [
    "lista_vecinos = json.dumps(barrio)"
   ]
  },
  {
   "cell_type": "markdown",
   "metadata": {},
   "source": [
    "\\# Comprobación del tipo de la variable"
   ]
  },
  {
   "cell_type": "code",
   "execution_count": 20,
   "metadata": {},
   "outputs": [
    {
     "name": "stdout",
     "output_type": "stream",
     "text": [
      "<class 'str'>\n",
      "\n"
     ]
    }
   ],
   "source": [
    "print(type(lista_vecinos))\n",
    "print(\"\")"
   ]
  },
  {
   "cell_type": "markdown",
   "metadata": {},
   "source": [
    "\\# Imprimir el resultado - cadena"
   ]
  },
  {
   "cell_type": "code",
   "execution_count": 21,
   "metadata": {},
   "outputs": [
    {
     "name": "stdout",
     "output_type": "stream",
     "text": [
      "[{\"id\": \"NC04\", \"name\": \"Centro ciudad\"}, {\"id\": \"NC66\", \"name\": \"Cultural Quarter\"}, {\"id\": \"NC67\", \"name\": \"Riverside\"}, {\"id\": \"NC68\", \"name\": \"Clarendon Park\"}, {\"id\": \"NE06\", \"name\": \"Belgrave South\"}, {\"id\": \"NE10\", \"name\": \"Belgrave North\"}]\n"
     ]
    }
   ],
   "source": [
    "print(lista_vecinos)"
   ]
  }
 ],
 "metadata": {
  "kernelspec": {
   "display_name": "Python 3",
   "language": "python",
   "name": "python3"
  },
  "language_info": {
   "codemirror_mode": {
    "name": "ipython",
    "version": 3
   },
   "file_extension": ".py",
   "mimetype": "text/x-python",
   "name": "python",
   "nbconvert_exporter": "python",
   "pygments_lexer": "ipython3",
   "version": "3.11.9"
  }
 },
 "nbformat": 4,
 "nbformat_minor": 2
}
