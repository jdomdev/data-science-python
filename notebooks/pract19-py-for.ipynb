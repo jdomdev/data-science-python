{
 "cells": [
  {
   "cell_type": "markdown",
   "metadata": {},
   "source": [
    "## Practica # 19. \n",
    "## Bucles o ciclo for."
   ]
  },
  {
   "cell_type": "markdown",
   "metadata": {},
   "source": [
    "#### 1. Escriba un programa que le pida al usuario un número entero mayor que cero y que luego imprima en pantalla sus divisores."
   ]
  },
  {
   "cell_type": "code",
   "execution_count": 7,
   "metadata": {},
   "outputs": [
    {
     "ename": "TypeError",
     "evalue": "'int' object is not iterable",
     "output_type": "error",
     "traceback": [
      "\u001b[1;31m---------------------------------------------------------------------------\u001b[0m",
      "\u001b[1;31mTypeError\u001b[0m                                 Traceback (most recent call last)",
      "Cell \u001b[1;32mIn[7], line 2\u001b[0m\n\u001b[0;32m      1\u001b[0m numero \u001b[38;5;241m=\u001b[39m \u001b[38;5;28mint\u001b[39m(\u001b[38;5;28minput\u001b[39m(\u001b[38;5;124m\"\u001b[39m\u001b[38;5;124mIntroduzca un Número mayor que 0...\u001b[39m\u001b[38;5;124m\"\u001b[39m))\n\u001b[1;32m----> 2\u001b[0m \u001b[38;5;28;01mfor\u001b[39;00m i \u001b[38;5;129;01min\u001b[39;00m  numero:\n\u001b[0;32m      3\u001b[0m     \u001b[38;5;28;01mif\u001b[39;00m numero \u001b[38;5;241m%\u001b[39m i \u001b[38;5;241m==\u001b[39m \u001b[38;5;241m0\u001b[39m:\n\u001b[0;32m      4\u001b[0m         \u001b[38;5;28mprint\u001b[39m(\u001b[38;5;124mf\u001b[39m\u001b[38;5;124m\"\u001b[39m\u001b[38;5;124mEl número \u001b[39m\u001b[38;5;124m'\u001b[39m\u001b[38;5;132;01m{\u001b[39;00mi\u001b[38;5;132;01m}\u001b[39;00m\u001b[38;5;124m'\u001b[39m\u001b[38;5;124m es divisor de \u001b[39m\u001b[38;5;124m'\u001b[39m\u001b[38;5;132;01m{\u001b[39;00mnumero\u001b[38;5;132;01m}\u001b[39;00m\u001b[38;5;124m'\u001b[39m\u001b[38;5;124m\"\u001b[39m)\n",
      "\u001b[1;31mTypeError\u001b[0m: 'int' object is not iterable"
     ]
    }
   ],
   "source": [
    "numero = int(input(\"Introduzca un Número mayor que 0...\"))\n",
    "for i in range(1, numero):\n",
    "    if numero % i == 0:\n",
    "        print(f\"El número '{i}' es divisor de '{numero}'\")"
   ]
  },
  {
   "cell_type": "markdown",
   "metadata": {},
   "source": [
    "#### 2. Escriba un programa que pregunte al usuario cuántos números se van a introducir, pida esos números y escriba cuántos negativos ha introducido."
   ]
  },
  {
   "cell_type": "code",
   "execution_count": 10,
   "metadata": {},
   "outputs": [
    {
     "name": "stdout",
     "output_type": "stream",
     "text": [
      "Usted ha introducido '2' números negativos de los '4' totales\n"
     ]
    }
   ],
   "source": [
    "cantidad = int(input(\"Cuántos números va a INTRODUCIR...\"))\n",
    "negativos = 0\n",
    "for i in range(0, cantidad):\n",
    "    numero = int(input(\"Introduzca un número...\"))\n",
    "    if numero < 0:\n",
    "        negativos += 1\n",
    "print(f\"Usted ha introducido '{negativos}' números negativos de los '{cantidad}' totales\")"
   ]
  },
  {
   "cell_type": "markdown",
   "metadata": {},
   "source": [
    "#### 3. Escriba un programa que pida dos números enteros y escriba qué números son pares y cuáles impares desde el primero hasta el segundo"
   ]
  },
  {
   "cell_type": "code",
   "execution_count": 18,
   "metadata": {},
   "outputs": [
    {
     "name": "stdout",
     "output_type": "stream",
     "text": [
      "Usted ha introducido '1' números IMPARES y '1' PARES\n"
     ]
    }
   ],
   "source": [
    "num1 = int(input(\"Ingrese el PRIMER número...\"))\n",
    "num2 = int(input(\"Ingrese el SEGUNDO número...\"))\n",
    "pares = 0\n",
    "impares = 0\n",
    "for i in range(num1, num2+1):\n",
    "    # numero = int(input(\"Introduzca un número...\"))\n",
    "    if i % 2 == 0:\n",
    "        pares += 1\n",
    "    else:\n",
    "        impares += 1\n",
    "print(f\"Usted ha introducido '{impares}' números IMPARES y '{pares}' PARES\")"
   ]
  },
  {
   "cell_type": "markdown",
   "metadata": {},
   "source": [
    "#### 4. Escriba un programa que pregunte cuántos números se van a introducir, pida esos números, y diga al final cuántos han sido pares y cuántos impares."
   ]
  },
  {
   "cell_type": "code",
   "execution_count": 23,
   "metadata": {},
   "outputs": [
    {
     "name": "stdout",
     "output_type": "stream",
     "text": [
      "Usted ha introducido '1' números IMPARES y '3' PARES del total: '4'\n"
     ]
    }
   ],
   "source": [
    "cantidad = 0\n",
    "pares = 0\n",
    "impares = 0\n",
    "cantidad = int(input(\"Cuántos números va a INTRODUCIR...\"))\n",
    "for i in range(0, cantidad):\n",
    "    numero = int(input(\"Introduzca un número...\"))\n",
    "    if numero % 2 == 0:\n",
    "        pares += 1\n",
    "    else:\n",
    "        impares += 1\n",
    "print(f\"Usted ha introducido '{impares}' números IMPARES y '{pares}' PARES del total: '{cantidad}'\")"
   ]
  },
  {
   "cell_type": "markdown",
   "metadata": {},
   "source": [
    "#### 5. Escriba un programa que pregunte cuantos números se van a introducir, pida esos números (que puedan ser decimales) y calcule su suma."
   ]
  },
  {
   "cell_type": "code",
   "execution_count": 26,
   "metadata": {},
   "outputs": [
    {
     "name": "stdout",
     "output_type": "stream",
     "text": [
      "La SUMA de los números introducidos es: '7.0'\n"
     ]
    }
   ],
   "source": [
    "cantidad = 0\n",
    "suma = 0.00\n",
    "cantidad = int(input(\"Cuántos números va a INTRODUCIR...\"))\n",
    "for i in range(0, cantidad):\n",
    "    numero = float(input(\"Introduzca un número...\"))\n",
    "    suma += numero\n",
    "print(f\"La SUMA de los números introducidos es: '{suma}'\")"
   ]
  },
  {
   "cell_type": "markdown",
   "metadata": {},
   "source": [
    "#### 6. Imprimir todos los dígitos decimales, del 0 al 9, utilizando una repetición."
   ]
  },
  {
   "cell_type": "code",
   "execution_count": 29,
   "metadata": {},
   "outputs": [
    {
     "name": "stdout",
     "output_type": "stream",
     "text": [
      "0.0\n",
      "0.1\n",
      "0.2\n",
      "0.3\n",
      "0.4\n",
      "0.5\n",
      "0.6\n",
      "0.7\n",
      "0.8\n",
      "0.9\n"
     ]
    }
   ],
   "source": [
    "for i in range(0, 10):\n",
    "    print(\"0.\" + str(i))"
   ]
  },
  {
   "cell_type": "markdown",
   "metadata": {},
   "source": [
    "#### 7. Imprimir todos los números entre el 100 y el 199."
   ]
  },
  {
   "cell_type": "code",
   "execution_count": 30,
   "metadata": {},
   "outputs": [
    {
     "name": "stdout",
     "output_type": "stream",
     "text": [
      "100\n",
      "101\n",
      "102\n",
      "103\n",
      "104\n",
      "105\n",
      "106\n",
      "107\n",
      "108\n",
      "109\n",
      "110\n",
      "111\n",
      "112\n",
      "113\n",
      "114\n",
      "115\n",
      "116\n",
      "117\n",
      "118\n",
      "119\n",
      "120\n",
      "121\n",
      "122\n",
      "123\n",
      "124\n",
      "125\n",
      "126\n",
      "127\n",
      "128\n",
      "129\n",
      "130\n",
      "131\n",
      "132\n",
      "133\n",
      "134\n",
      "135\n",
      "136\n",
      "137\n",
      "138\n",
      "139\n",
      "140\n",
      "141\n",
      "142\n",
      "143\n",
      "144\n",
      "145\n",
      "146\n",
      "147\n",
      "148\n",
      "149\n",
      "150\n",
      "151\n",
      "152\n",
      "153\n",
      "154\n",
      "155\n",
      "156\n",
      "157\n",
      "158\n",
      "159\n",
      "160\n",
      "161\n",
      "162\n",
      "163\n",
      "164\n",
      "165\n",
      "166\n",
      "167\n",
      "168\n",
      "169\n",
      "170\n",
      "171\n",
      "172\n",
      "173\n",
      "174\n",
      "175\n",
      "176\n",
      "177\n",
      "178\n",
      "179\n",
      "180\n",
      "181\n",
      "182\n",
      "183\n",
      "184\n",
      "185\n",
      "186\n",
      "187\n",
      "188\n",
      "189\n",
      "190\n",
      "191\n",
      "192\n",
      "193\n",
      "194\n",
      "195\n",
      "196\n",
      "197\n",
      "198\n",
      "199\n"
     ]
    }
   ],
   "source": [
    "for i in range(100 , 200):\n",
    "    print(i)"
   ]
  },
  {
   "cell_type": "markdown",
   "metadata": {},
   "source": [
    "#### 8. Imprimir los números entre el 5 y el 20, saltando de tres en tres."
   ]
  },
  {
   "cell_type": "code",
   "execution_count": 31,
   "metadata": {},
   "outputs": [
    {
     "name": "stdout",
     "output_type": "stream",
     "text": [
      "5\n",
      "8\n",
      "11\n",
      "14\n",
      "17\n"
     ]
    }
   ],
   "source": [
    "for i in range(5, 20, 3):\n",
    "    print(i)"
   ]
  },
  {
   "cell_type": "markdown",
   "metadata": {},
   "source": [
    "#### 9. Solicitar al usuario que ingrese una frase y luego imprimir un listado de las vocales que aparecen en esa frase (sin repetirlas)."
   ]
  },
  {
   "cell_type": "code",
   "execution_count": 33,
   "metadata": {},
   "outputs": [
    {
     "name": "stdout",
     "output_type": "stream",
     "text": [
      "a\n"
     ]
    }
   ],
   "source": [
    "frase = str(input(\"Introduzca una frase...\")).lower()\n",
    "cont_a = 0\n",
    "cont_e = 0\n",
    "cont_i = 0\n",
    "cont_o = 0\n",
    "cont_u = 0\n",
    "for i in frase:\n",
    "    if i in('a','e','i','o','u'):\n",
    "        match i:\n",
    "            case 'a':                \n",
    "                if cont_a == 0:\n",
    "                    print(i)\n",
    "                    cont_a += 1\n",
    "            case 'e':                \n",
    "                if cont_e == 0:\n",
    "                    print(i)\n",
    "                    cont_e += 1\n",
    "            case 'i':                \n",
    "                if cont_i == 0:\n",
    "                    print(i)\n",
    "                    cont_i += 1\n",
    "            case 'o':                \n",
    "                if cont_o == 0:\n",
    "                    print(i)\n",
    "                    cont_o += 1                                        \n",
    "            case 'u':                \n",
    "                if cont_u == 0:\n",
    "                    print(i)\n",
    "                    cont_u += 1                   "
   ]
  },
  {
   "cell_type": "markdown",
   "metadata": {},
   "source": [
    "#### 10. Solicitar al usuario que ingrese una frase y luego imprimir la cantidad de vocales que se encuentran en dicha frase."
   ]
  },
  {
   "cell_type": "code",
   "execution_count": 34,
   "metadata": {},
   "outputs": [
    {
     "name": "stdout",
     "output_type": "stream",
     "text": [
      "El número de vocales en la frase introducida es '5'\n"
     ]
    }
   ],
   "source": [
    "frase = str(input(\"Introduzca una frase...\")).lower()\n",
    "cont_vocal = 0\n",
    "for i in frase:\n",
    "    if i in('a','e','i','o','u'):\n",
    "        cont_vocal += 1\n",
    "print(f\"El número de vocales en la frase introducida es '{cont_vocal}'\")"
   ]
  },
  {
   "cell_type": "markdown",
   "metadata": {},
   "source": [
    "#### 11. Escribir un programa que muestre la sumatoria de todos los números entre el 0 y el 100."
   ]
  },
  {
   "cell_type": "code",
   "execution_count": 35,
   "metadata": {},
   "outputs": [
    {
     "name": "stdout",
     "output_type": "stream",
     "text": [
      "La suma de los números entre 0 y 100 es '5050'\n"
     ]
    }
   ],
   "source": [
    "suma = 0\n",
    "for i in range(0, 101):\n",
    "    suma += i\n",
    "print(f\"La suma de los números entre 0 y 100 es '{suma}'\")"
   ]
  },
  {
   "cell_type": "markdown",
   "metadata": {},
   "source": [
    "#### 12. Escribir un programa que muestre la sumatoria de todos los múltiplos de 3 encontrados entre el 0 y el 100."
   ]
  },
  {
   "cell_type": "code",
   "execution_count": 36,
   "metadata": {},
   "outputs": [
    {
     "name": "stdout",
     "output_type": "stream",
     "text": [
      "La suma de los MÚLTIPLOS de 3 entre 0 y 100 es '1683'\n"
     ]
    }
   ],
   "source": [
    "suma = 0\n",
    "for i in range(0, 101):\n",
    "    if i % 3 == 0:\n",
    "        suma += i\n",
    "print(f\"La suma de los MÚLTIPLOS de 3 entre 0 y 100 es '{suma}'\")"
   ]
  },
  {
   "cell_type": "markdown",
   "metadata": {},
   "source": [
    "#### 13. Escribir un programa que permita al usuario ingresar 6 números enteros, que pueden ser positivos o negativos. Al finalizar, mostrar la sumatoria de los números negativos y el promedio de los positivos. No olvides que no es posible dividir por cero, por lo que es necesario evitar que el programa arroje un error si no se ingresaron números positivos."
   ]
  },
  {
   "cell_type": "code",
   "execution_count": 3,
   "metadata": {},
   "outputs": [
    {
     "name": "stdout",
     "output_type": "stream",
     "text": [
      "La SUMA de los NEGATIVOS = '-4'\n",
      "El PROMEDIO de los POSITIVOS = '2.2'\n"
     ]
    }
   ],
   "source": [
    "suma_neg = 0\n",
    "suma_pos = 0\n",
    "cont_pos = 0\n",
    "for i in range(0, 6):\n",
    "    numero = int(input(f\"Ingrese el número {i+1}...\"))\n",
    "    if numero < 0:\n",
    "        suma_neg += numero\n",
    "    else:\n",
    "        suma_pos += numero\n",
    "        cont_pos += 1\n",
    "print(f\"La SUMA de los NEGATIVOS = '{suma_neg}'\\nEl PROMEDIO de los POSITIVOS = '{suma_pos / cont_pos}'\")"
   ]
  },
  {
   "cell_type": "markdown",
   "metadata": {},
   "source": [
    "#### 14. Dado un número entero positivo, mostrar su factorial. El factorial de un número se obtiene multiplicando todos los números enteros positivos que hay entre el 1 y ese número."
   ]
  },
  {
   "cell_type": "code",
   "execution_count": 14,
   "metadata": {},
   "outputs": [
    {
     "name": "stdout",
     "output_type": "stream",
     "text": [
      "El FACTORIAL de '0' es = '1'\n"
     ]
    }
   ],
   "source": [
    "numero = int(input(\"Ingrese el número para FACTORIAL...\"))\n",
    "acumulado = 1\n",
    "for i in range(1, numero+1):\n",
    "    acumulado *= i\n",
    "print(f\"El FACTORIAL de '{numero}' es = '{acumulado}'\")"
   ]
  },
  {
   "cell_type": "markdown",
   "metadata": {},
   "source": [
    "#### 15. Escribir un programa que pida al usuario una palabra y luego muestre por pantalla una a una las letras de la palabra introducida empezando por la última"
   ]
  },
  {
   "cell_type": "code",
   "execution_count": 15,
   "metadata": {},
   "outputs": [
    {
     "name": "stdout",
     "output_type": "stream",
     "text": [
      "a\n",
      "l\n",
      "o\n",
      "h\n"
     ]
    }
   ],
   "source": [
    "palabra = str(input(\"Ingrese una palabra...\"))\n",
    "for i in palabra[::-1]:\n",
    "    print(i)"
   ]
  }
 ],
 "metadata": {
  "kernelspec": {
   "display_name": "Curso_Python",
   "language": "python",
   "name": "python3"
  },
  "language_info": {
   "codemirror_mode": {
    "name": "ipython",
    "version": 3
   },
   "file_extension": ".py",
   "mimetype": "text/x-python",
   "name": "python",
   "nbconvert_exporter": "python",
   "pygments_lexer": "ipython3",
   "version": "3.11.9"
  }
 },
 "nbformat": 4,
 "nbformat_minor": 2
}
