{
 "cells": [
  {
   "cell_type": "code",
   "execution_count": 4,
   "metadata": {},
   "outputs": [
    {
     "name": "stdout",
     "output_type": "stream",
     "text": [
      "La entrada 90.0 ES un número REAL.\n",
      "La entrada 180.0 ES un número REAL.\n",
      "La entrada 'Juan Domingo Ortín' es una CADENA de TEXTO válida.\n",
      "La entrada 46 ES un número ENTERO.\n",
      "El PESO del paciente es: 90.0\n",
      "La ALTURA del paciente es: 180.0\n",
      "La EDAD del paciente es: 46\n",
      "El  NOMBRE COMPLETO del paciente es: Juan Domingo Ortín\n",
      "El ÍNDIE DE MASA CORPORAL(IMC) del paciente es: 0.002777777777777778\n"
     ]
    }
   ],
   "source": [
    "def comprueba_flotante(prompt):\n",
    "    while True:\n",
    "        entrada = input(prompt)\n",
    "        try:\n",
    "            entrada = float(entrada)\n",
    "            print(f\"La entrada {entrada} ES un número REAL.\")\n",
    "            return entrada\n",
    "        except ValueError:\n",
    "            print(f\"ERROR: La entrada {entrada} NO es número REAL.\")\n",
    "\n",
    "def comprueba_cadena(prompt):\n",
    "    while True:\n",
    "        entrada = input(prompt)\n",
    "        if isinstance(entrada, str) and entrada:\n",
    "            print(f\"La entrada '{entrada}' es una CADENA de TEXTO válida.\")\n",
    "            return entrada\n",
    "        else:\n",
    "            print(f\"ERROR: La entrada '{entrada}' NO es una CADENA de TEXTO válida. Inténtalo de nuevo.\")\n",
    "\n",
    "def comprueba_entero(prompt):\n",
    "    while True:\n",
    "        entrada = input(prompt)\n",
    "        try:\n",
    "            entrada = int(entrada)\n",
    "            print(f\"La entrada {entrada} ES un número ENTERO.\")\n",
    "            return entrada\n",
    "        except ValueError:\n",
    "            print(f\"ERROR: La entrada {entrada} NO es número ENTERO.\")\n",
    "\n",
    "def calculo_imc(peso,altura):\n",
    "    return peso / (altura ** 2)\n",
    "\n",
    "def imprime_resultados(peso, altura, nombre_apellidos, edad, imc):\n",
    "    print(f\"El PESO del paciente es: {peso}\")\n",
    "    print(f\"La ALTURA del paciente es: {altura}\")\n",
    "    print(f\"La EDAD del paciente es: {edad}\")\n",
    "    print(f\"El  NOMBRE COMPLETO del paciente es: {nombre_apellidos}\")\n",
    "    print(f\"El ÍNDIE DE MASA CORPORAL(IMC) del paciente es: {imc}\")\n",
    "    \n",
    "\n",
    "peso = comprueba_flotante(\"Introduzca su PESO...\")\n",
    "altura = comprueba_flotante(\"Introduzca su ALTURA...\")\n",
    "nombre_apellidos = comprueba_cadena(\"Introduzca su NOMBRE y APELLIDOS...\")\n",
    "edad = comprueba_entero(\"Introduzca su EDAD...\")\n",
    "imc = calculo_imc(peso,altura)\n",
    "imprime_resultados(peso, altura, nombre_apellidos, edad, imc)    \n",
    "            \n",
    "            \n"
   ]
  }
 ],
 "metadata": {
  "kernelspec": {
   "display_name": "Curso_Python",
   "language": "python",
   "name": "python3"
  },
  "language_info": {
   "codemirror_mode": {
    "name": "ipython",
    "version": 3
   },
   "file_extension": ".py",
   "mimetype": "text/x-python",
   "name": "python",
   "nbconvert_exporter": "python",
   "pygments_lexer": "ipython3",
   "version": "3.11.9"
  }
 },
 "nbformat": 4,
 "nbformat_minor": 2
}
