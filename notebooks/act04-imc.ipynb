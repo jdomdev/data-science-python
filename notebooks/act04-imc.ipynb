def comprueba_entrada(prompt):
    while True:
        num = input(prompt)
        try:
            num = float(num)
            print(f"La entrada {num} ES un número REAL.")
            return num
        except ValueError:
            print(f"ERROR: La entrada {num} NO es número REAL.")