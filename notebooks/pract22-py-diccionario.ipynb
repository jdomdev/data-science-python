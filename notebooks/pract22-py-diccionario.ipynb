{
 "cells": [
  {
   "cell_type": "markdown",
   "metadata": {},
   "source": [
    "### PRÁCTICA #22\n",
    "### DICCIONARIOS\n",
    "#### (Resuelva 5 de 9)\n",
    "#### Clase_47-[V_31_05_24]-Diccionarios y sets \n",
    "#### 4.2-Python para Científicos de Datos_Estruc-Datos.pdf \n",
    "#### (Página 147)"
   ]
  },
  {
   "cell_type": "markdown",
   "metadata": {},
   "source": [
    "#### 1. Cree un diccionario que contenga los nombres de los estudiantes y las calificaciones obtenidas por ellos en tres materias. Escriba un programa para reemplazar las calificaciones de tres materias con el total de tres materias y las calificaciones promedio. Informe también quién es el mejor de clase."
   ]
  },
  {
   "cell_type": "code",
   "execution_count": 11,
   "metadata": {},
   "outputs": [
    {
     "name": "stdout",
     "output_type": "stream",
     "text": [
      "Ingrese las nuevas calificaciones para Maria:\n",
      "Calificaciones de Maria actualizadas a: [97, 98, 99]\n",
      "\n",
      "Estudiantes y sus calificaciones:\n",
      "Ana: Notas = [85, 90, 88], Promedio = 87.67\n",
      "Luis: Notas = [78, 74, 80], Promedio = 77.33\n",
      "Maria: Notas = [97, 98, 99], Promedio = 98.00\n",
      "Pedro: Notas = [85, 86, 84], Promedio = 85.00\n",
      "\n",
      "El mejor de la clase es: Maria con un promedio de 98.00\n"
     ]
    }
   ],
   "source": [
    "'''\n",
    "calificaciones = {\n",
    "    'juan': [6,7,9],\n",
    "    'miguel': [7,8,5],\n",
    "    'maria': [9,9,6],\n",
    "    'veronica': [7,7,8],\n",
    "    'raquel': [4,7,9],\n",
    "    'silvia': [5,5,8],\n",
    "    'antonio': [8,8,7],\n",
    "    'manuela': [5,6,7],\n",
    "    'oscar': [10,10,9],\n",
    "    'eva': [5,10,10],\n",
    "    'rodolfo': [4,4,10],\n",
    "    'agustina': [9,8,7],\n",
    "    'cristina': [10,5,10]\n",
    "}\n",
    "'''\n",
    "\n",
    "'''\n",
    "# Funciona pero es introducir los valores a 'capón'.\n",
    "promedio = {\n",
    "    'juan': (calificaciones['juan'][0]+calificaciones['juan'][1]+calificaciones['juan'][2])/3\n",
    "}\n",
    "'''\n",
    "#print(promedio.get('juan'))\n",
    "'''\n",
    "alumnos = {\n",
    "    'juan': { 'fisica':6, 'matematicas':7, 'filosofia':9 },\n",
    "    'miguel': { 'fisica':7, 'matematicas':8, 'filosofia':5 },\n",
    "    'maria': { 'fisica':9, 'matematicas':9, 'filosofia':6 },\n",
    "    'veronica': { 'fisica':7, 'matematicas':7, 'filosofia':8 },\n",
    "    'raquel': { 'fisica':4, 'matematicas':7, 'filosofia':9 },\n",
    "    'silvia': { 'fisica':5, 'matematicas':5, 'filosofia':8 },\n",
    "    'antonio': { 'fisica':8, 'matematicas':8, 'filosofia':7 },\n",
    "    'manuela': { 'fisica':5, 'matematicas':6, 'filosofia':7 },\n",
    "    'oscar': { 'fisica':10, 'matematicas':10, 'filosofia':9 },\n",
    "    'eva': { 'fisica':5, 'matematicas':10, 'filosofia':10 },\n",
    "    'rodolfo': { 'fisica':4, 'matematicas':4, 'filosofia':10 },\n",
    "    'agustina': { 'fisica':9, 'matematicas':8, 'filosofia':7 },\n",
    "    'cristina': { 'fisica':10, 'matematicas':5, 'filosofia':10 }\n",
    "}\n",
    "promedio = {\n",
    "    'juan': 0,\n",
    "    'miguel': 0,\n",
    "    'maria': 0,\n",
    "    'veronica': 0,\n",
    "    'raquel': 0,\n",
    "    'silvia': 0,\n",
    "    'antonio': 0,\n",
    "    'manuela': 0,\n",
    "    'oscar': 0,\n",
    "    'eva': 0,\n",
    "    'rodolfo': 0,\n",
    "    'agustina': 0,\n",
    "    'cristina': 0\n",
    "}\n",
    "def imprime_calificaciones():\n",
    "    for clave_padre, dicc_interno in alumnos.items():\n",
    "        print(f\"Clave padre: {clave_padre}\")\n",
    "        for clave_hija, valor in dicc_interno.items():\n",
    "            print(f\"  Clave hija: {clave_hija}, Valor: {valor}\")\n",
    "\n",
    "def calcula_promedios():\n",
    "    sumatorio = 0\n",
    "    prom = 0\n",
    "    for clave_padre, dicc_interno in alumnos.items():        \n",
    "        for clave_hija, valor in dicc_interno.items():\n",
    "            sumatorio += valor            \n",
    "        prom = sumatorio / 3\n",
    "        sumatorio = 0\n",
    "        promedio[clave_padre] = prom\n",
    "                \n",
    "def imprime_promedios():   \n",
    "    for clave, valor in promedio.items():\n",
    "        print(f\"{clave} : {valor}\")\n",
    "\n",
    "def cambia_calificacion(nombre, asignatura, calificacion):\n",
    "    alumnos[nombre][asignatura] = calificacion\n",
    "\n",
    "def main():\n",
    "    while True:            \n",
    "        imprime_calificaciones()\n",
    "        imprime_promedios()\n",
    "        calcula_promedios()\n",
    "        imprime_promedios()\n",
    "        cambia_calificacion(str(input(\"Introduce el nombre del alumno...\")), str(input(\"Introduce la asignatura...\")), int(input(\"Introduce la nueva calificación...\")))\n",
    "        imprime_calificaciones()\n",
    "        respuesta = str(input(\"¿Desea continuar(s/n)?\"))\n",
    "        if respuesta.lower() == 'n':\n",
    "            print(\"Finalizando el Programa....\")\n",
    "            break\n",
    "    \n",
    "if __name__ == \"__main__\":\n",
    "    main()    \n",
    "'''\n",
    "\n",
    "estudiantes = {\n",
    "    'Ana': {'notas': [85, 90, 88], 'promedio': 0},\n",
    "    'Luis': {'notas': [78, 74, 80], 'promedio': 0},\n",
    "    'Maria': {'notas': [92, 88, 91], 'promedio': 0},\n",
    "    'Pedro': {'notas': [85, 86, 84], 'promedio': 0}\n",
    "}\n",
    "\n",
    "\n",
    "def reemplazar_calificaciones(estudiantes):\n",
    "    nombre = input(\"Ingrese el nombre del estudiante cuyas calificaciones desea reemplazar: \")\n",
    "    \n",
    "    if nombre in estudiantes:\n",
    "        print(f\"Ingrese las nuevas calificaciones para {nombre}:\")\n",
    "        nuevas_notas = []\n",
    "        for i in range(1, 4):\n",
    "            calificacion = int(input(f\"Calificación {i}: \"))\n",
    "            nuevas_notas.append(calificacion)\n",
    "        estudiantes[nombre]['notas'] = nuevas_notas\n",
    "        print(f\"Calificaciones de {nombre} actualizadas a: {nuevas_notas}\")\n",
    "    else:\n",
    "        print(\"Estudiante no encontrado en la lista.\")\n",
    "\n",
    "reemplazar_calificaciones(estudiantes)\n",
    "\n",
    "for nombre, datos in estudiantes.items():\n",
    "    total = sum(datos['notas'])\n",
    "    promedio = total / len(datos['notas'])\n",
    "    estudiantes[nombre]['promedio'] = promedio\n",
    "\n",
    "\n",
    "mejor_estudiante = None\n",
    "mejor_promedio = -1\n",
    "\n",
    "for nombre, datos in estudiantes.items():\n",
    "    if datos['promedio'] > mejor_promedio:\n",
    "        mejor_promedio = datos['promedio']\n",
    "        mejor_estudiante = nombre\n",
    "\n",
    "print(\"\\nEstudiantes y sus calificaciones:\")\n",
    "for nombre, datos in estudiantes.items():\n",
    "    print(f\"{nombre}: Notas = {datos['notas']}, Promedio = {datos['promedio']:.2f}\")\n",
    "\n",
    "print(f\"\\nEl mejor de la clase es: {mejor_estudiante} con un promedio de {mejor_promedio:.2f}\")\n",
    "\n",
    "\n"
   ]
  },
  {
   "cell_type": "markdown",
   "metadata": {},
   "source": [
    "#### 2. Crear un diccionario que almacene los siguientes datos:\n",
    "\n",
    "| Interface     |      IP       | Address status |\n",
    "|---------------|---------------|----------------|\n",
    "| eth0          | 1.1.1.1       | up             |\n",
    "| eth1          | 2.2.2.2       | up             |\n",
    "| wlan0         | 3.3.3.3       | down           |\n",
    "| wlan1         | 4.4.4.4       | up             |\n",
    "\n",
    "#### Escriba un programa para realizar las siguientes operaciones:\n",
    "- Encontrar el estado de una interfaz determinada.\n",
    "- Encuentra la interfaz y la IP de todas las interfaces que están activas.\n",
    "- Encuentra el número total de interfaces.\n",
    "- Añadir dos nuevas entradas al diccionario."
   ]
  },
  {
   "cell_type": "code",
   "execution_count": 20,
   "metadata": {},
   "outputs": [
    {
     "name": "stdout",
     "output_type": "stream",
     "text": [
      "Interface: eth0\n",
      "Interface: eth1\n",
      "Interface: wlan0\n",
      "Interface: wlan1\n",
      "Interface: eth2\n",
      "Interface: wlan2\n",
      "  interface: wlan2\n",
      "  ip: 6.6.6.6\n",
      "  address_status: down\n"
     ]
    }
   ],
   "source": [
    "dicc = {\n",
    "    'eth0': {'interface': 'eth0', 'ip': '1.1.1.1', 'address_status': 'up'},\n",
    "    'eth1': {'interface': 'eth1', 'ip': '2.2.2.2', 'address_status': 'up'},\n",
    "    'wlan0': {'interface': 'wlan0', 'ip': '3.3.3.3', 'address_status': 'down'},\n",
    "    'wlan1': {'interface': 'wlan1', 'ip': '4.4.4.4', 'address_status': 'up'}\n",
    "}\n",
    "\n",
    "def dame_estado(k):\n",
    "    for key, value in dicc.items():\n",
    "        if key == k:\n",
    "            return value.get('address_status')        \n",
    "\n",
    "estado = dame_estado(str(input(\"Ingrese la Interface(IP) que quiere conocer...\")))\n",
    "print(f\"El STATUS de la Interface es: {estado}\")\n",
    "\n",
    "def dame_activas():\n",
    "    for key, value in dicc.items():\n",
    "        if value.get('address_status') == 'up':\n",
    "            print(f\"La Interface '{key}' se encuentra con el ESTADO: '{value['address_status']}'\")\n",
    "dame_activas()\n",
    "\n",
    "def numero_interfaces():\n",
    "    return len(dicc)\n",
    "total = numero_interfaces()\n",
    "print(f\"EL número TOTAL de Interfaces es: {total}\")\n",
    "\n",
    "def add_two_interfaces():   \n",
    "    for i in range(0, 2):\n",
    "        inter = str(input(f\"Introduce el nombre la nueva 'Interface' {i+1}...\"))\n",
    "        ip = str(input(f\"Introduce la 'IP' de la nueva Interface {i+1}...\"))\n",
    "        add_st = str(input(f\"Introduce el 'adress status' de la nueva Interface {i+1}...\"))\n",
    "        dicc[inter] = {'interface': inter, 'ip': ip, 'address_status': add_st}\n",
    "def muestra_interfaces():\n",
    "    for key, value in dicc.items():\n",
    "        print(f\"Interface: {key}\")\n",
    "    for sub_key, sub_value in value.items():\n",
    "        print(f\"  {sub_key}: {sub_value}\")\n",
    "\n",
    "add_two_interfaces()\n",
    "muestra_interfaces()"
   ]
  },
  {
   "cell_type": "markdown",
   "metadata": {},
   "source": [
    "#### 3. Crea un diccionario de 10 nombres de usuario y contraseñas. El programa recibe el nombre de usuario y la contraseña por el teclado y luego busca en el diccionario. Imprima el mensaje apropiado en la pantalla en función de si se encuentra una coincidencia o no."
   ]
  },
  {
   "cell_type": "code",
   "execution_count": 4,
   "metadata": {},
   "outputs": [
    {
     "name": "stdout",
     "output_type": "stream",
     "text": [
      "El usuario 'calatrava' con contraseña 'sevila' NO se encuentra en nuestra base de datos\n"
     ]
    }
   ],
   "source": [
    "usuarios = {\n",
    "    \"skull\": \"escuela\",\n",
    "    \"chino\": \"rojo2\",\n",
    "    \"dinamo\": \"bicicleta\",\n",
    "    \"johnny\": \"bgoode\",\n",
    "    \"frazer\": \"boxing\",\n",
    "    \"calatrava\": \"sevilla\"\n",
    "}\n",
    "\n",
    "def busca_usuario(usuario, contrasenia):\n",
    "    contador = 0\n",
    "    mensaje_error = f\"El usuario '{usuario}' con contraseña '{contrasenia}' NO se encuentra en nuestra base de datos\"\n",
    "    for llave, valor in usuarios.items():\n",
    "        contador += 1\n",
    "        if llave == usuario and valor == contrasenia:\n",
    "            return [llave, valor]\n",
    "        elif contador == len(usuarios):\n",
    "            return [mensaje_error]\n",
    "\n",
    "respuesta = []\n",
    "usuario = str(input(\"Introduzca el nickname...\"))\n",
    "contrasenia = str(input(\"Introduzca la contraseña...\"))\n",
    "respuesta = busca_usuario(usuario, contrasenia)\n",
    "if len(respuesta) == 2:\n",
    "    print(f\"El usuario '{respuesta[0]}' con contraseña '{respuesta[1]}' se encuentra en nuestra base de datos\")        \n",
    "else:\n",
    "    print(respuesta[0])        "
   ]
  },
  {
   "cell_type": "markdown",
   "metadata": {},
   "source": [
    "#### 4. Escriba un programa en Python que imprima un diccionario done las claves sean números entre 1 y 15 (ambos incluidos) y los valores sean los cuadrados de sus claves respectivas."
   ]
  },
  {
   "cell_type": "code",
   "execution_count": 5,
   "metadata": {},
   "outputs": [
    {
     "name": "stdout",
     "output_type": "stream",
     "text": [
      "1: 1\n",
      "2: 4\n",
      "3: 9\n",
      "4: 16\n",
      "5: 25\n",
      "6: 36\n",
      "7: 49\n",
      "8: 64\n",
      "9: 81\n",
      "10: 100\n",
      "11: 121\n",
      "12: 144\n",
      "13: 169\n",
      "14: 196\n",
      "15: 225\n"
     ]
    }
   ],
   "source": [
    "dicc = {}\n",
    "for i in range(1, 16):\n",
    "    dicc[i] = i ** 2\n",
    "\n",
    "for key, value in dicc.items():\n",
    "    print(f\"{key}: {value}\")    "
   ]
  },
  {
   "cell_type": "markdown",
   "metadata": {},
   "source": [
    "#### 5. Escriba un programa en Python que imprima la suma de todos los valores de un diccionario. Puede utilizar números enteros para los pares clave:valor."
   ]
  },
  {
   "cell_type": "code",
   "execution_count": 6,
   "metadata": {},
   "outputs": [
    {
     "name": "stdout",
     "output_type": "stream",
     "text": [
      "La suma TOTAL del Diccionario introducido es = '1240'\n"
     ]
    }
   ],
   "source": [
    "dicc = {\n",
    "    1: 1,\n",
    "    2: 4,\n",
    "    3: 9,\n",
    "    4: 16,\n",
    "    5: 25,\n",
    "    6: 36,\n",
    "    7: 49,\n",
    "    8: 64,\n",
    "    9: 81,\n",
    "    10: 100,\n",
    "    11: 121,\n",
    "    12: 144,\n",
    "    13: 169,\n",
    "    14: 196,\n",
    "    15: 225\n",
    "}\n",
    "\n",
    "def suma_valores_dicc(dicc):\n",
    "    sumatorio = 0\n",
    "    for key, value in dicc.items():\n",
    "        sumatorio += value\n",
    "    return sumatorio\n",
    "\n",
    "suma_valores = suma_valores_dicc(dicc)\n",
    "print(f\"La suma TOTAL del Diccionario introducido es = '{suma_valores}'\")"
   ]
  }
 ],
 "metadata": {
  "kernelspec": {
   "display_name": "Curso_Python",
   "language": "python",
   "name": "python3"
  },
  "language_info": {
   "codemirror_mode": {
    "name": "ipython",
    "version": 3
   },
   "file_extension": ".py",
   "mimetype": "text/x-python",
   "name": "python",
   "nbconvert_exporter": "python",
   "pygments_lexer": "ipython3",
   "version": "3.11.9"
  }
 },
 "nbformat": 4,
 "nbformat_minor": 2
}
