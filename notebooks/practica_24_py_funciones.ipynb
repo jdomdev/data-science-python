{
 "cells": [
  {
   "cell_type": "markdown",
   "id": "b8b3820c",
   "metadata": {},
   "source": [
    "# Practica 24 - Funciones. 15 ejercicios para resolver solo 10."
   ]
  },
  {
   "cell_type": "markdown",
   "id": "51fd8a94",
   "metadata": {},
   "source": [
    "1 - Escribe un programa que defina una función crear_lista( ) para crear y devolver una lista que sea la combinación de dos listas que se le pasen."
   ]
  },
  {
   "cell_type": "code",
   "execution_count": 3,
   "id": "411e44c4",
   "metadata": {},
   "outputs": [
    {
     "name": "stdout",
     "output_type": "stream",
     "text": [
      "[1, 2, 3, 4, 5, 6, 7, 8, 9, 10, 1]\n"
     ]
    }
   ],
   "source": [
    "def crear_lista(lista1, lista2):\n",
    "    #return [x for x in lista1] + [x for x in lista2] # Ok >> Comprensión de listas\n",
    "    return lista1 + lista2\n",
    "\n",
    "lista1 = [1,2,3,4,5]\n",
    "lista2 = [6,7,8,9,10,1]\n",
    "lista_combinada = crear_lista(lista1, lista2)\n",
    "print(lista_combinada)"
   ]
  },
  {
   "cell_type": "markdown",
   "id": "1aa4b8b7",
   "metadata": {},
   "source": [
    "2- Escribe una programa que defina una funcion que haga conversiones de precios de moneda. Se le pide al usuario que introduzca la cantidad en euros y que introduzca la divisa a la que quiere convertir. Use por lo menos dos divisas mas: Dolár y Francos por ejemplo. Imprima los resultados."
   ]
  },
  {
   "cell_type": "code",
   "execution_count": 10,
   "id": "cfa89752",
   "metadata": {},
   "outputs": [
    {
     "name": "stdout",
     "output_type": "stream",
     "text": [
      "La cantidad de: '100.0€' convertida a 'dolar' equivale a: '109.000000'\n"
     ]
    }
   ],
   "source": [
    "def conversion(cantidad = 0, moneda = 'dolar'):\n",
    "    cambio = 0\n",
    "    moneda = moneda.lower()\n",
    "    if moneda == 'dolar':\n",
    "        cambio = cantidad * 1.09\n",
    "    elif moneda == 'franco':\n",
    "        cambio = cantidad * 1414.26\n",
    "    return cambio\n",
    "\n",
    "cantidad = float(input(\"Introduzca la CANTIDAD en Euros...?\"))\n",
    "moneda = str(input(\"Deséa convertir a Dólares o Francos(dolar/franco)?\"))\n",
    "cambio = conversion(cantidad, moneda)\n",
    "print(f\"La cantidad de: '{cantidad}€' convertida a '{moneda}' equivale a: '{cambio:2f}'\")"
   ]
  },
  {
   "cell_type": "markdown",
   "id": "e8e0284d",
   "metadata": {},
   "source": [
    "3- Escribe un programa que defina una función llamada limpiar_lista( ) para eliminar todas las entradas duplicadas de la lista que recibe."
   ]
  },
  {
   "cell_type": "code",
   "execution_count": 2,
   "id": "33b4c69b",
   "metadata": {},
   "outputs": [
    {
     "name": "stdout",
     "output_type": "stream",
     "text": [
      "[1, 2, 3, 4, 5, 6, 7, 8, 9]\n"
     ]
    }
   ],
   "source": [
    "def limpiar_lista(lista):\n",
    "    lista_a_set = set(lista)\n",
    "    return list(lista_a_set)\n",
    "print(limpiar_lista([1,1,2,2,3,3,4,4,5,6,7,8,9,9]))     "
   ]
  },
  {
   "cell_type": "markdown",
   "id": "0a28448d",
   "metadata": {},
   "source": [
    "4- ¿Cuál de las llamadas a la función imprímelo( ) en el siguiente programa informará de errores?"
   ]
  },
  {
   "cell_type": "markdown",
   "id": "dc805f03",
   "metadata": {},
   "source": [
    "El comando -> 'imprimelo(10, 3.14)' dará error porque falta indicar el argumento 's' ya sea de manera posicional o explícita."
   ]
  },
  {
   "cell_type": "code",
   "execution_count": 9,
   "id": "78571ae1",
   "metadata": {},
   "outputs": [
    {
     "ename": "TypeError",
     "evalue": "imprimelo() missing 1 required positional argument: 's'",
     "output_type": "error",
     "traceback": [
      "\u001b[1;31m---------------------------------------------------------------------------\u001b[0m",
      "\u001b[1;31mTypeError\u001b[0m                                 Traceback (most recent call last)",
      "Cell \u001b[1;32mIn[9], line 7\u001b[0m\n\u001b[0;32m      4\u001b[0m     \u001b[38;5;28;01mfor\u001b[39;00m var \u001b[38;5;129;01min\u001b[39;00m args:\n\u001b[0;32m      5\u001b[0m         \u001b[38;5;28mprint\u001b[39m(var, end \u001b[38;5;241m=\u001b[39m \u001b[38;5;124m'\u001b[39m\u001b[38;5;124m'\u001b[39m)\n\u001b[1;32m----> 7\u001b[0m imprimelo(\u001b[38;5;241m10\u001b[39m, \u001b[38;5;241m3.14\u001b[39m)\n",
      "\u001b[1;31mTypeError\u001b[0m: imprimelo() missing 1 required positional argument: 's'"
     ]
    }
   ],
   "source": [
    "def imprimelo(i, a, s, *args) : \n",
    "    print( )\n",
    "    print(i, a, s, end = '') \n",
    "    for var in args:\n",
    "        print(var, end = '')\n",
    "        \n",
    "imprimelo(10, 3.14)\n",
    "imprimelo(20, s = 'Hi', a = 6.28)\n",
    "imprimelo(a = 6.28, s = 'Hello', i = 30) \n",
    "imprimelo(40, 2.35, 'Nag', 'Mum', 10)\n"
   ]
  },
  {
   "cell_type": "markdown",
   "id": "90072e0e",
   "metadata": {},
   "source": [
    "5 - ¿Cuál de las llamadas a funciona( ) en el siguiente programa informará de errores?"
   ]
  },
  {
   "cell_type": "markdown",
   "id": "364ce7d3",
   "metadata": {},
   "source": [
    "Ninguna porque todas cumplen con la definición: un primer argumento posicional, seguido de argumentos de longitud variable y el último con palabra clave que tiene un string por defecto"
   ]
  },
  {
   "cell_type": "code",
   "execution_count": 13,
   "id": "f5869eee",
   "metadata": {},
   "outputs": [
    {
     "name": "stdout",
     "output_type": "stream",
     "text": [
      "10 +\n",
      "20 +\n",
      "30 +\n",
      "40 +\n"
     ]
    },
    {
     "data": {
      "text/plain": [
       "\"\\nfunciona(10) \\nfunciona(10, 20)\\nfunciona(10, 20, 30)\\nfunciona(10, 20, 30, 40, s = '+')\\n\""
      ]
     },
     "execution_count": 13,
     "metadata": {},
     "output_type": "execute_result"
    }
   ],
   "source": [
    "def funciona(a, *args, s = '!') :\n",
    "    print(a, s)\n",
    "    for i in args :\n",
    "        print(i, s)\n",
    "        \n",
    "funciona(10) \n",
    "funciona(10, 20)\n",
    "funciona(10, 20, 30)\n",
    "funciona(10, 20, 30, 40, s = '+')\n"
   ]
  },
  {
   "cell_type": "markdown",
   "id": "88393dc3",
   "metadata": {},
   "source": [
    "6 - ¿Cuál de las siguientes es una declaración de retorno válida?"
   ]
  },
  {
   "cell_type": "markdown",
   "id": "01f1ee4c",
   "metadata": {},
   "source": [
    "Las tres son válidas:\n",
    "La primera devuelve una TUPLA con tres argumentos.\n",
    "La segunda devuelve una SUMA de tres elementos.\n",
    "La tercera devuelve una TUPLA de tres elementos."
   ]
  },
  {
   "cell_type": "code",
   "execution_count": 16,
   "id": "2346695d",
   "metadata": {},
   "outputs": [
    {
     "name": "stdout",
     "output_type": "stream",
     "text": [
      "(1, 2, 3)\n"
     ]
    },
    {
     "data": {
      "text/plain": [
       "'\\nreturn (a, b, c)\\nreturn a + b + c\\nreturn a, b, c\\n'"
      ]
     },
     "execution_count": 16,
     "metadata": {},
     "output_type": "execute_result"
    }
   ],
   "source": [
    "\n",
    "return (a, b, c)\n",
    "return a + b + c\n",
    "return a, b, c"
   ]
  },
  {
   "cell_type": "markdown",
   "id": "eec1a252",
   "metadata": {},
   "source": [
    "7 - ¿Cuál de las siguientes es una declaración de retorno válida?"
   ]
  },
  {
   "cell_type": "markdown",
   "id": "7ce48061",
   "metadata": {},
   "source": [
    "Son válidas ambas funciones de para imprimir un texto, aunque ninguna es una declaración de retorno."
   ]
  },
  {
   "cell_type": "code",
   "execution_count": 20,
   "id": "51b2233a",
   "metadata": {},
   "outputs": [
    {
     "name": "stdout",
     "output_type": "stream",
     "text": [
      "First avatar\n",
      "New avatar\n"
     ]
    }
   ],
   "source": [
    "def fun( ) :\n",
    "    print('First avatar')\n",
    "fun( )\n",
    "\n",
    "#################################\n",
    "\n",
    "def fun( ) :\n",
    "    print('New avatar') \n",
    "fun( )"
   ]
  },
  {
   "cell_type": "markdown",
   "id": "e30f2b75",
   "metadata": {},
   "source": [
    "8 (Opcional) - ¿Cómo definirías una función que contenga tres sentencias return, cada una de las cuales devuelve un tipo de valor diferente?"
   ]
  },
  {
   "cell_type": "markdown",
   "id": "f504a2bc",
   "metadata": {},
   "source": [
    "La definiría, por ejemplo, con un 'if-elif-else', y cada condición devuelve algo dierente."
   ]
  },
  {
   "cell_type": "code",
   "execution_count": 21,
   "id": "a6e88b02",
   "metadata": {},
   "outputs": [
    {
     "name": "stdout",
     "output_type": "stream",
     "text": [
      "Puede cruzar el paso de peaones\n",
      "Espere al color verde para cruzar\n",
      "Ciudado !! El semáforo está a punto de cerrarse\n"
     ]
    }
   ],
   "source": [
    "def semaforo(color):\n",
    "    color = str(color).lower()\n",
    "    if color == 'verde':\n",
    "        return 'Puede cruzar el paso de peaones'\n",
    "    elif color == 'rojo':\n",
    "        return 'Espere al color verde para cruzar'\n",
    "    else:\n",
    "        return 'Ciudado !! El semáforo está a punto de cerrarse'\n",
    "    \n",
    "print(semaforo('verde'))\n",
    "print(semaforo('rojo'))\n",
    "print(semaforo('ambar'))"
   ]
  },
  {
   "cell_type": "markdown",
   "id": "4d539a86",
   "metadata": {},
   "source": [
    "9 (Opcional) - ¿Cómo llamarías a imprimelo( ) para que imprima los elementos de una tupla?"
   ]
  },
  {
   "cell_type": "code",
   "execution_count": 26,
   "id": "65a3ff18",
   "metadata": {},
   "outputs": [
    {
     "name": "stdout",
     "output_type": "stream",
     "text": [
      "\n",
      "1 2 345"
     ]
    }
   ],
   "source": [
    "def imprimelo(i, a, s, *args) : \n",
    "    print( )\n",
    "    print(i, a, s, end = '') \n",
    "    for var in args:\n",
    "        print(var, end = '')\n",
    "tupla = (1,2,3,4,5)\n",
    "imprimelo(*tupla)"
   ]
  },
  {
   "cell_type": "markdown",
   "id": "a8ac9fe9",
   "metadata": {},
   "source": [
    "10 - ¿Cuál será la salida de los siguientes programas?. Explique también con sus propias palabras lo que el programa está haciendo. Puede hacerlo en un bloque aparte o en el mismo bloque del codigo usando comentarios"
   ]
  },
  {
   "cell_type": "markdown",
   "id": "9f9b6b87",
   "metadata": {},
   "source": [
    "a)"
   ]
  },
  {
   "cell_type": "code",
   "execution_count": 27,
   "id": "3af9f912",
   "metadata": {},
   "outputs": [
    {
     "name": "stdout",
     "output_type": "stream",
     "text": [
      "48\n"
     ]
    }
   ],
   "source": [
    "def fun(x, y) : # 2º: la función 'fun' recibe dos argumentos(x e y)\n",
    "    if x == 0 : # 3º: si el primer argumento es igual al número 0:\n",
    "        return y # 4º: devuelve el segundo\n",
    "    else : # 5º: si no se cumple la primera condición(primer argumento igual a 0):\n",
    "        return fun(x - 1, x * y) # 6º: Devuelve una llamada RECURSIVA a si mísma, \n",
    "                                 # enviando el primer argumento -1, y el segundo que es el producto del primero por el segundo,\n",
    "                                 # hasta que el primer argumento se hace 0, y devuelve el segundo argumento.\n",
    "print(fun(4, 2)) # 1º: Llamada a la función fun a la que enviamos dos números."
   ]
  },
  {
   "cell_type": "markdown",
   "id": "6f8299d0",
   "metadata": {},
   "source": [
    "b)"
   ]
  },
  {
   "cell_type": "markdown",
   "id": "41d9d74f",
   "metadata": {},
   "source": [
    "Se imprime la llamada a una función que se le pasa como argumento un número.\n",
    "Si el número es mayor que 100, devuelve ese número restándole 10, y se termina la ejecución, imprimiendo esa resta.\n",
    "Si no, se ejecuta otra devolución que realiza una doble llamada a si misma(llamada RECURSIVA). En la primera llamada se le manda el número sumándole 11, sigue sin cumplirse la condicional(>100), por lo que estará así hasta que el número enviado sea mayor a 100, devolviendo ese número mayor menos 10 a la segunda llamada RECURSIVA a la función, que volverá a mandar un número que irá creciendo hasta que se cumpla la condición del número mayor que 100, que acabará devolviendo un número que cumpla la condición del condicional, que será impreso restándole 10. "
   ]
  },
  {
   "cell_type": "code",
   "execution_count": 30,
   "id": "f46c2ba5",
   "metadata": {},
   "outputs": [
    {
     "name": "stdout",
     "output_type": "stream",
     "text": [
      "91\n"
     ]
    }
   ],
   "source": [
    "def fun(num) :\n",
    "    if num > 100 : \n",
    "        return num - 10\n",
    "    return fun(fun(num + 11)) \n",
    "print(fun(75))"
   ]
  },
  {
   "cell_type": "markdown",
   "id": "b91e6a9c",
   "metadata": {},
   "source": [
    "c)"
   ]
  },
  {
   "cell_type": "markdown",
   "id": "a2f0029c",
   "metadata": {},
   "source": [
    "Llamamos a la función enviándole el número '256'. La función tiene un condicional:\n",
    "el 'if' comprueba que si el argumento es igual a '0', imprimiendo 'False' y terminando el programa, como no se cumple pasa a la siguiente parte delcondicional, el 'elif' que comprueba si el número es igual a '1', imprimiendo 'True', pero como tampoco se cumple, pasa al último 'elif' que comprueba si el resto o módulo 2 del número es '0', y como si se cumple, porque es un número par, entra y hace una llamada recursiva a la función.\n",
    "Se va dividiendo el número entre dos(256 -> 128 -> 64 -> 32 -> 16 -> 8 -> 4 -> 2 -> 1). Cuando el número es reducido a '1', se cumple la segunda condición, y el programa imprime 'True' finalizando."
   ]
  },
  {
   "cell_type": "code",
   "execution_count": 31,
   "id": "40f50f6c",
   "metadata": {},
   "outputs": [
    {
     "name": "stdout",
     "output_type": "stream",
     "text": [
      "True\n"
     ]
    }
   ],
   "source": [
    "def fun_(num) :\n",
    "    if num == 0 :\n",
    "        print(\"False\")\n",
    "    elif num == 1 :\n",
    "        print(\"True\")\n",
    "    elif num % 2 == 0 :\n",
    "        fun_(num / 2)\n",
    "fun_(256)"
   ]
  },
  {
   "cell_type": "markdown",
   "id": "3e2f061f",
   "metadata": {},
   "source": [
    "11 - Considere la siguiente lista: lst = [1.25, 3.22, 4.68, 10.95, 32.55, 12.54]. Los números en la lista representan radios de circulos. Escriba un programa donde se obtenga una lista de las areas de esos circulos."
   ]
  },
  {
   "cell_type": "markdown",
   "id": "44b90292",
   "metadata": {},
   "source": [
    "- Area del circulo: A ---------------> A = (pi) * r**2"
   ]
  },
  {
   "cell_type": "code",
   "execution_count": null,
   "id": "fc8d0d68",
   "metadata": {},
   "outputs": [],
   "source": []
  },
  {
   "cell_type": "markdown",
   "id": "32444ae6",
   "metadata": {},
   "source": [
    "12 - Considere la siguiente lista: lista = ['Thor', 'Iron Man', 'Cap America', 'Hulk', 'Hawkeye']. Escribe un programa para obtener una lista en la que todos los nombres se conviertan a mayúsculas."
   ]
  },
  {
   "cell_type": "code",
   "execution_count": null,
   "id": "4bd49275",
   "metadata": {},
   "outputs": [],
   "source": []
  },
  {
   "cell_type": "markdown",
   "id": "e68715cf",
   "metadata": {},
   "source": [
    "13 - Considere la siguiente lista: lista_1 = ['Yo hago Yoga Hoy', 'Acaso hubo búhos acá', 'Ana, la tacaña catalana.', 'Julio está dando caña'] . Escribe un programa que imprima las cadenas que son palíndromos."
   ]
  },
  {
   "cell_type": "code",
   "execution_count": null,
   "id": "7859f9dd",
   "metadata": {},
   "outputs": [],
   "source": []
  },
  {
   "cell_type": "markdown",
   "id": "84f77ceb",
   "metadata": {},
   "source": [
    "14 - Supongamos que un diccionario contiene los nombres de los alumnos y las notas que han obtenido en un examen (Rango de notas de 0 - 100). Escribe un programa para obtener una lista de los alumnos que han obtenido más de 40 puntos en el examen."
   ]
  },
  {
   "cell_type": "code",
   "execution_count": null,
   "id": "83a20444",
   "metadata": {},
   "outputs": [],
   "source": []
  },
  {
   "cell_type": "markdown",
   "id": "cc191c04",
   "metadata": {},
   "source": [
    "15 - Considere las siguientes listas:"
   ]
  },
  {
   "cell_type": "code",
   "execution_count": null,
   "id": "f2164659",
   "metadata": {},
   "outputs": [],
   "source": [
    "nums = [10, 20, 30, 40, 50, 60, 70, 80]\n",
    "strs = ['A', 'B', 'C', 'D', 'E', 'F', 'G', 'H']"
   ]
  },
  {
   "cell_type": "markdown",
   "id": "0ec7ca4d",
   "metadata": {},
   "source": [
    "Escribe un programa para obtener una lista de tuplas, donde cada tupla contenga un número de una lista y una cadena de otra, en el mismo orden en que aparecen en las listas originales"
   ]
  },
  {
   "cell_type": "code",
   "execution_count": null,
   "id": "a4e64fd8",
   "metadata": {},
   "outputs": [],
   "source": []
  }
 ],
 "metadata": {
  "kernelspec": {
   "display_name": "Python 3 (ipykernel)",
   "language": "python",
   "name": "python3"
  },
  "language_info": {
   "codemirror_mode": {
    "name": "ipython",
    "version": 3
   },
   "file_extension": ".py",
   "mimetype": "text/x-python",
   "name": "python",
   "nbconvert_exporter": "python",
   "pygments_lexer": "ipython3",
   "version": "3.11.9"
  }
 },
 "nbformat": 4,
 "nbformat_minor": 5
}
