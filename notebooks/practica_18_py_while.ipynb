{
 "cells": [
  {
   "cell_type": "markdown",
   "metadata": {},
   "source": [
    "## Practica # 18. \n",
    "## Bucle while"
   ]
  },
  {
   "cell_type": "markdown",
   "metadata": {},
   "source": [
    "#### 1. Escriba un programa que pregunte una y otra vez si desea continuar con el programa, siempre que se conteste exactamente sí (en minúsculas y con tilde)."
   ]
  },
  {
   "cell_type": "code",
   "execution_count": 2,
   "metadata": {},
   "outputs": [
    {
     "name": "stdout",
     "output_type": "stream",
     "text": [
      "Ha escrito si, con lo que ha decidido termnar el programa\n",
      "Gracias por su participación, hasta la próxima!!\n"
     ]
    }
   ],
   "source": [
    "res = 'sí'\n",
    "\n",
    "while res == 'sí':\n",
    "    res = input(\"¿Deséa continuar con el programa: escriba 'sí'(con tilde) o 'no'?\")\n",
    "    if res != 'sí':\n",
    "        print(f\"Ha escrito '{res}', con lo que ha decidido terminar el programa\")\n",
    "print(f\"Gracias por su participación, hasta la próxima!!\")"
   ]
  },
  {
   "cell_type": "markdown",
   "metadata": {},
   "source": [
    "#### 2. Escriba un programa que pregunte una y otra vez si desea terminar el programa, siempre que se conteste exactamente N (en mayúsculas)."
   ]
  },
  {
   "cell_type": "code",
   "execution_count": 3,
   "metadata": {},
   "outputs": [
    {
     "name": "stdout",
     "output_type": "stream",
     "text": [
      "Ha escrito 'e', con lo que ha decidido terminar el programa\n",
      "Gracias por su participación, hasta la próxima!!\n"
     ]
    }
   ],
   "source": [
    "while True:\n",
    "    res = input(\"¿Deséa continuar con el programa: escriba 'N' (mayúscula) en caso afirmativo o lo que sea para terminar?\")\n",
    "    if res != 'N':\n",
    "        print(f\"Ha escrito '{res}', con lo que ha decidido terminar el programa\")\n",
    "        break\n",
    "print(f\"Gracias por su participación, hasta la próxima!!\")"
   ]
  },
  {
   "cell_type": "markdown",
   "metadata": {},
   "source": [
    "#### 3. Escriba un programa que pregunte una y otra vez si desea continuar con el programa, siempre que se conteste S o s (en mayúsculas o en minúsculas)."
   ]
  },
  {
   "cell_type": "code",
   "execution_count": 4,
   "metadata": {},
   "outputs": [
    {
     "name": "stdout",
     "output_type": "stream",
     "text": [
      "Ha escrito 'ttttt', con lo que ha decidido terminar el programa\n",
      "Gracias por su participación, hasta la próxima!!\n"
     ]
    }
   ],
   "source": [
    "while True:\n",
    "    res = input(\"¿Deséa continuar con el programa: escriba 'S' (mayúscula) o 's' en caso afirmativo u otra cadena o carácter para terminar?\")\n",
    "    if res != 'S' and res != 's':\n",
    "        print(f\"Ha escrito '{res}', con lo que ha decidido terminar el programa\")\n",
    "        break\n",
    "print(f\"Gracias por su participación, hasta la próxima!!\")"
   ]
  },
  {
   "cell_type": "markdown",
   "metadata": {},
   "source": [
    "#### 4. Escriba un programa que solicite una contraseña (el texto de la contraseña no es importante) y la vuelva a solicitar hasta que las dos contraseñas coincidan."
   ]
  },
  {
   "cell_type": "code",
   "execution_count": 5,
   "metadata": {},
   "outputs": [
    {
     "name": "stdout",
     "output_type": "stream",
     "text": [
      "Las contraseñas NO coinciden: 'rrr' != 'ggg'. Acceso denegado\n",
      "Ambas contraseñas coinciden: 'sanroque' == 'sanroque'. Acceso permitido\n"
     ]
    }
   ],
   "source": [
    "while True:\n",
    "    passw = input(\"Introduzca la contraseña...\")\n",
    "    repassw = input(\"Vuelva a introduzca la contraseña...\")\n",
    "    \n",
    "    if passw == repassw:\n",
    "        print(f\"Ambas contraseñas coinciden: '{passw}' == '{repassw}'. Acceso permitido\")\n",
    "        break\n",
    "    else:\n",
    "        print(f\"Las contraseñas NO coinciden: '{passw}' != '{repassw}'. Acceso denegado\")"
   ]
  },
  {
   "cell_type": "markdown",
   "metadata": {},
   "source": [
    "#### 5. Escriba un programa que simule una hucha. El programa solicitará primero una cantidad, que será la cantidad de dinero que queremos ahorrar. A continuación, el programa solicitará una y otra vez las cantidades que se irán ahorrando, hasta que el total ahorrado iguale o supere al objetivo. El programa no comprobará que las cantidades sean positivas."
   ]
  },
  {
   "cell_type": "code",
   "execution_count": 4,
   "metadata": {},
   "outputs": [
    {
     "name": "stdout",
     "output_type": "stream",
     "text": [
      "Enhorabuena !! Ha cumplido el objetivo de ahorro\n"
     ]
    }
   ],
   "source": [
    "OBJETIVO = float(input(\"Introduzca el OBJETIVO de ahorro...\"))\n",
    "ahorro = 0.00\n",
    "while True:\n",
    "    ingreso = float(input(\"Introduzca el ingreso para la cuenta de ahorro...\"))    \n",
    "    ahorro += ingreso\n",
    "    if ahorro >= OBJETIVO:\n",
    "        print(\"Enhorabuena !! Ha cumplido el objetivo de ahorro\")\n",
    "        break\n",
    "\n",
    "        \n",
    "    "
   ]
  },
  {
   "cell_type": "markdown",
   "metadata": {},
   "source": [
    "#### 6. Escriba un programa que mejore la simulación de la hucha del ejercicio anterior, no permitiendo que se escriban cantidades negativas."
   ]
  },
  {
   "cell_type": "code",
   "execution_count": 11,
   "metadata": {},
   "outputs": [
    {
     "name": "stdout",
     "output_type": "stream",
     "text": [
      "Ha introducido una cantidad negativa para el objetivo '-1.0€'\n",
      "Ha introducido una cantidad negativa para el objetivo '-22222.0€'\n",
      "Ha introducido una cantidad negativa para el INGRESO '-3.0€'\n",
      "Ha introducido una cantidad negativa para el INGRESO '-333.0€'\n",
      "Ha introducido una cantidad negativa para el INGRESO '-44444444.0€'\n",
      "Enhorabuena !! Ha cumplido el objetivo de ahorro: '10.0€'\n"
     ]
    }
   ],
   "source": [
    "objetivo = 0.00\n",
    "ingreso = 0.00\n",
    "ahorro = 0.00\n",
    "while True:\n",
    "    objetivo = float(input(\"Introduzca un OBJETIVO de AHORRO...\"))\n",
    "    if objetivo <= 0:\n",
    "        print(f\"Ha introducido una cantidad negativa para el objetivo '{objetivo}€'\")\n",
    "    else:\n",
    "        break\n",
    "while True:\n",
    "    ingreso = float(input(\"Introduzca el INGRESO para la cuenta de ahorro...\")) \n",
    "    if ingreso < 0:\n",
    "        print(f\"Ha introducido una cantidad negativa para el INGRESO '{ingreso}€'\")\n",
    "    else:\n",
    "        ahorro += ingreso\n",
    "        if ahorro >= objetivo:\n",
    "            print(f\"Enhorabuena !! Ha cumplido el objetivo de ahorro: '{ahorro}€'\")\n",
    "            \n",
    "            break\n"
   ]
  },
  {
   "cell_type": "markdown",
   "metadata": {},
   "source": [
    "#### 7. Escriba un programa que solicite una contraseña (el texto de la contraseña no es importante) y la vuelva a solicitar hasta que las dos contraseñas coincidan, con un límite de tres peticiones."
   ]
  },
  {
   "cell_type": "code",
   "execution_count": 13,
   "metadata": {},
   "outputs": [
    {
     "name": "stdout",
     "output_type": "stream",
     "text": [
      "Ambas contraseñas coinciden: 'g' == 'g'. Acceso permitido\n"
     ]
    }
   ],
   "source": [
    "intentos = 0\n",
    "while True:\n",
    "    passw = input(\"Introduzca la contraseña...\")\n",
    "    repassw = input(\"Vuelva a introduzca la contraseña...\")\n",
    "    intentos += 1\n",
    "    if passw == repassw:\n",
    "        print(f\"Ambas contraseñas coinciden: '{passw}' == '{repassw}'. Acceso permitido\")\n",
    "        break\n",
    "    elif intentos == 3:\n",
    "        print(f\"Ha superado los intentos permitidos: '{intentos}'. Acceso denegado\")\n",
    "        break\n",
    "    else:\n",
    "        print(f\"Las contraseñas NO coinciden: '{passw}' != '{repassw}'. Acceso denegado\")"
   ]
  },
  {
   "cell_type": "markdown",
   "metadata": {},
   "source": [
    "#### 8. Escriba un programa que lea los números enteros desde teclado, hasta que el usuario ingrese el 0. Finalmente, mostrar la sumatoria de todos los números ingresados."
   ]
  },
  {
   "cell_type": "code",
   "execution_count": 14,
   "metadata": {},
   "outputs": [
    {
     "name": "stdout",
     "output_type": "stream",
     "text": [
      "GAME OVER. Ha introducido el número '0\n",
      "El sumatorio de los números introducidos es '67136''\n"
     ]
    }
   ],
   "source": [
    "sumatorio = 0\n",
    "while True:\n",
    "    numero = int(input(\"Introduzca un NÚMERO ENTERO...\"))    \n",
    "    sumatorio += numero\n",
    "    if numero == 0:\n",
    "        print(f\"GAME OVER. Ha introducido el número '{numero}'\\nEl sumatorio de los números introducidos es '{sumatorio}'\")\n",
    "        break"
   ]
  },
  {
   "cell_type": "markdown",
   "metadata": {},
   "source": [
    "#### 9. Escriba un programa que lea los números enteros desde teclado, hasta que el usuario ingrese el 0. Finalmente, mostrar la cantidad de todos los números positivos ingresados."
   ]
  },
  {
   "cell_type": "code",
   "execution_count": 16,
   "metadata": {},
   "outputs": [
    {
     "name": "stdout",
     "output_type": "stream",
     "text": [
      "GAME OVER. Ha introducido el número '0'\n",
      "El sumatorio de los números POSITIVOS introducidos es '50'\n"
     ]
    }
   ],
   "source": [
    "sumatorio_pos = 0\n",
    "while True:\n",
    "    numero = int(input(\"Introduzca un NÚMERO(positivo o negativo)...\"))    \n",
    "    if numero >= 0:\n",
    "        sumatorio_pos += numero\n",
    "    if numero == 0:\n",
    "        print(f\"GAME OVER. Ha introducido el número '{numero}'\\nEl sumatorio de los números POSITIVOS introducidos es '{sumatorio_pos}'\")\n",
    "        break"
   ]
  },
  {
   "cell_type": "markdown",
   "metadata": {},
   "source": [
    "#### 10. Escriba un programa que lea los números enteros positivos de teclado, hasta que el usuario ingrese el 0. Informar cuál fue el mayor número ingresado."
   ]
  },
  {
   "cell_type": "code",
   "execution_count": 20,
   "metadata": {},
   "outputs": [
    {
     "name": "stdout",
     "output_type": "stream",
     "text": [
      "GAME OVER. Ha introducido el número '0'\n",
      "El sumatorio de los números POSITIVOS introducidos es '491'\n",
      "El mayor número positivo ingresado es '245'\n"
     ]
    }
   ],
   "source": [
    "sumatorio_pos = 0\n",
    "mayor = 0\n",
    "while True:\n",
    "    numero = int(input(\"Introduzca un NÚMERO(positivo o negativo)...\"))    \n",
    "    if numero >= 0:\n",
    "        sumatorio_pos += numero\n",
    "        if numero > mayor:\n",
    "            mayor = numero\n",
    "    if numero == 0:\n",
    "        print(f\"GAME OVER. Ha introducido el número '{numero}'\\nEl sumatorio de los números POSITIVOS introducidos es '{sumatorio_pos}'\")\n",
    "        print(f\"El mayor número positivo ingresado es '{mayor}'\")\n",
    "        break"
   ]
  }
 ],
 "metadata": {
  "kernelspec": {
   "display_name": "Curso_Python",
   "language": "python",
   "name": "python3"
  },
  "language_info": {
   "codemirror_mode": {
    "name": "ipython",
    "version": 3
   },
   "file_extension": ".py",
   "mimetype": "text/x-python",
   "name": "python",
   "nbconvert_exporter": "python",
   "pygments_lexer": "ipython3",
   "version": "3.11.9"
  }
 },
 "nbformat": 4,
 "nbformat_minor": 2
}
