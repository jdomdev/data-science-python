{
 "cells": [
  {
   "cell_type": "markdown",
   "metadata": {},
   "source": [
    "# PRÁCTICA 13"
   ]
  },
  {
   "cell_type": "markdown",
   "metadata": {},
   "source": [
    "## Pregunta 1:\n",
    "Escribir un programa que pregunte el nombre del usuario en al consola y después de que el usuario lo introduzca muestre por pantalla la cadena '¡Hola <nombre>!', donde <nombre> es el nombre que el usuario haya introducido."
   ]
  },
  {
   "cell_type": "code",
   "execution_count": 1,
   "metadata": {},
   "outputs": [
    {
     "name": "stdout",
     "output_type": "stream",
     "text": [
      "La entrada '77' es una CADENA de TEXTO válida.\n",
      "¡Hola '77!'\n"
     ]
    }
   ],
   "source": [
    "def comprueba_cadena(prompt):\n",
    "    while True:\n",
    "        entrada = input(prompt)\n",
    "        if isinstance(entrada, str) and entrada:\n",
    "            print(f\"La entrada '{entrada}' es una CADENA de TEXTO válida.\")\n",
    "            return entrada\n",
    "        else:\n",
    "            print(f\"ERROR: La entrada '{entrada}' NO es una CADENA de TEXTO válida. Inténtalo de nuevo.\")\n",
    "def imprime_saludo(nombre):\n",
    "    print(f\"¡Hola '{nombre}'!\")\n",
    "\n",
    "nombre = comprueba_cadena(\"Introduzca su NOMBRE...\")\n",
    "imprime_saludo(nombre)"
   ]
  },
  {
   "cell_type": "markdown",
   "metadata": {},
   "source": [
    "## Pregunta 2:\n",
    "Escribir un programa que muestre por pantalla el resultado de la siguiente operación aritmética\n",
    "((3 + 2) / (2 * 5))"
   ]
  },
  {
   "cell_type": "code",
   "execution_count": 2,
   "metadata": {},
   "outputs": [
    {
     "name": "stdout",
     "output_type": "stream",
     "text": [
      "El resultado de la OPERACIÓN ARITMÉTICA ((3 + 2) / (2 * 5)) = '0.5'\n"
     ]
    }
   ],
   "source": [
    "def operacion_aritmetica():\n",
    "    print(f\"El resultado de la OPERACIÓN ARITMÉTICA ((3 + 2) / (2 * 5)) = '{((3 + 2) / (2 * 5))}'\")\n",
    "operacion_aritmetica()"
   ]
  },
  {
   "cell_type": "markdown",
   "metadata": {},
   "source": [
    "## Pregunta 3:\n",
    "Escribe un programa que pregunte al usuario por el número de horas trabajadas y el coste por hora. después debe mostrar por pantalla la paga que le corresponde. "
   ]
  },
  {
   "cell_type": "code",
   "execution_count": 3,
   "metadata": {},
   "outputs": [
    {
     "name": "stdout",
     "output_type": "stream",
     "text": [
      "La entrada 100.0 ES un número REAL.\n",
      "La entrada 2.0 ES un número REAL.\n",
      "La paga que le corresponde es: las horas trabajadas '100.0' por el precio de la unidad '2.0' = '200.0' €\n"
     ]
    }
   ],
   "source": [
    "def comprueba_flotante(prompt):\n",
    "    while True:\n",
    "        entrada = input(prompt)\n",
    "        try:\n",
    "            entrada = float(entrada)\n",
    "            print(f\"La entrada {entrada} ES un número REAL.\")\n",
    "            return entrada\n",
    "        except ValueError:\n",
    "            print(f\"ERROR: La entrada {entrada} NO es número REAL.\")\n",
    "def calcula_paga(horas,precio):\n",
    "    return horas * precio\n",
    "def imprime_paga(paga, horas, precio):\n",
    "    print(f\"La paga que le corresponde es: las horas trabajadas '{horas}' hs por el precio de la unidad '{precio}' € = '{paga}' €\")\n",
    "horas_totales = comprueba_flotante(\"Introduce las horas trabajadas del periodo...\")\n",
    "precio_hora = comprueba_flotante(\"Introduce el precio de la hora...\")\n",
    "imprime_paga(calcula_paga(horas_totales, precio_hora), horas_totales, precio_hora)\n"
   ]
  },
  {
   "cell_type": "markdown",
   "metadata": {},
   "source": [
    "## Pregunta 4:\n",
    "Escribir un programa que pida al usuario dos números enteros y muestre por pantalla la <n> entre <m> de un cociente<c> y un resto<r> donde <n> y <m> son los números introducidos por el usuario, y <c> y <r> son el cociente y el resto de la división entera respectivamente."
   ]
  },
  {
   "cell_type": "code",
   "execution_count": 5,
   "metadata": {},
   "outputs": [
    {
     "name": "stdout",
     "output_type": "stream",
     "text": [
      "La entrada 10 ES un número ENTERO.\n",
      "La entrada 3 ES un número ENTERO.\n",
      "El dividendo '10' partido por el divisor '3' da un cociente '3.3333333333333335' y un resto '1'\n"
     ]
    }
   ],
   "source": [
    "def comprueba_entero(prompt):\n",
    "    while True:\n",
    "        entrada = input(prompt)\n",
    "        try:\n",
    "            entrada = int(entrada)\n",
    "            print(f\"La entrada {entrada} ES un número ENTERO.\")\n",
    "            return entrada\n",
    "        except ValueError:\n",
    "            print(f\"ERROR: La entrada {entrada} NO es número ENTERO.\")\n",
    "def calcula_cociente(dividendo, divisor):\n",
    "    return dividendo / divisor            \n",
    "def calcula_resto(dividendo, divisor):\n",
    "    return dividendo % divisor\n",
    "def imprime_elementos(dividendo,divisor,cociente,resto):\n",
    "    print(f\"El dividendo '{dividendo}' partido por el divisor '{divisor}' da un cociente '{cociente}' y un resto '{resto}'\")\n",
    "dividendo = comprueba_entero(\"Introduzca un número ENTERO para el DIVIDENDO...\")\n",
    "divisor = comprueba_entero(\"Introduzca un número ENTERO para el DIVISOR...\")\n",
    "imprime_elementos(dividendo, divisor, calcula_cociente(dividendo, divisor), calcula_resto(dividendo,divisor))\n"
   ]
  },
  {
   "cell_type": "markdown",
   "metadata": {},
   "source": [
    "## Pregunta 5:\n",
    "Escribir un programa que pregunte al usuario la cantidad a invertir, el interés porcentual anual y el número de años, y muestre por pantalla el capital obtenido en la inversión redondeado con dos decimales."
   ]
  },
  {
   "cell_type": "code",
   "execution_count": 11,
   "metadata": {},
   "outputs": [
    {
     "name": "stdout",
     "output_type": "stream",
     "text": [
      "La entrada 100.0 ES un número REAL.\n",
      "La entrada 2.273647940484 ES un número REAL.\n",
      "La entrada 5 ES un número ENTERO.\n",
      "El RETORNO de la inversión inicial '100.0'€ con el interés anual '2.273647940484'% durante los años acordados '5' es '111.37'€ \n"
     ]
    }
   ],
   "source": [
    "def comprueba_flotante(prompt):\n",
    "    while True:\n",
    "        entrada = input(prompt)\n",
    "        try:\n",
    "            entrada = float(entrada)\n",
    "            print(f\"La entrada {entrada} ES un número REAL.\")\n",
    "            return entrada\n",
    "        except ValueError:\n",
    "            print(f\"ERROR: La entrada {entrada} NO es número REAL.\")\n",
    "def comprueba_entero(prompt):\n",
    "    while True:\n",
    "        entrada = input(prompt)\n",
    "        try:\n",
    "            entrada = int(entrada)\n",
    "            print(f\"La entrada {entrada} ES un número ENTERO.\")\n",
    "            return entrada\n",
    "        except ValueError:\n",
    "            print(f\"ERROR: La entrada {entrada} NO es número ENTERO.\")\n",
    "                        \n",
    "def calcula_capital(cantidad_inicial, interes_anual, anios_inversion):\n",
    "    return round(cantidad_inicial + (((cantidad_inicial * interes_anual) / 100) * anios_inversion),2)\n",
    "def imprime_retorno(retorno,inversion,interes,anios):\n",
    "    print(f\"El RETORNO de la inversión inicial '{inversion}'€ con el interés anual '{interes}'% durante los años acordados '{anios}' es '{retorno}'€ \")\n",
    "    \n",
    "cantidad_inicial = comprueba_flotante(\"Introduzca la cantidad a invertir...\")\n",
    "interes_anual = comprueba_flotante(\"Introduzca el interés porcentual anual...\")\n",
    "anios_inversion = comprueba_entero(\"Introduzca el número de años de inversion...\")\n",
    "retorno = calcula_capital(cantidad_inicial,interes_anual,anios_inversion)\n",
    "imprime_retorno(retorno,cantidad_inicial,interes_anual,anios_inversion)\n"
   ]
  },
  {
   "cell_type": "markdown",
   "metadata": {},
   "source": [
    "## Pregunta 6:\n",
    "Una juguetería tiene mucho éxito en dos de sus productos: payasos y muñecas. Suele hacer venta por correo y la empresa de logística les cobra por peso de cada paquete así que deben calcular el peso de los payasos y muñecas que saldrán en cada paquete a demanda. Cada payaso pesa 112g y cada muñeca 75g. Escribir un programa que lea el número de payasos y muñecas vendidas en el último pedido y calcule el peso total del paquete que será enviado."
   ]
  },
  {
   "cell_type": "code",
   "execution_count": 13,
   "metadata": {},
   "outputs": [
    {
     "name": "stdout",
     "output_type": "stream",
     "text": [
      "La entrada 10 ES un número ENTERO.\n",
      "La entrada 10 ES un número ENTERO.\n",
      "El peso total del paquete a enviar por el pedido realizado es 1.87Kg\n"
     ]
    }
   ],
   "source": [
    "def comprueba_entero(prompt):\n",
    "    while True:\n",
    "        entrada = input(prompt)\n",
    "        try:\n",
    "            entrada = int(entrada)\n",
    "            print(f\"La entrada {entrada} ES un número ENTERO.\")\n",
    "            return entrada\n",
    "        except ValueError:\n",
    "            print(f\"ERROR: La entrada {entrada} NO es número ENTERO.\")\n",
    "def calcula_peso(num_payasos,num_munecas):\n",
    "    return ((num_payasos * 112) + (num_munecas * 75))\n",
    "def imprime_peso(peso_paquete):\n",
    "    print(f\"El peso total del paquete a enviar por el pedido realizado es {peso_paquete / 1000}Kg\")\n",
    "num_payasos = comprueba_entero(\"Introduzca el número de payasos del pedido...\")\n",
    "num_munecas = comprueba_entero(\"Introduzca el número de muñecas del pedido...\")\n",
    "imprime_peso(peso_paquete = calcula_peso(num_payasos,num_munecas))\n"
   ]
  },
  {
   "cell_type": "markdown",
   "metadata": {},
   "source": [
    "## Pregunta 7:\n",
    "Una panadería vende barras de pan a 3.49€ cada una. El pan que no es del día tiene un descuento deñ 60%. Escribir un programa que comience leyendo el número de barras vendidas que no son del día. después el programa debe mostrar el precio habitual de una barra de pan, el descuento que se le hace por no ser fresco y el coste final total."
   ]
  },
  {
   "cell_type": "code",
   "execution_count": 3,
   "metadata": {},
   "outputs": [
    {
     "name": "stdout",
     "output_type": "stream",
     "text": [
      "La entrada 7 ES un número ENTERO.\n",
      "El precio habitual de la barra es '3.49€'.\n",
      "El descuento para las barras que no son del día es del 60%.\n",
      "Número de barras = 7.\n",
      "Total del pedido = '9.772000000000002€'\n"
     ]
    }
   ],
   "source": [
    "def comprueba_entero(prompt):\n",
    "    while True:\n",
    "        entrada = input(prompt)\n",
    "        try:\n",
    "            entrada = int(entrada)\n",
    "            print(f\"La entrada {entrada} ES un número ENTERO.\")\n",
    "            return entrada\n",
    "        except ValueError:\n",
    "            print(f\"ERROR: La entrada {entrada} NO es número ENTERO.\")\n",
    "def calculo_precio_final(num_barras):\n",
    "    return ((3.49 - (3.49 * 0.6)) * num_barras)\n",
    "def imprime_info(barras,precio_total):\n",
    "    print(f\"El precio habitual de la barra es '3.49€'.\\nEl descuento para las barras que no son del día es del 60%.\\nNúmero de barras = {barras}.\\nTotal del pedido = '{precio_total}€'\")\n",
    "barras_nofrescas = comprueba_entero(\"Introduzca el número de barras que NO son del DÍA que desea...\")\n",
    "precio_final_total = calculo_precio_final(barras_nofrescas)\n",
    "imprime_info(barras_nofrescas,precio_final_total)\n",
    "            "
   ]
  },
  {
   "cell_type": "markdown",
   "metadata": {},
   "source": [
    "## Pregunta 8:\n",
    "Suponga un valor adecuado para la temperatura de una ciudad en grados Farenheit. Escriba un programa para convertir esta temperatura en grados centígrados e imprima ambas temperaturas."
   ]
  },
  {
   "cell_type": "code",
   "execution_count": 5,
   "metadata": {},
   "outputs": [
    {
     "name": "stdout",
     "output_type": "stream",
     "text": [
      "La entrada 212.0 ES un número REAL.\n",
      "La temperatura que ha introducido: '212.0ºF'.\n",
      "El equivalente en Celsius es: '100.0Cº'\n"
     ]
    }
   ],
   "source": [
    "def comprueba_flotante(prompt):\n",
    "    while True:\n",
    "        entrada = input(prompt)\n",
    "        try:\n",
    "            entrada = float(entrada)\n",
    "            print(f\"La entrada {entrada} ES un número REAL.\")\n",
    "            return entrada\n",
    "        except ValueError:\n",
    "            print(f\"ERROR: La entrada {entrada} NO es número REAL.\")\n",
    "def farenheit_a_celsius(temp_fht):\n",
    "    return ((temp_fht - 32) * 5) / 9\n",
    "def imprime_info(temp_frht, temp_clss):\n",
    "    print(f\"La temperatura que ha introducido: '{temp_frht}ºF'.\\nEl equivalente en Celsius es: '{temp_clss}Cº'\")\n",
    "temp_frht = comprueba_flotante(\"Introduzca la temperatura en grados FARENHEIT a convertir...\")\n",
    "imprime_info(temp_frht, farenheit_a_celsius(temp_frht))"
   ]
  },
  {
   "cell_type": "markdown",
   "metadata": {},
   "source": [
    "## Pregunta 9:\n",
    "Suponga un valor adecuado para la temperatura de una ciudad en grados centígrados. Escriba un programa para convertir esta temperatura en la escala Kelvin e imprima ambas temperaturas."
   ]
  },
  {
   "cell_type": "code",
   "execution_count": 6,
   "metadata": {},
   "outputs": [
    {
     "name": "stdout",
     "output_type": "stream",
     "text": [
      "La entrada 36.9 ES un número REAL.\n",
      "La temperatura que ha introducido: '36.9Cº'.\n",
      "El equivalente en grados Kelvin es: '310.04999999999995K'\n"
     ]
    }
   ],
   "source": [
    "def comprueba_flotante(prompt):\n",
    "    while True:\n",
    "        entrada = input(prompt)\n",
    "        try:\n",
    "            entrada = float(entrada)\n",
    "            print(f\"La entrada {entrada} ES un número REAL.\")\n",
    "            return entrada\n",
    "        except ValueError:\n",
    "            print(f\"ERROR: La entrada {entrada} NO es número REAL.\")\n",
    "def celsius_a_kelvin(temp_clss):\n",
    "    return temp_clss + 273.15\n",
    "def imprime_info(temp_clss, temp_klv):\n",
    "    print(f\"La temperatura que ha introducido: '{temp_clss}Cº'.\\nEl equivalente en grados Kelvin es: '{temp_klv}K'\")\n",
    "temp_clss = comprueba_flotante(\"Introduzca la temperatura en grados CELSIUS a convertir...\")\n",
    "imprime_info(temp_clss, celsius_a_kelvin(temp_clss))"
   ]
  },
  {
   "cell_type": "markdown",
   "metadata": {},
   "source": [
    "## Pregunta 10:\n",
    "Imprima la parte imaginaria del complejo z = 2 + 3j."
   ]
  },
  {
   "cell_type": "code",
   "execution_count": 7,
   "metadata": {},
   "outputs": [
    {
     "name": "stdout",
     "output_type": "stream",
     "text": [
      "La parte imaginaria del complejo: 'z = 2 + 3j' es 3.0\n"
     ]
    }
   ],
   "source": [
    "z = 2 + 3j\n",
    "print(f\"La parte IMAGINARIA del complejo: 'z = 2 + 3j' es {z.imag}\")"
   ]
  },
  {
   "cell_type": "markdown",
   "metadata": {},
   "source": [
    "## Pregunta 11:\n",
    "Obtenga la parte real de z = 4 + 2j."
   ]
  },
  {
   "cell_type": "code",
   "execution_count": 8,
   "metadata": {},
   "outputs": [
    {
     "name": "stdout",
     "output_type": "stream",
     "text": [
      "La parte REAL del complejo: 'z = 4 + 2j' es 4.0\n"
     ]
    }
   ],
   "source": [
    "z = 4 + 2j\n",
    "print(f\"La parte REAL del complejo: 'z = 4 + 2j' es {z.real}\")"
   ]
  },
  {
   "cell_type": "markdown",
   "metadata": {},
   "source": [
    "## Pregunta 12:\n",
    "Obtenga el conjugado de z = 4 + 2j."
   ]
  },
  {
   "cell_type": "code",
   "execution_count": 10,
   "metadata": {},
   "outputs": [
    {
     "name": "stdout",
     "output_type": "stream",
     "text": [
      "El CONJUGADO del complejo: 'z = 4 + 2j' es (4-2j)\n"
     ]
    }
   ],
   "source": [
    "z = 4 + 2j\n",
    "print(f\"El CONJUGADO del complejo: 'z = 4 + 2j' es {z.conjugate()}\")"
   ]
  },
  {
   "cell_type": "markdown",
   "metadata": {},
   "source": [
    "## Pregunta 13:\n",
    "Imprima el equivalente en nuestra base decimal del binario ‘1100001110’."
   ]
  },
  {
   "cell_type": "code",
   "execution_count": 15,
   "metadata": {},
   "outputs": [
    {
     "name": "stdout",
     "output_type": "stream",
     "text": [
      "El equivalente del binario: '1100001110' en base decimal es: '782'\n"
     ]
    }
   ],
   "source": [
    "print(f\"El equivalente del binario: '1100001110' en base decimal es: '{int('1100001110', 2)}'\")"
   ]
  },
  {
   "cell_type": "markdown",
   "metadata": {},
   "source": [
    "## Pregunta 14: \n",
    "Convierta el valor flotante 4.33 a un string (cadena)."
   ]
  },
  {
   "cell_type": "code",
   "execution_count": 16,
   "metadata": {},
   "outputs": [
    {
     "name": "stdout",
     "output_type": "stream",
     "text": [
      "La CONVERSIÓN del tipo flotante: 4.33 a STRING es: '4.33'\n"
     ]
    }
   ],
   "source": [
    "print(f\"La CONVERSIÓN del tipo flotante: {4.33} a STRING es: '{str(4.33)}'\")"
   ]
  },
  {
   "cell_type": "markdown",
   "metadata": {},
   "source": [
    "## Pregunta 15: \n",
    "Obtenga el cociente entero y el resto de la división entre 29 y 5."
   ]
  },
  {
   "cell_type": "code",
   "execution_count": 18,
   "metadata": {},
   "outputs": [
    {
     "name": "stdout",
     "output_type": "stream",
     "text": [
      "El cociente entero y el resto de la división: '29 / 5' son: cociente entero = '5' | resto = '4'\n"
     ]
    }
   ],
   "source": [
    "print(f\"El cociente entero y el resto de la división: '29 / 5' son: cociente entero = '{int(29/5)}' | resto = '{29 % 5}'\")"
   ]
  },
  {
   "cell_type": "markdown",
   "metadata": {},
   "source": [
    "## Pregunta 16: \n",
    "Obtenga el equivalente hexadecimal de 34567."
   ]
  },
  {
   "cell_type": "code",
   "execution_count": 19,
   "metadata": {},
   "outputs": [
    {
     "name": "stdout",
     "output_type": "stream",
     "text": [
      "La CONVERSIÓN del decimal: 34567 a HEXADECIMAL es: '0x8707'\n"
     ]
    }
   ],
   "source": [
    "print(f\"La CONVERSIÓN del decimal: {34567} a HEXADECIMAL es: '{hex(34567)}'\")"
   ]
  },
  {
   "cell_type": "markdown",
   "metadata": {},
   "source": [
    "## Pregunta 17: \n",
    "Aproxime hasta dos decimales el número 45.67859245"
   ]
  },
  {
   "cell_type": "code",
   "execution_count": 21,
   "metadata": {},
   "outputs": [
    {
     "name": "stdout",
     "output_type": "stream",
     "text": [
      "El redondeo del FLOAT: 45.67859245 a 2 dígitos es: '45.68'\n"
     ]
    }
   ],
   "source": [
    "print(f\"El redondeo del FLOAT: {45.67859245} a 2 dígitos es: '{round(45.67859245, 2)}'\")"
   ]
  },
  {
   "cell_type": "markdown",
   "metadata": {},
   "source": [
    "## Pregunta 18: \n",
    "Obtenga 4 a partir de 3.556"
   ]
  },
  {
   "cell_type": "code",
   "execution_count": 22,
   "metadata": {},
   "outputs": [
    {
     "name": "stdout",
     "output_type": "stream",
     "text": [
      "El redondeo del FLOAT: 3.556 hacia arriba es: '4'\n"
     ]
    }
   ],
   "source": [
    "print(f\"El redondeo del FLOAT: {3.556} hacia arriba es: '{round(3.556)}'\")"
   ]
  },
  {
   "cell_type": "markdown",
   "metadata": {},
   "source": [
    "## Pregunta 19: \n",
    "Obtenga 17 a partir de 16.7844."
   ]
  },
  {
   "cell_type": "code",
   "execution_count": 23,
   "metadata": {},
   "outputs": [
    {
     "name": "stdout",
     "output_type": "stream",
     "text": [
      "El redondeo del FLOAT: 16.7844 hacia arriba es: '17'\n"
     ]
    }
   ],
   "source": [
    "print(f\"El redondeo del FLOAT: {16.7844} hacia arriba es: '{round(16.7844)}'\")"
   ]
  },
  {
   "cell_type": "markdown",
   "metadata": {},
   "source": [
    "## Pregunta 20: \n",
    "Calcule el resto de la división con 3.45 y 1.22"
   ]
  },
  {
   "cell_type": "code",
   "execution_count": 24,
   "metadata": {},
   "outputs": [
    {
     "name": "stdout",
     "output_type": "stream",
     "text": [
      "La división: '3.45 / 1.22' arroja un RESTO = '1.0100000000000002'\n"
     ]
    }
   ],
   "source": [
    "print(f\"La división: '3.45 / 1.22' arroja un RESTO = '{3.45 % 1.22}'\")"
   ]
  },
  {
   "cell_type": "markdown",
   "metadata": {},
   "source": [
    "## Pregunta 21:\n",
    "Calcule 3,45 elevado a 1,22"
   ]
  },
  {
   "cell_type": "code",
   "execution_count": 25,
   "metadata": {},
   "outputs": [
    {
     "name": "stdout",
     "output_type": "stream",
     "text": [
      "El valor '3,45' elevado a '1,22' = '4.530428659651715'\n"
     ]
    }
   ],
   "source": [
    "print(f\"El valor '3,45' elevado a '1,22' = '{3.45 ** 1.22}'\")"
   ]
  },
  {
   "cell_type": "markdown",
   "metadata": {},
   "source": [
    "## Pregunta 22: \n",
    "¿Cuál de los siguientes es un nombre de variable no válido y por qué?"
   ]
  },
  {
   "cell_type": "markdown",
   "metadata": {},
   "source": [
    "'BASICSALARY' : válido aunque se recomienda que las palabras que lo forman vayan separadas por un guón bajo(BASIC_SALARY)"
   ]
  },
  {
   "cell_type": "code",
   "execution_count": 26,
   "metadata": {},
   "outputs": [
    {
     "name": "stdout",
     "output_type": "stream",
     "text": [
      "True\n"
     ]
    }
   ],
   "source": [
    "print('BASICSALARY'.isidentifier())"
   ]
  },
  {
   "cell_type": "markdown",
   "metadata": {},
   "source": [
    "_basic : si porque pueden comenzar con una letra o guines bajos."
   ]
  },
  {
   "cell_type": "code",
   "execution_count": 27,
   "metadata": {},
   "outputs": [
    {
     "name": "stdout",
     "output_type": "stream",
     "text": [
      "True\n"
     ]
    }
   ],
   "source": [
    "print('_basic'.isidentifier())"
   ]
  },
  {
   "cell_type": "markdown",
   "metadata": {},
   "source": [
    "basic-hra : no válido."
   ]
  },
  {
   "cell_type": "code",
   "execution_count": 28,
   "metadata": {},
   "outputs": [
    {
     "name": "stdout",
     "output_type": "stream",
     "text": [
      "False\n"
     ]
    }
   ],
   "source": [
    "print('basic-hra'.isidentifier())"
   ]
  },
  {
   "cell_type": "markdown",
   "metadata": {},
   "source": [
    "#MEAN : no válido porquee no puede comenzar por un símbolo como la almhoadilla."
   ]
  },
  {
   "cell_type": "code",
   "execution_count": 29,
   "metadata": {},
   "outputs": [
    {
     "name": "stdout",
     "output_type": "stream",
     "text": [
      "False\n"
     ]
    }
   ],
   "source": [
    "print('#MEAN'.isidentifier())"
   ]
  },
  {
   "cell_type": "markdown",
   "metadata": {},
   "source": [
    "group. : no válido porque no puede contener puntos."
   ]
  },
  {
   "cell_type": "code",
   "execution_count": 30,
   "metadata": {},
   "outputs": [
    {
     "name": "stdout",
     "output_type": "stream",
     "text": [
      "False\n"
     ]
    }
   ],
   "source": [
    "print('group.'.isidentifier())"
   ]
  },
  {
   "cell_type": "markdown",
   "metadata": {},
   "source": [
    "422 : no válido porque no puede empezar por un dígito."
   ]
  },
  {
   "cell_type": "code",
   "execution_count": 31,
   "metadata": {},
   "outputs": [
    {
     "name": "stdout",
     "output_type": "stream",
     "text": [
      "False\n"
     ]
    }
   ],
   "source": [
    "print('422'.isidentifier())"
   ]
  },
  {
   "cell_type": "markdown",
   "metadata": {},
   "source": [
    "pop in 2020 : no válido porque deben estar unidas por guiones bajos."
   ]
  },
  {
   "cell_type": "code",
   "execution_count": 32,
   "metadata": {},
   "outputs": [
    {
     "name": "stdout",
     "output_type": "stream",
     "text": [
      "False\n"
     ]
    }
   ],
   "source": [
    "print('pop in 2020'.isidentifier())"
   ]
  },
  {
   "cell_type": "markdown",
   "metadata": {},
   "source": [
    "over : válido porque no es una palabra reservada y comienza por una letra."
   ]
  },
  {
   "cell_type": "code",
   "execution_count": 33,
   "metadata": {},
   "outputs": [
    {
     "name": "stdout",
     "output_type": "stream",
     "text": [
      "True\n"
     ]
    }
   ],
   "source": [
    "print('over'.isidentifier())"
   ]
  },
  {
   "cell_type": "markdown",
   "metadata": {},
   "source": [
    "timemindovermatter : válido por empezar por una letra y no ser una palabra reservada. Aunque se recomienda que las palabras que lo forman vayan separadas  por guines bajos."
   ]
  },
  {
   "cell_type": "code",
   "execution_count": 34,
   "metadata": {},
   "outputs": [
    {
     "name": "stdout",
     "output_type": "stream",
     "text": [
      "True\n"
     ]
    }
   ],
   "source": [
    "print('timemindovermatter'.isidentifier())"
   ]
  },
  {
   "cell_type": "markdown",
   "metadata": {},
   "source": [
    "Plot # 3 : no válido porque las partes están separadas por espacios."
   ]
  },
  {
   "cell_type": "code",
   "execution_count": 35,
   "metadata": {},
   "outputs": [
    {
     "name": "stdout",
     "output_type": "stream",
     "text": [
      "False\n"
     ]
    }
   ],
   "source": [
    "print('Plot # 3'.isidentifier())"
   ]
  },
  {
   "cell_type": "markdown",
   "metadata": {},
   "source": [
    "SINGLE : válido para CONSTANTE, pero no recomendado para variables."
   ]
  },
  {
   "cell_type": "code",
   "execution_count": 36,
   "metadata": {},
   "outputs": [
    {
     "name": "stdout",
     "output_type": "stream",
     "text": [
      "True\n"
     ]
    }
   ],
   "source": [
    "print('SINGLE'.isidentifier())"
   ]
  },
  {
   "cell_type": "markdown",
   "metadata": {},
   "source": [
    "hELLO : válido por empezar por una letra, aunque se recomienda que vayan todas en minúscula o mayúsculas(CONSTANTES)"
   ]
  },
  {
   "cell_type": "code",
   "execution_count": 37,
   "metadata": {},
   "outputs": [
    {
     "name": "stdout",
     "output_type": "stream",
     "text": [
      "True\n"
     ]
    }
   ],
   "source": [
    "print('hELLO'.isidentifier())"
   ]
  },
  {
   "cell_type": "markdown",
   "metadata": {},
   "source": [
    "queue : válido por empezar por una letra minúscula y no ser paabra reservada."
   ]
  },
  {
   "cell_type": "code",
   "execution_count": 38,
   "metadata": {},
   "outputs": [
    {
     "name": "stdout",
     "output_type": "stream",
     "text": [
      "True\n"
     ]
    }
   ],
   "source": [
    "print('queue'.isidentifier())"
   ]
  },
  {
   "cell_type": "markdown",
   "metadata": {},
   "source": [
    "teams'svictory : no válido porque no puede llevar un símbolo como la apóstrofe."
   ]
  },
  {
   "cell_type": "code",
   "execution_count": 39,
   "metadata": {},
   "outputs": [
    {
     "ename": "SyntaxError",
     "evalue": "unterminated string literal (detected at line 1) (3019736766.py, line 1)",
     "output_type": "error",
     "traceback": [
      "\u001b[1;36m  Cell \u001b[1;32mIn[39], line 1\u001b[1;36m\u001b[0m\n\u001b[1;33m    print('teams'svictory'.isidentifier())\u001b[0m\n\u001b[1;37m                         ^\u001b[0m\n\u001b[1;31mSyntaxError\u001b[0m\u001b[1;31m:\u001b[0m unterminated string literal (detected at line 1)\n"
     ]
    }
   ],
   "source": [
    "print('teams'svictory'.isidentifier())"
   ]
  },
  {
   "cell_type": "markdown",
   "metadata": {},
   "source": [
    "2015_DDay : no válido porque comienza por un dígito."
   ]
  },
  {
   "cell_type": "code",
   "execution_count": 40,
   "metadata": {},
   "outputs": [
    {
     "name": "stdout",
     "output_type": "stream",
     "text": [
      "False\n"
     ]
    }
   ],
   "source": [
    "print('2015_DDay'.isidentifier())"
   ]
  },
  {
   "cell_type": "markdown",
   "metadata": {},
   "source": [
    "## Pregunta 23: \n",
    "Calcule (en Jupyter ) las siguientes operaciones:"
   ]
  },
  {
   "cell_type": "markdown",
   "metadata": {},
   "source": [
    "(a)  '2 ** 6 // 8 % 2'"
   ]
  },
  {
   "cell_type": "code",
   "execution_count": 41,
   "metadata": {},
   "outputs": [
    {
     "name": "stdout",
     "output_type": "stream",
     "text": [
      "El resultado de la operación '2 ** 6 // 8 % 2' = '0'\n"
     ]
    }
   ],
   "source": [
    "print(f\"El resultado de la operación '2 ** 6 // 8 % 2' = '{2 ** 6 // 8 % 2}'\")"
   ]
  },
  {
   "cell_type": "markdown",
   "metadata": {},
   "source": [
    "(b) '9 ** 2 // 5 - 3'"
   ]
  },
  {
   "cell_type": "code",
   "execution_count": 42,
   "metadata": {},
   "outputs": [
    {
     "name": "stdout",
     "output_type": "stream",
     "text": [
      "El resultado de la operación = '13'\n"
     ]
    }
   ],
   "source": [
    "print(f\"El resultado de la operación = '{9 ** 2 // 5 - 3}'\")"
   ]
  },
  {
   "cell_type": "markdown",
   "metadata": {},
   "source": [
    "(c) '10 + 6 - 2 % 3 + 7 -2'"
   ]
  },
  {
   "cell_type": "code",
   "execution_count": 43,
   "metadata": {},
   "outputs": [
    {
     "name": "stdout",
     "output_type": "stream",
     "text": [
      "El resultado de la operación = '19'\n"
     ]
    }
   ],
   "source": [
    "print(f\"El resultado de la operación = '{10 + 6 - 2 % 3 + 7 -2}'\")"
   ]
  },
  {
   "cell_type": "markdown",
   "metadata": {},
   "source": [
    "(d) '5 % 10 + 10 - 23 * 4 // 3'"
   ]
  },
  {
   "cell_type": "code",
   "execution_count": 44,
   "metadata": {},
   "outputs": [
    {
     "name": "stdout",
     "output_type": "stream",
     "text": [
      "El resultado de la operación = '-15'\n"
     ]
    }
   ],
   "source": [
    "print(f\"El resultado de la operación = '{5 % 10 + 10 - 23 * 4 // 3}'\")"
   ]
  },
  {
   "cell_type": "markdown",
   "metadata": {},
   "source": [
    "(e) '5 + 5 // 5 - 5 ** 5 % 5'"
   ]
  },
  {
   "cell_type": "code",
   "execution_count": 45,
   "metadata": {},
   "outputs": [
    {
     "name": "stdout",
     "output_type": "stream",
     "text": [
      "El resultado de la operación = '6'\n"
     ]
    }
   ],
   "source": [
    "print(f\"El resultado de la operación = '{5 + 5 // 5 - 5 ** 5 % 5}'\")"
   ]
  },
  {
   "cell_type": "markdown",
   "metadata": {},
   "source": [
    "(f) '7 % 7 + 7 // 7 - 7 * 7'"
   ]
  },
  {
   "cell_type": "code",
   "execution_count": 46,
   "metadata": {},
   "outputs": [
    {
     "name": "stdout",
     "output_type": "stream",
     "text": [
      "El resultado de la operación = '-48'\n"
     ]
    }
   ],
   "source": [
    "print(f\"El resultado de la operación = '{7 % 7 + 7 // 7 - 7 * 7}'\")"
   ]
  },
  {
   "cell_type": "markdown",
   "metadata": {},
   "source": [
    "## Pregunta 24: \n",
    "Evalúe las siguientes expresiones:"
   ]
  },
  {
   "cell_type": "markdown",
   "metadata": {},
   "source": [
    "(a) 'min(2,6,8,5)' : la función min() extrae el valor mínimo de una lista de números."
   ]
  },
  {
   "cell_type": "code",
   "execution_count": 47,
   "metadata": {},
   "outputs": [
    {
     "name": "stdout",
     "output_type": "stream",
     "text": [
      "El resultado de la operación = '2'\n"
     ]
    }
   ],
   "source": [
    "print(f\"El resultado de la función = '{min(2,6,8,5)}'\")"
   ]
  },
  {
   "cell_type": "markdown",
   "metadata": {},
   "source": [
    "(b) 'bin(46)' : la función bin() transforma el número en base decimal a binario."
   ]
  },
  {
   "cell_type": "code",
   "execution_count": 48,
   "metadata": {},
   "outputs": [
    {
     "name": "stdout",
     "output_type": "stream",
     "text": [
      "El resultado de la operación = '0b101110'\n"
     ]
    }
   ],
   "source": [
    "print(f\"El resultado de la función = '{bin(46)}'\")"
   ]
  },
  {
   "cell_type": "markdown",
   "metadata": {},
   "source": [
    "(c) 'round(10.544336,2)' : la función round(numero,digitos) redondea el número con coma flotante a los dígitos indicados en el segundo argumento."
   ]
  },
  {
   "cell_type": "code",
   "execution_count": 49,
   "metadata": {},
   "outputs": [
    {
     "name": "stdout",
     "output_type": "stream",
     "text": [
      "El resultado de la operación = '10.54'\n"
     ]
    }
   ],
   "source": [
    "print(f\"El resultado de la función = '{round(10.544336,2)}'\")"
   ]
  },
  {
   "cell_type": "markdown",
   "metadata": {},
   "source": [
    "## Pregunta 25: \n",
    "Escriba un programa que intercambie los valores enteros de las variables a y b. No está permitido utilizar una tercera variable. No se le permite realizar operaciones aritméticas en a y b."
   ]
  },
  {
   "cell_type": "code",
   "execution_count": 50,
   "metadata": {},
   "outputs": [
    {
     "name": "stdout",
     "output_type": "stream",
     "text": [
      "El valor de a después del intercambio es: 10\n",
      "El valor de b después del intercambio es: 5\n"
     ]
    }
   ],
   "source": [
    "a = 5\n",
    "b = 10\n",
    "\n",
    "a, b = b, a\n",
    "\n",
    "print(\"El valor de a después del intercambio es:\", a)\n",
    "print(\"El valor de b después del intercambio es:\", b)"
   ]
  }
 ],
 "metadata": {
  "kernelspec": {
   "display_name": "Curso_Python",
   "language": "python",
   "name": "python3"
  },
  "language_info": {
   "codemirror_mode": {
    "name": "ipython",
    "version": 3
   },
   "file_extension": ".py",
   "mimetype": "text/x-python",
   "name": "python",
   "nbconvert_exporter": "python",
   "pygments_lexer": "ipython3",
   "version": "3.11.9"
  }
 },
 "nbformat": 4,
 "nbformat_minor": 2
}
