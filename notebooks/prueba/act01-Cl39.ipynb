{
 "cells": [
  {
   "cell_type": "markdown",
   "id": "778b0783-8390-4685-9284-b83de8be0d29",
   "metadata": {},
   "source": [
    "Asigna un valor entero 2001 a la variable space_odyssey y muestra su valor."
   ]
  },
  {
   "cell_type": "code",
   "execution_count": 1,
   "id": "c4f60651-42f9-434f-9825-c0a3d9171f4c",
   "metadata": {},
   "outputs": [
    {
     "data": {
      "text/plain": [
       "2001"
      ]
     },
     "execution_count": 1,
     "metadata": {},
     "output_type": "execute_result"
    }
   ],
   "source": [
    "space_odissey = 2001\n",
    "space_odissey"
   ]
  },
  {
   "cell_type": "markdown",
   "id": "61638e59-2d59-47bb-85bb-146e658a326b",
   "metadata": {},
   "source": [
    "Descubre el tipo del literal 'Good night & Good luck'."
   ]
  },
  {
   "cell_type": "code",
   "execution_count": 2,
   "id": "d978af96-ed17-48e0-b091-207144c2ea2b",
   "metadata": {},
   "outputs": [
    {
     "data": {
      "text/plain": [
       "str"
      ]
     },
     "execution_count": 2,
     "metadata": {},
     "output_type": "execute_result"
    }
   ],
   "source": [
    "type('Good night & Good luck')"
   ]
  },
  {
   "cell_type": "code",
   "execution_count": null,
   "id": "5f426a27-f0d8-4aa8-8202-048ce37984fb",
   "metadata": {},
   "outputs": [],
   "source": [
    "Identifica el tipo literal True."
   ]
  },
  {
   "cell_type": "code",
   "execution_count": 3,
   "id": "5583de33-9c60-4871-8be6-f9b7b62eec7f",
   "metadata": {},
   "outputs": [
    {
     "data": {
      "text/plain": [
       "bool"
      ]
     },
     "execution_count": 3,
     "metadata": {},
     "output_type": "execute_result"
    }
   ],
   "source": [
    "type(True)"
   ]
  },
  {
   "cell_type": "code",
   "execution_count": null,
   "id": "ce7f0fd4-411b-459b-844b-14b2594da29d",
   "metadata": {},
   "outputs": [],
   "source": [
    "Asigna la expresión 10 * 3.0 a la variable result y muestra su tipo."
   ]
  },
  {
   "cell_type": "code",
   "execution_count": 7,
   "id": "a2c5e766-7117-4c2e-a230-bee1f4615cf0",
   "metadata": {},
   "outputs": [
    {
     "data": {
      "text/plain": [
       "float"
      ]
     },
     "execution_count": 7,
     "metadata": {},
     "output_type": "execute_result"
    }
   ],
   "source": [
    "result = 10 * 3.0\n",
    "type(result)"
   ]
  },
  {
   "cell_type": "code",
   "execution_count": 8,
   "id": "62bec50c-cd8e-4515-a262-4d4ed26f8aa4",
   "metadata": {},
   "outputs": [
    {
     "name": "stdin",
     "output_type": "stream",
     "text": [
      "Enter your name:  jon\n"
     ]
    }
   ],
   "source": [
    "x = input(\"Enter your name: \")"
   ]
  },
  {
   "cell_type": "code",
   "execution_count": 9,
   "id": "212fd20b-0118-462e-87a2-6234de8a9009",
   "metadata": {},
   "outputs": [
    {
     "data": {
      "text/plain": [
       "'jon'"
      ]
     },
     "execution_count": 9,
     "metadata": {},
     "output_type": "execute_result"
    }
   ],
   "source": [
    "x"
   ]
  },
  {
   "cell_type": "code",
   "execution_count": null,
   "id": "93a0be55-2eb1-4497-90b3-c5a2c621d55e",
   "metadata": {},
   "outputs": [],
   "source": []
  }
 ],
 "metadata": {
  "kernelspec": {
   "display_name": "Python 3 (ipykernel)",
   "language": "python",
   "name": "python3"
  },
  "language_info": {
   "codemirror_mode": {
    "name": "ipython",
    "version": 3
   },
   "file_extension": ".py",
   "mimetype": "text/x-python",
   "name": "python",
   "nbconvert_exporter": "python",
   "pygments_lexer": "ipython3",
   "version": "3.11.9"
  }
 },
 "nbformat": 4,
 "nbformat_minor": 5
}
